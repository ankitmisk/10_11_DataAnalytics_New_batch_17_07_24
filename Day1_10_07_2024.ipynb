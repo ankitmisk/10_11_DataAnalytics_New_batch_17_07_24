{
 "cells": [
  {
   "cell_type": "code",
   "execution_count": 1,
   "id": "e088be48",
   "metadata": {},
   "outputs": [],
   "source": [
    "# string\n",
    "# float\n",
    "# int\n",
    "# complex\n",
    "# tuple\n",
    "# list\n",
    "# set\n",
    "# dict"
   ]
  },
  {
   "cell_type": "code",
   "execution_count": 2,
   "id": "fcd78efc",
   "metadata": {},
   "outputs": [],
   "source": [
    "# List data type"
   ]
  },
  {
   "cell_type": "code",
   "execution_count": 3,
   "id": "290fdf03",
   "metadata": {},
   "outputs": [
    {
     "name": "stdout",
     "output_type": "stream",
     "text": [
      "<class 'list'>\n"
     ]
    }
   ],
   "source": [
    "number = [1,234,2122,33,23,45,4324]\n",
    "print(type(number))"
   ]
  },
  {
   "cell_type": "code",
   "execution_count": 4,
   "id": "8a8754a8",
   "metadata": {},
   "outputs": [],
   "source": [
    "# list is mutable in nature\n",
    "# we can change element/elements of a list\n",
    "# list also support item assignment"
   ]
  },
  {
   "cell_type": "code",
   "execution_count": 5,
   "id": "4d7d27b3",
   "metadata": {},
   "outputs": [
    {
     "data": {
      "text/plain": [
       "7"
      ]
     },
     "execution_count": 5,
     "metadata": {},
     "output_type": "execute_result"
    }
   ],
   "source": [
    "len(number)"
   ]
  },
  {
   "cell_type": "code",
   "execution_count": 6,
   "id": "5f258b91",
   "metadata": {},
   "outputs": [],
   "source": [
    "# list can contain any data type"
   ]
  },
  {
   "cell_type": "code",
   "execution_count": 12,
   "id": "5201457f",
   "metadata": {},
   "outputs": [
    {
     "name": "stdout",
     "output_type": "stream",
     "text": [
      "[23, 45.6, 'Ajay', (1243, 5), [1, 234, 5], {1, 234, 5}, True]\n"
     ]
    }
   ],
   "source": [
    "a = [23,45.6,'Ajay',(1243,5),[1,234,5],{1,234,5},True]\n",
    "print(a)"
   ]
  },
  {
   "cell_type": "code",
   "execution_count": 13,
   "id": "77cd344d",
   "metadata": {},
   "outputs": [
    {
     "name": "stdout",
     "output_type": "stream",
     "text": [
      "<class 'list'>\n"
     ]
    }
   ],
   "source": [
    "print(type(a))"
   ]
  },
  {
   "cell_type": "code",
   "execution_count": 10,
   "id": "8396efa5",
   "metadata": {},
   "outputs": [],
   "source": [
    "# bool data type:- True False"
   ]
  },
  {
   "cell_type": "code",
   "execution_count": 11,
   "id": "57224fd1",
   "metadata": {},
   "outputs": [
    {
     "name": "stdout",
     "output_type": "stream",
     "text": [
      "<class 'bool'>\n"
     ]
    }
   ],
   "source": [
    "b = True\n",
    "print(type(b))"
   ]
  },
  {
   "cell_type": "code",
   "execution_count": 14,
   "id": "891ebd6f",
   "metadata": {},
   "outputs": [],
   "source": [
    "# we can create nested list"
   ]
  },
  {
   "cell_type": "code",
   "execution_count": 15,
   "id": "b75eb081",
   "metadata": {},
   "outputs": [
    {
     "name": "stdout",
     "output_type": "stream",
     "text": [
      "[21, 34, 56, [1, 234, 56, [12, 34, 67]]]\n"
     ]
    }
   ],
   "source": [
    "my_data = [21,34,56,[1,234,56,[12,34,67]]]\n",
    "print(my_data)"
   ]
  },
  {
   "cell_type": "code",
   "execution_count": null,
   "id": "590bf615",
   "metadata": {},
   "outputs": [],
   "source": []
  },
  {
   "cell_type": "code",
   "execution_count": 16,
   "id": "f5811ce4",
   "metadata": {},
   "outputs": [
    {
     "name": "stdout",
     "output_type": "stream",
     "text": [
      "[]\n"
     ]
    }
   ],
   "source": [
    "# empty list\n",
    "\n",
    "empty = []\n",
    "\n",
    "print(empty)"
   ]
  },
  {
   "cell_type": "code",
   "execution_count": 17,
   "id": "0820c623",
   "metadata": {},
   "outputs": [
    {
     "name": "stdout",
     "output_type": "stream",
     "text": [
      "[]\n"
     ]
    }
   ],
   "source": [
    "data = list()\n",
    "\n",
    "print(data)"
   ]
  },
  {
   "cell_type": "code",
   "execution_count": 18,
   "id": "1132942b",
   "metadata": {},
   "outputs": [
    {
     "name": "stdout",
     "output_type": "stream",
     "text": [
      "0\n"
     ]
    }
   ],
   "source": [
    "print(len(data))"
   ]
  },
  {
   "cell_type": "code",
   "execution_count": 19,
   "id": "7ddc621e",
   "metadata": {},
   "outputs": [
    {
     "name": "stdout",
     "output_type": "stream",
     "text": [
      "0\n"
     ]
    }
   ],
   "source": [
    "print(len(empty))"
   ]
  },
  {
   "cell_type": "code",
   "execution_count": 20,
   "id": "e5b9377e",
   "metadata": {},
   "outputs": [],
   "source": [
    "# some basic operations with list"
   ]
  },
  {
   "cell_type": "code",
   "execution_count": 22,
   "id": "88615b9b",
   "metadata": {},
   "outputs": [
    {
     "name": "stdout",
     "output_type": "stream",
     "text": [
      "[1, 234, 56, 12, 34, 567, 1, 234, 56, 7]\n"
     ]
    }
   ],
   "source": [
    "a = [1,234,56]\n",
    "b = [12,34,567]\n",
    "c = [1,234,56,7]\n",
    "print(a + b + c)"
   ]
  },
  {
   "cell_type": "code",
   "execution_count": 23,
   "id": "14531e91",
   "metadata": {},
   "outputs": [
    {
     "ename": "TypeError",
     "evalue": "unsupported operand type(s) for -: 'list' and 'list'",
     "output_type": "error",
     "traceback": [
      "\u001b[1;31m---------------------------------------------------------------------------\u001b[0m",
      "\u001b[1;31mTypeError\u001b[0m                                 Traceback (most recent call last)",
      "Cell \u001b[1;32mIn[23], line 5\u001b[0m\n\u001b[0;32m      2\u001b[0m b \u001b[38;5;241m=\u001b[39m [\u001b[38;5;241m12\u001b[39m,\u001b[38;5;241m34\u001b[39m,\u001b[38;5;241m567\u001b[39m]\n\u001b[0;32m      3\u001b[0m c \u001b[38;5;241m=\u001b[39m [\u001b[38;5;241m1\u001b[39m,\u001b[38;5;241m234\u001b[39m,\u001b[38;5;241m56\u001b[39m,\u001b[38;5;241m7\u001b[39m]\n\u001b[1;32m----> 5\u001b[0m \u001b[38;5;28mprint\u001b[39m(a \u001b[38;5;241m-\u001b[39m b )\n",
      "\u001b[1;31mTypeError\u001b[0m: unsupported operand type(s) for -: 'list' and 'list'"
     ]
    }
   ],
   "source": [
    "a = [1,234,56]\n",
    "b = [12,34,567]\n",
    "c = [1,234,56,7]\n",
    "\n",
    "print(a - b )"
   ]
  },
  {
   "cell_type": "code",
   "execution_count": 26,
   "id": "06eb77d1",
   "metadata": {},
   "outputs": [
    {
     "name": "stdout",
     "output_type": "stream",
     "text": [
      "[1, 234, 56, 1, 234, 56, 1, 234, 56, 1, 234, 56, 1, 234, 56]\n"
     ]
    }
   ],
   "source": [
    "a = [1,234,56]\n",
    "\n",
    "print(a * 5)"
   ]
  },
  {
   "cell_type": "code",
   "execution_count": null,
   "id": "3f19c2a4",
   "metadata": {},
   "outputs": [],
   "source": []
  },
  {
   "cell_type": "code",
   "execution_count": 27,
   "id": "39a094ac",
   "metadata": {},
   "outputs": [
    {
     "ename": "TypeError",
     "evalue": "can't multiply sequence by non-int of type 'float'",
     "output_type": "error",
     "traceback": [
      "\u001b[1;31m---------------------------------------------------------------------------\u001b[0m",
      "\u001b[1;31mTypeError\u001b[0m                                 Traceback (most recent call last)",
      "Cell \u001b[1;32mIn[27], line 3\u001b[0m\n\u001b[0;32m      1\u001b[0m a \u001b[38;5;241m=\u001b[39m [\u001b[38;5;241m1\u001b[39m,\u001b[38;5;241m234\u001b[39m,\u001b[38;5;241m56\u001b[39m]\n\u001b[1;32m----> 3\u001b[0m \u001b[38;5;28mprint\u001b[39m(a \u001b[38;5;241m*\u001b[39m \u001b[38;5;241m5.0\u001b[39m)\n",
      "\u001b[1;31mTypeError\u001b[0m: can't multiply sequence by non-int of type 'float'"
     ]
    }
   ],
   "source": [
    "a = [1,234,56]\n",
    "\n",
    "print(a * 5.0)"
   ]
  },
  {
   "cell_type": "code",
   "execution_count": null,
   "id": "0ac6b9a4",
   "metadata": {},
   "outputs": [],
   "source": []
  },
  {
   "cell_type": "code",
   "execution_count": null,
   "id": "80cc6826",
   "metadata": {},
   "outputs": [],
   "source": []
  },
  {
   "cell_type": "code",
   "execution_count": 28,
   "id": "ca185c7c",
   "metadata": {},
   "outputs": [
    {
     "ename": "TypeError",
     "evalue": "can't multiply sequence by non-int of type 'complex'",
     "output_type": "error",
     "traceback": [
      "\u001b[1;31m---------------------------------------------------------------------------\u001b[0m",
      "\u001b[1;31mTypeError\u001b[0m                                 Traceback (most recent call last)",
      "Cell \u001b[1;32mIn[28], line 3\u001b[0m\n\u001b[0;32m      1\u001b[0m a \u001b[38;5;241m=\u001b[39m [\u001b[38;5;241m1\u001b[39m,\u001b[38;5;241m234\u001b[39m,\u001b[38;5;241m56\u001b[39m]\n\u001b[1;32m----> 3\u001b[0m \u001b[38;5;28mprint\u001b[39m(a \u001b[38;5;241m*\u001b[39m (\u001b[38;5;241m5\u001b[39m\u001b[38;5;241m+\u001b[39m\u001b[38;5;241m8\u001b[39mj))\n",
      "\u001b[1;31mTypeError\u001b[0m: can't multiply sequence by non-int of type 'complex'"
     ]
    }
   ],
   "source": [
    "a = [1,234,56]\n",
    "\n",
    "print(a * (5+8j))"
   ]
  },
  {
   "cell_type": "code",
   "execution_count": 29,
   "id": "3ac6a1ff",
   "metadata": {},
   "outputs": [
    {
     "ename": "TypeError",
     "evalue": "unsupported operand type(s) for /: 'list' and 'int'",
     "output_type": "error",
     "traceback": [
      "\u001b[1;31m---------------------------------------------------------------------------\u001b[0m",
      "\u001b[1;31mTypeError\u001b[0m                                 Traceback (most recent call last)",
      "Cell \u001b[1;32mIn[29], line 3\u001b[0m\n\u001b[0;32m      1\u001b[0m a \u001b[38;5;241m=\u001b[39m [\u001b[38;5;241m1\u001b[39m,\u001b[38;5;241m243\u001b[39m,\u001b[38;5;241m456\u001b[39m]\n\u001b[1;32m----> 3\u001b[0m \u001b[38;5;28mprint\u001b[39m(a \u001b[38;5;241m/\u001b[39m \u001b[38;5;241m6\u001b[39m)\n",
      "\u001b[1;31mTypeError\u001b[0m: unsupported operand type(s) for /: 'list' and 'int'"
     ]
    }
   ],
   "source": [
    "a = [1,243,456]\n",
    "\n",
    "print(a / 6)"
   ]
  },
  {
   "cell_type": "code",
   "execution_count": 30,
   "id": "098a78cb",
   "metadata": {},
   "outputs": [],
   "source": [
    "# h/w\n",
    "# **\n",
    "# %\n",
    "# /\n",
    "# //\n"
   ]
  },
  {
   "cell_type": "code",
   "execution_count": 31,
   "id": "d3f3fb7f",
   "metadata": {},
   "outputs": [
    {
     "name": "stdout",
     "output_type": "stream",
     "text": [
      "279\n"
     ]
    }
   ],
   "source": [
    "a = 234\n",
    "b = 45\n",
    "\n",
    "print(a + b)"
   ]
  },
  {
   "cell_type": "code",
   "execution_count": null,
   "id": "6c1133cc",
   "metadata": {},
   "outputs": [],
   "source": []
  },
  {
   "cell_type": "code",
   "execution_count": 33,
   "id": "a21ae991",
   "metadata": {},
   "outputs": [],
   "source": [
    "# list item assignment support"
   ]
  },
  {
   "cell_type": "code",
   "execution_count": 34,
   "id": "97930ad8",
   "metadata": {},
   "outputs": [],
   "source": [
    "# indexing\n",
    "# slicing"
   ]
  },
  {
   "cell_type": "code",
   "execution_count": 36,
   "id": "5be442d4",
   "metadata": {},
   "outputs": [
    {
     "name": "stdout",
     "output_type": "stream",
     "text": [
      "w\n"
     ]
    }
   ],
   "source": [
    "a = 'sarwan'\n",
    "#      012345\n",
    "#            -6-5-4-3-2-1\n",
    "        \n",
    "print(a[3])"
   ]
  },
  {
   "cell_type": "code",
   "execution_count": 37,
   "id": "d5f1c16c",
   "metadata": {},
   "outputs": [
    {
     "name": "stdout",
     "output_type": "stream",
     "text": [
      "w\n"
     ]
    }
   ],
   "source": [
    "print(a[-3])"
   ]
  },
  {
   "cell_type": "code",
   "execution_count": 39,
   "id": "66814dc9",
   "metadata": {},
   "outputs": [
    {
     "name": "stdout",
     "output_type": "stream",
     "text": [
      "r\n",
      "r\n"
     ]
    }
   ],
   "source": [
    "print(a[2])\n",
    "print(a[-4])"
   ]
  },
  {
   "cell_type": "code",
   "execution_count": 40,
   "id": "90edb187",
   "metadata": {},
   "outputs": [
    {
     "data": {
      "text/plain": [
       "34"
      ]
     },
     "execution_count": 40,
     "metadata": {},
     "output_type": "execute_result"
    }
   ],
   "source": [
    "data = [1,23,4312,34,54,3256,78]\n",
    "\n",
    "\n",
    "data[3]"
   ]
  },
  {
   "cell_type": "code",
   "execution_count": 41,
   "id": "8833c833",
   "metadata": {},
   "outputs": [
    {
     "data": {
      "text/plain": [
       "34"
      ]
     },
     "execution_count": 41,
     "metadata": {},
     "output_type": "execute_result"
    }
   ],
   "source": [
    "data[-4]"
   ]
  },
  {
   "cell_type": "code",
   "execution_count": 42,
   "id": "977b9ee0",
   "metadata": {},
   "outputs": [
    {
     "data": {
      "text/plain": [
       "True"
      ]
     },
     "execution_count": 42,
     "metadata": {},
     "output_type": "execute_result"
    }
   ],
   "source": [
    "data[3] == data[-4]"
   ]
  },
  {
   "cell_type": "code",
   "execution_count": 43,
   "id": "53cc9f65",
   "metadata": {},
   "outputs": [
    {
     "data": {
      "text/plain": [
       "3256"
      ]
     },
     "execution_count": 43,
     "metadata": {},
     "output_type": "execute_result"
    }
   ],
   "source": [
    "data[5]"
   ]
  },
  {
   "cell_type": "code",
   "execution_count": 44,
   "id": "f62eec6e",
   "metadata": {},
   "outputs": [
    {
     "data": {
      "text/plain": [
       "3256"
      ]
     },
     "execution_count": 44,
     "metadata": {},
     "output_type": "execute_result"
    }
   ],
   "source": [
    "data[-2]"
   ]
  },
  {
   "cell_type": "code",
   "execution_count": 45,
   "id": "c1bca0ba",
   "metadata": {},
   "outputs": [],
   "source": [
    "# slicing"
   ]
  },
  {
   "cell_type": "code",
   "execution_count": 46,
   "id": "3dadc642",
   "metadata": {},
   "outputs": [
    {
     "name": "stdout",
     "output_type": "stream",
     "text": [
      "arwa\n"
     ]
    }
   ],
   "source": [
    "a = 'sarwan'\n",
    "\n",
    "print(a[1:5])"
   ]
  },
  {
   "cell_type": "code",
   "execution_count": 47,
   "id": "c9a0aa7c",
   "metadata": {},
   "outputs": [
    {
     "name": "stdout",
     "output_type": "stream",
     "text": [
      "sarwa\n"
     ]
    }
   ],
   "source": [
    "print(a[0:5])"
   ]
  },
  {
   "cell_type": "code",
   "execution_count": 48,
   "id": "040cade4",
   "metadata": {},
   "outputs": [
    {
     "name": "stdout",
     "output_type": "stream",
     "text": [
      "sarwa\n"
     ]
    }
   ],
   "source": [
    "print(a[:5])"
   ]
  },
  {
   "cell_type": "code",
   "execution_count": 49,
   "id": "e4beffe3",
   "metadata": {},
   "outputs": [
    {
     "data": {
      "text/plain": [
       "'sarwan'"
      ]
     },
     "execution_count": 49,
     "metadata": {},
     "output_type": "execute_result"
    }
   ],
   "source": [
    "a"
   ]
  },
  {
   "cell_type": "code",
   "execution_count": 50,
   "id": "889748d7",
   "metadata": {},
   "outputs": [
    {
     "name": "stdout",
     "output_type": "stream",
     "text": [
      "sarwan\n"
     ]
    }
   ],
   "source": [
    "print(a[0:6])"
   ]
  },
  {
   "cell_type": "code",
   "execution_count": 51,
   "id": "85f0e3bf",
   "metadata": {},
   "outputs": [
    {
     "name": "stdout",
     "output_type": "stream",
     "text": [
      "sarwan\n"
     ]
    }
   ],
   "source": [
    "print(a[:6])"
   ]
  },
  {
   "cell_type": "code",
   "execution_count": 52,
   "id": "1bbddcb7",
   "metadata": {},
   "outputs": [
    {
     "name": "stdout",
     "output_type": "stream",
     "text": [
      "sarwan\n"
     ]
    }
   ],
   "source": [
    "print(a[:])"
   ]
  },
  {
   "cell_type": "code",
   "execution_count": 53,
   "id": "a1ebc0e6",
   "metadata": {},
   "outputs": [],
   "source": [
    "a = 'This is my python class'"
   ]
  },
  {
   "cell_type": "code",
   "execution_count": 55,
   "id": "ec5925d5",
   "metadata": {},
   "outputs": [
    {
     "data": {
      "text/plain": [
       "'This is my python class'"
      ]
     },
     "execution_count": 55,
     "metadata": {},
     "output_type": "execute_result"
    }
   ],
   "source": [
    "a[::1]"
   ]
  },
  {
   "cell_type": "code",
   "execution_count": 56,
   "id": "8802decf",
   "metadata": {},
   "outputs": [
    {
     "data": {
      "text/plain": [
       "'Ti sm yhncas'"
      ]
     },
     "execution_count": 56,
     "metadata": {},
     "output_type": "execute_result"
    }
   ],
   "source": [
    "a[::2]"
   ]
  },
  {
   "cell_type": "code",
   "execution_count": 58,
   "id": "786950df",
   "metadata": {},
   "outputs": [],
   "source": [
    "# a[start:stop:skip]\n",
    "# a[start:stop:step]"
   ]
  },
  {
   "cell_type": "code",
   "execution_count": null,
   "id": "77476525",
   "metadata": {},
   "outputs": [],
   "source": []
  },
  {
   "cell_type": "code",
   "execution_count": null,
   "id": "04535faf",
   "metadata": {},
   "outputs": [],
   "source": []
  },
  {
   "cell_type": "code",
   "execution_count": 59,
   "id": "ffe41b99",
   "metadata": {},
   "outputs": [
    {
     "data": {
      "text/plain": [
       "[23, 4312, 34, 54, 3256]"
      ]
     },
     "execution_count": 59,
     "metadata": {},
     "output_type": "execute_result"
    }
   ],
   "source": [
    "data = [1,23,4312,34,54,3256,78]\n",
    "\n",
    "data[1:6]"
   ]
  },
  {
   "cell_type": "code",
   "execution_count": 60,
   "id": "f5ee6721",
   "metadata": {},
   "outputs": [
    {
     "data": {
      "text/plain": [
       "[1, 4312, 54, 78]"
      ]
     },
     "execution_count": 60,
     "metadata": {},
     "output_type": "execute_result"
    }
   ],
   "source": [
    "data[::2]"
   ]
  },
  {
   "cell_type": "code",
   "execution_count": 61,
   "id": "118a328f",
   "metadata": {},
   "outputs": [],
   "source": [
    "# item assignment"
   ]
  },
  {
   "cell_type": "code",
   "execution_count": 62,
   "id": "187e4662",
   "metadata": {},
   "outputs": [
    {
     "data": {
      "text/plain": [
       "56"
      ]
     },
     "execution_count": 62,
     "metadata": {},
     "output_type": "execute_result"
    }
   ],
   "source": [
    "a = [1,24,13,4,56,4,32,567,76,5324,5467]\n",
    "\n",
    "a[4]"
   ]
  },
  {
   "cell_type": "code",
   "execution_count": 63,
   "id": "7e4320cb",
   "metadata": {},
   "outputs": [],
   "source": [
    "a[4] = 420"
   ]
  },
  {
   "cell_type": "code",
   "execution_count": 64,
   "id": "3ca7c58f",
   "metadata": {},
   "outputs": [
    {
     "name": "stdout",
     "output_type": "stream",
     "text": [
      "[1, 24, 13, 4, 420, 4, 32, 567, 76, 5324, 5467]\n"
     ]
    }
   ],
   "source": [
    "print(a)"
   ]
  },
  {
   "cell_type": "code",
   "execution_count": 66,
   "id": "539994ce",
   "metadata": {},
   "outputs": [],
   "source": [
    "a[7] = 5"
   ]
  },
  {
   "cell_type": "code",
   "execution_count": 67,
   "id": "fd40b805",
   "metadata": {},
   "outputs": [
    {
     "name": "stdout",
     "output_type": "stream",
     "text": [
      "[1, 24, 13, 4, 420, 4, 32, 5, 76, 5324, 5467]\n"
     ]
    }
   ],
   "source": [
    "print(a)"
   ]
  },
  {
   "cell_type": "code",
   "execution_count": 70,
   "id": "a9f72f94",
   "metadata": {},
   "outputs": [],
   "source": [
    "a[4:8] = [10,20,30,40]"
   ]
  },
  {
   "cell_type": "code",
   "execution_count": 71,
   "id": "13a1999a",
   "metadata": {},
   "outputs": [
    {
     "name": "stdout",
     "output_type": "stream",
     "text": [
      "[1, 24, 13, 4, 10, 20, 30, 40, 76, 5324, 5467]\n"
     ]
    }
   ],
   "source": [
    "print(a)"
   ]
  },
  {
   "cell_type": "code",
   "execution_count": 73,
   "id": "b83a11c3",
   "metadata": {},
   "outputs": [],
   "source": [
    "a[-2] = 9876543456789097"
   ]
  },
  {
   "cell_type": "code",
   "execution_count": 74,
   "id": "0dd7fa97",
   "metadata": {},
   "outputs": [
    {
     "name": "stdout",
     "output_type": "stream",
     "text": [
      "[1, 24, 13, 4, 10, 20, 30, 40, 76, 9876543456789097, 5467]\n"
     ]
    }
   ],
   "source": [
    "print(a)"
   ]
  },
  {
   "cell_type": "code",
   "execution_count": 75,
   "id": "98f91944",
   "metadata": {},
   "outputs": [],
   "source": [
    "# reverse list"
   ]
  },
  {
   "cell_type": "code",
   "execution_count": 76,
   "id": "9007ca3c",
   "metadata": {},
   "outputs": [
    {
     "name": "stdout",
     "output_type": "stream",
     "text": [
      "[1, 23, 52, 345, 6567, 434]\n"
     ]
    }
   ],
   "source": [
    "a = [1,23,52,345,6567,434]\n",
    "\n",
    "print(a)"
   ]
  },
  {
   "cell_type": "code",
   "execution_count": 77,
   "id": "d7d56fdf",
   "metadata": {},
   "outputs": [
    {
     "data": {
      "text/plain": [
       "[434, 6567, 345, 52, 23, 1]"
      ]
     },
     "execution_count": 77,
     "metadata": {},
     "output_type": "execute_result"
    }
   ],
   "source": [
    "a[::-1]"
   ]
  },
  {
   "cell_type": "code",
   "execution_count": 78,
   "id": "7ec71bb7",
   "metadata": {},
   "outputs": [],
   "source": [
    "# nested list pe item assignment"
   ]
  },
  {
   "cell_type": "code",
   "execution_count": 79,
   "id": "51474969",
   "metadata": {},
   "outputs": [
    {
     "name": "stdout",
     "output_type": "stream",
     "text": [
      "[1, 23, 23, 12, [1, 23, 34, [1, 23432, 5]]]\n"
     ]
    }
   ],
   "source": [
    "a = [1,23,23,12,[1,23,34,[1,23432,5]]]\n",
    "\n",
    "print(a)"
   ]
  },
  {
   "cell_type": "code",
   "execution_count": 82,
   "id": "e6605204",
   "metadata": {},
   "outputs": [
    {
     "data": {
      "text/plain": [
       "23432"
      ]
     },
     "execution_count": 82,
     "metadata": {},
     "output_type": "execute_result"
    }
   ],
   "source": [
    "a[4][3][1]"
   ]
  },
  {
   "cell_type": "code",
   "execution_count": 83,
   "id": "65fe96a0",
   "metadata": {},
   "outputs": [],
   "source": [
    "a[4][3][1] = 420"
   ]
  },
  {
   "cell_type": "code",
   "execution_count": 84,
   "id": "d9401654",
   "metadata": {},
   "outputs": [
    {
     "name": "stdout",
     "output_type": "stream",
     "text": [
      "[1, 23, 23, 12, [1, 23, 34, [1, 420, 5]]]\n"
     ]
    }
   ],
   "source": [
    "print(a)"
   ]
  },
  {
   "cell_type": "code",
   "execution_count": 87,
   "id": "f5f08b5d",
   "metadata": {},
   "outputs": [],
   "source": [
    "a[4][2] = 7656789"
   ]
  },
  {
   "cell_type": "code",
   "execution_count": 88,
   "id": "bbcfa5b7",
   "metadata": {},
   "outputs": [
    {
     "name": "stdout",
     "output_type": "stream",
     "text": [
      "[1, 23, 23, 12, [1, 23, 7656789, [1, 420, 5]]]\n"
     ]
    }
   ],
   "source": [
    "print(a)"
   ]
  },
  {
   "cell_type": "code",
   "execution_count": null,
   "id": "c4baf72f",
   "metadata": {},
   "outputs": [],
   "source": []
  },
  {
   "cell_type": "code",
   "execution_count": 92,
   "id": "77f7eab1",
   "metadata": {},
   "outputs": [],
   "source": [
    "data = [1,24,123,43,[1,234,231,[1,23432,4,[12,4324,[12,43,5],[12,32,4]]]]]"
   ]
  },
  {
   "cell_type": "code",
   "execution_count": 93,
   "id": "43d80c15",
   "metadata": {},
   "outputs": [
    {
     "name": "stdout",
     "output_type": "stream",
     "text": [
      "[1, 24, 123, 43, [1, 234, 231, [1, 23432, 4, [12, 4324, [12, 43, 5], [12, 32, 4]]]]]\n"
     ]
    }
   ],
   "source": [
    "print(data)"
   ]
  },
  {
   "cell_type": "code",
   "execution_count": 99,
   "id": "f2e4265a",
   "metadata": {},
   "outputs": [],
   "source": [
    "data[4][3][3][2][0] = 987898765"
   ]
  },
  {
   "cell_type": "code",
   "execution_count": 101,
   "id": "2fb40b5b",
   "metadata": {},
   "outputs": [
    {
     "name": "stdout",
     "output_type": "stream",
     "text": [
      "[1, 24, 123, 43, [1, 234, 231, [1, 23432, 4, [12, 4324, [987898765, 43, 5], [12, 32, 4]]]]]\n"
     ]
    }
   ],
   "source": [
    "print(data)"
   ]
  },
  {
   "cell_type": "code",
   "execution_count": 109,
   "id": "387c39f1",
   "metadata": {},
   "outputs": [],
   "source": [
    "data[4][3][3][3][-1] = 400"
   ]
  },
  {
   "cell_type": "code",
   "execution_count": 110,
   "id": "181ac6f3",
   "metadata": {},
   "outputs": [
    {
     "name": "stdout",
     "output_type": "stream",
     "text": [
      "[1, 24, 123, 43, [1, 234, 231, [1, 23432, 4, [12, 4324, [987898765, 43, 5], [12, 32, 400]]]]]\n"
     ]
    }
   ],
   "source": [
    "print(data)"
   ]
  },
  {
   "cell_type": "code",
   "execution_count": null,
   "id": "5be66fc4",
   "metadata": {},
   "outputs": [],
   "source": []
  }
 ],
 "metadata": {
  "kernelspec": {
   "display_name": "Python 3 (ipykernel)",
   "language": "python",
   "name": "python3"
  },
  "language_info": {
   "codemirror_mode": {
    "name": "ipython",
    "version": 3
   },
   "file_extension": ".py",
   "mimetype": "text/x-python",
   "name": "python",
   "nbconvert_exporter": "python",
   "pygments_lexer": "ipython3",
   "version": "3.11.3"
  }
 },
 "nbformat": 4,
 "nbformat_minor": 5
}
