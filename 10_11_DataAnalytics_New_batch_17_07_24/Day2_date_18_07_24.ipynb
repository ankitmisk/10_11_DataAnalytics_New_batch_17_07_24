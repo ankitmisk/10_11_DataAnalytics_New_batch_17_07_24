{
 "cells": [
  {
   "cell_type": "markdown",
   "id": "a2ef6c66",
   "metadata": {},
   "source": [
    "# List methods"
   ]
  },
  {
   "cell_type": "code",
   "execution_count": 1,
   "id": "569f969e",
   "metadata": {},
   "outputs": [
    {
     "name": "stdout",
     "output_type": "stream",
     "text": [
      "[1, 243, 56, 67]\n"
     ]
    }
   ],
   "source": [
    "data = [1,243,56,67]\n",
    "\n",
    "print(data)"
   ]
  },
  {
   "cell_type": "code",
   "execution_count": 2,
   "id": "915ce0e9",
   "metadata": {},
   "outputs": [
    {
     "name": "stdout",
     "output_type": "stream",
     "text": [
      "['__add__', '__class__', '__class_getitem__', '__contains__', '__delattr__', '__delitem__', '__dir__', '__doc__', '__eq__', '__format__', '__ge__', '__getattribute__', '__getitem__', '__getstate__', '__gt__', '__hash__', '__iadd__', '__imul__', '__init__', '__init_subclass__', '__iter__', '__le__', '__len__', '__lt__', '__mul__', '__ne__', '__new__', '__reduce__', '__reduce_ex__', '__repr__', '__reversed__', '__rmul__', '__setattr__', '__setitem__', '__sizeof__', '__str__', '__subclasshook__', 'append', 'clear', 'copy', 'count', 'extend', 'index', 'insert', 'pop', 'remove', 'reverse', 'sort']\n"
     ]
    }
   ],
   "source": [
    "print(dir(list))"
   ]
  },
  {
   "cell_type": "code",
   "execution_count": 3,
   "id": "e123a12e",
   "metadata": {},
   "outputs": [],
   "source": [
    "all_methods = ['append', 'clear', 'copy', 'count', 'extend', 'index', 'insert', 'pop', 'remove', 'reverse', 'sort']"
   ]
  },
  {
   "cell_type": "code",
   "execution_count": 4,
   "id": "92e3a999",
   "metadata": {},
   "outputs": [
    {
     "name": "stdout",
     "output_type": "stream",
     "text": [
      "['append', 'clear', 'copy', 'count', 'extend', 'index', 'insert', 'pop', 'remove', 'reverse', 'sort']\n"
     ]
    }
   ],
   "source": [
    "print(all_methods)"
   ]
  },
  {
   "cell_type": "code",
   "execution_count": 5,
   "id": "5c134a9e",
   "metadata": {},
   "outputs": [
    {
     "name": "stdout",
     "output_type": "stream",
     "text": [
      "11\n"
     ]
    }
   ],
   "source": [
    "print(len(all_methods))"
   ]
  },
  {
   "cell_type": "markdown",
   "id": "16adbefe",
   "metadata": {},
   "source": [
    "# Append:- in case you wants to add element in last index"
   ]
  },
  {
   "cell_type": "code",
   "execution_count": 6,
   "id": "501c80a0",
   "metadata": {},
   "outputs": [
    {
     "name": "stdout",
     "output_type": "stream",
     "text": [
      "[12, 34, 454, 3, 45]\n"
     ]
    }
   ],
   "source": [
    "data = [12,34,454,3,45]\n",
    "\n",
    "print(data)"
   ]
  },
  {
   "cell_type": "code",
   "execution_count": 7,
   "id": "476b2d5d",
   "metadata": {},
   "outputs": [],
   "source": [
    "data.append(100)"
   ]
  },
  {
   "cell_type": "code",
   "execution_count": 8,
   "id": "26574477",
   "metadata": {},
   "outputs": [
    {
     "name": "stdout",
     "output_type": "stream",
     "text": [
      "[12, 34, 454, 3, 45, 100]\n"
     ]
    }
   ],
   "source": [
    "print(data)"
   ]
  },
  {
   "cell_type": "code",
   "execution_count": 9,
   "id": "7dfb581a",
   "metadata": {},
   "outputs": [],
   "source": [
    "students = ['jatin','karan','naman']"
   ]
  },
  {
   "cell_type": "code",
   "execution_count": 10,
   "id": "bf3678b3",
   "metadata": {},
   "outputs": [
    {
     "name": "stdout",
     "output_type": "stream",
     "text": [
      "['jatin', 'karan', 'naman']\n"
     ]
    }
   ],
   "source": [
    "print(students)"
   ]
  },
  {
   "cell_type": "code",
   "execution_count": 11,
   "id": "3f7183b2",
   "metadata": {},
   "outputs": [],
   "source": [
    "students.append('Sarwan')"
   ]
  },
  {
   "cell_type": "code",
   "execution_count": 12,
   "id": "b2864184",
   "metadata": {},
   "outputs": [
    {
     "name": "stdout",
     "output_type": "stream",
     "text": [
      "['jatin', 'karan', 'naman', 'Sarwan']\n"
     ]
    }
   ],
   "source": [
    "print(students)"
   ]
  },
  {
   "cell_type": "code",
   "execution_count": 13,
   "id": "6f2a926c",
   "metadata": {},
   "outputs": [],
   "source": [
    "students.append(['kiran','komal'])"
   ]
  },
  {
   "cell_type": "code",
   "execution_count": 14,
   "id": "86b1a0fd",
   "metadata": {},
   "outputs": [
    {
     "name": "stdout",
     "output_type": "stream",
     "text": [
      "['jatin', 'karan', 'naman', 'Sarwan', ['kiran', 'komal']]\n"
     ]
    }
   ],
   "source": [
    "print(students)"
   ]
  },
  {
   "cell_type": "code",
   "execution_count": 15,
   "id": "2b08fd3b",
   "metadata": {},
   "outputs": [
    {
     "ename": "TypeError",
     "evalue": "list.append() takes exactly one argument (2 given)",
     "output_type": "error",
     "traceback": [
      "\u001b[1;31m---------------------------------------------------------------------------\u001b[0m",
      "\u001b[1;31mTypeError\u001b[0m                                 Traceback (most recent call last)",
      "Cell \u001b[1;32mIn[15], line 1\u001b[0m\n\u001b[1;32m----> 1\u001b[0m students\u001b[38;5;241m.\u001b[39mappend(\u001b[38;5;124m'\u001b[39m\u001b[38;5;124mlucky\u001b[39m\u001b[38;5;124m'\u001b[39m,\u001b[38;5;124m'\u001b[39m\u001b[38;5;124mmohit\u001b[39m\u001b[38;5;124m'\u001b[39m)\n",
      "\u001b[1;31mTypeError\u001b[0m: list.append() takes exactly one argument (2 given)"
     ]
    }
   ],
   "source": [
    "students.append('lucky','mohit')"
   ]
  },
  {
   "cell_type": "code",
   "execution_count": null,
   "id": "28572708",
   "metadata": {},
   "outputs": [],
   "source": []
  },
  {
   "cell_type": "markdown",
   "id": "015b091f",
   "metadata": {},
   "source": [
    "# clear"
   ]
  },
  {
   "cell_type": "code",
   "execution_count": 16,
   "id": "0cbcf0ab",
   "metadata": {},
   "outputs": [
    {
     "data": {
      "text/plain": [
       "['jatin', 'karan', 'naman', 'Sarwan', ['kiran', 'komal']]"
      ]
     },
     "execution_count": 16,
     "metadata": {},
     "output_type": "execute_result"
    }
   ],
   "source": [
    "students"
   ]
  },
  {
   "cell_type": "code",
   "execution_count": 17,
   "id": "b3852fb0",
   "metadata": {},
   "outputs": [],
   "source": [
    "students.clear()"
   ]
  },
  {
   "cell_type": "code",
   "execution_count": 18,
   "id": "ee7a6498",
   "metadata": {},
   "outputs": [
    {
     "name": "stdout",
     "output_type": "stream",
     "text": [
      "[]\n"
     ]
    }
   ],
   "source": [
    "print(students)"
   ]
  },
  {
   "cell_type": "code",
   "execution_count": 19,
   "id": "2f052918",
   "metadata": {},
   "outputs": [
    {
     "data": {
      "text/plain": [
       "[12, 34, 454, 3, 45, 100]"
      ]
     },
     "execution_count": 19,
     "metadata": {},
     "output_type": "execute_result"
    }
   ],
   "source": [
    "data"
   ]
  },
  {
   "cell_type": "code",
   "execution_count": 20,
   "id": "2660efe9",
   "metadata": {},
   "outputs": [],
   "source": [
    "data.clear()"
   ]
  },
  {
   "cell_type": "code",
   "execution_count": 21,
   "id": "cb7df532",
   "metadata": {},
   "outputs": [
    {
     "name": "stdout",
     "output_type": "stream",
     "text": [
      "[]\n"
     ]
    }
   ],
   "source": [
    "print(data)"
   ]
  },
  {
   "cell_type": "markdown",
   "id": "b45055e1",
   "metadata": {},
   "source": [
    "# 'copy'"
   ]
  },
  {
   "cell_type": "code",
   "execution_count": 22,
   "id": "fda7688a",
   "metadata": {},
   "outputs": [],
   "source": [
    "yash = [100,200]\n",
    "\n",
    "ankush = yash"
   ]
  },
  {
   "cell_type": "code",
   "execution_count": 23,
   "id": "f73906f1",
   "metadata": {},
   "outputs": [
    {
     "name": "stdout",
     "output_type": "stream",
     "text": [
      "[100, 200]\n"
     ]
    }
   ],
   "source": [
    "print(yash)"
   ]
  },
  {
   "cell_type": "code",
   "execution_count": 24,
   "id": "173f547b",
   "metadata": {},
   "outputs": [
    {
     "name": "stdout",
     "output_type": "stream",
     "text": [
      "[100, 200]\n"
     ]
    }
   ],
   "source": [
    "print(ankush)"
   ]
  },
  {
   "cell_type": "code",
   "execution_count": 25,
   "id": "a357d64b",
   "metadata": {},
   "outputs": [],
   "source": [
    "# deep copy"
   ]
  },
  {
   "cell_type": "code",
   "execution_count": 26,
   "id": "9382c062",
   "metadata": {},
   "outputs": [],
   "source": [
    "yash.append(1000)"
   ]
  },
  {
   "cell_type": "code",
   "execution_count": 27,
   "id": "7f9e25c9",
   "metadata": {},
   "outputs": [
    {
     "name": "stdout",
     "output_type": "stream",
     "text": [
      "[100, 200, 1000]\n"
     ]
    }
   ],
   "source": [
    "print(yash)"
   ]
  },
  {
   "cell_type": "code",
   "execution_count": 28,
   "id": "006e3cc4",
   "metadata": {},
   "outputs": [
    {
     "name": "stdout",
     "output_type": "stream",
     "text": [
      "[100, 200, 1000]\n"
     ]
    }
   ],
   "source": [
    "print(ankush)"
   ]
  },
  {
   "cell_type": "code",
   "execution_count": 29,
   "id": "b4514e82",
   "metadata": {},
   "outputs": [],
   "source": [
    "# copy method:- shallow copy object"
   ]
  },
  {
   "cell_type": "code",
   "execution_count": 30,
   "id": "bd0cdaed",
   "metadata": {},
   "outputs": [],
   "source": [
    "karan = [1,2,43,35]\n",
    "\n",
    "uday = karan.copy()"
   ]
  },
  {
   "cell_type": "code",
   "execution_count": 31,
   "id": "a2cbcf46",
   "metadata": {},
   "outputs": [
    {
     "name": "stdout",
     "output_type": "stream",
     "text": [
      "[1, 2, 43, 35]\n"
     ]
    }
   ],
   "source": [
    "print(karan)"
   ]
  },
  {
   "cell_type": "code",
   "execution_count": 32,
   "id": "6a382d22",
   "metadata": {},
   "outputs": [
    {
     "name": "stdout",
     "output_type": "stream",
     "text": [
      "[1, 2, 43, 35]\n"
     ]
    }
   ],
   "source": [
    "print(uday)"
   ]
  },
  {
   "cell_type": "code",
   "execution_count": 33,
   "id": "5afcc554",
   "metadata": {},
   "outputs": [],
   "source": [
    "karan.append(1234567890)"
   ]
  },
  {
   "cell_type": "code",
   "execution_count": 34,
   "id": "fcda3ef6",
   "metadata": {},
   "outputs": [
    {
     "name": "stdout",
     "output_type": "stream",
     "text": [
      "[1, 2, 43, 35, 1234567890]\n"
     ]
    }
   ],
   "source": [
    "print(karan)"
   ]
  },
  {
   "cell_type": "code",
   "execution_count": 35,
   "id": "9153be54",
   "metadata": {},
   "outputs": [
    {
     "name": "stdout",
     "output_type": "stream",
     "text": [
      "[1, 2, 43, 35]\n"
     ]
    }
   ],
   "source": [
    "print(uday)"
   ]
  },
  {
   "cell_type": "code",
   "execution_count": 36,
   "id": "55b15b7b",
   "metadata": {},
   "outputs": [
    {
     "name": "stdout",
     "output_type": "stream",
     "text": [
      "['append', 'clear', 'copy', 'count', 'extend', 'index', 'insert', 'pop', 'remove', 'reverse', 'sort']\n"
     ]
    }
   ],
   "source": [
    "print(all_methods)"
   ]
  },
  {
   "cell_type": "code",
   "execution_count": 37,
   "id": "d06e2890",
   "metadata": {},
   "outputs": [
    {
     "name": "stdout",
     "output_type": "stream",
     "text": [
      "[1, 1, 1, 1, 1, 1, 2, 2, 2, 2, 2, 3, 3, 3, 33, 4, 4, 4, 4, 5, 5, 5, 5, 5, 6, 67, 67]\n"
     ]
    }
   ],
   "source": [
    "data = [1,1,1,1,1,1,2,2,2,2,2,3,3,3,33,4,4,4,4,5,5,5,5,5,6,67,67]\n",
    "\n",
    "\n",
    "print(data)"
   ]
  },
  {
   "cell_type": "code",
   "execution_count": 39,
   "id": "317e7f72",
   "metadata": {},
   "outputs": [
    {
     "name": "stdout",
     "output_type": "stream",
     "text": [
      "5\n"
     ]
    }
   ],
   "source": [
    "print(data.count(2))"
   ]
  },
  {
   "cell_type": "code",
   "execution_count": 41,
   "id": "f544c1c7",
   "metadata": {},
   "outputs": [
    {
     "name": "stdout",
     "output_type": "stream",
     "text": [
      "6\n"
     ]
    }
   ],
   "source": [
    "print(data.count(1))"
   ]
  },
  {
   "cell_type": "code",
   "execution_count": 42,
   "id": "a0914cc3",
   "metadata": {},
   "outputs": [],
   "source": [
    "students = ['karan','ravi','ajay','lucky']"
   ]
  },
  {
   "cell_type": "code",
   "execution_count": 43,
   "id": "052d4941",
   "metadata": {},
   "outputs": [
    {
     "name": "stdout",
     "output_type": "stream",
     "text": [
      "['karan', 'ravi', 'ajay', 'lucky']\n"
     ]
    }
   ],
   "source": [
    "print(students)"
   ]
  },
  {
   "cell_type": "code",
   "execution_count": 48,
   "id": "75fb9875",
   "metadata": {},
   "outputs": [],
   "source": [
    "students.append(['arun','akhil'])"
   ]
  },
  {
   "cell_type": "code",
   "execution_count": 46,
   "id": "b501a971",
   "metadata": {},
   "outputs": [],
   "source": [
    "students.extend(['yash','sarwan'])"
   ]
  },
  {
   "cell_type": "code",
   "execution_count": 47,
   "id": "c1927596",
   "metadata": {},
   "outputs": [
    {
     "name": "stdout",
     "output_type": "stream",
     "text": [
      "['karan', 'ravi', 'ajay', 'lucky', 'yash', 'sarwan']\n"
     ]
    }
   ],
   "source": [
    "print(students)"
   ]
  },
  {
   "cell_type": "code",
   "execution_count": 49,
   "id": "c7c6ff6c",
   "metadata": {},
   "outputs": [
    {
     "name": "stdout",
     "output_type": "stream",
     "text": [
      "['karan', 'ravi', 'ajay', 'lucky', 'yash', 'sarwan', ['arun', 'akhil']]\n"
     ]
    }
   ],
   "source": [
    "print(students)"
   ]
  },
  {
   "cell_type": "code",
   "execution_count": 50,
   "id": "f8b15a20",
   "metadata": {},
   "outputs": [],
   "source": [
    "students.extend(['komal','shivani'])"
   ]
  },
  {
   "cell_type": "code",
   "execution_count": 51,
   "id": "f1f5eb9b",
   "metadata": {},
   "outputs": [
    {
     "name": "stdout",
     "output_type": "stream",
     "text": [
      "['karan', 'ravi', 'ajay', 'lucky', 'yash', 'sarwan', ['arun', 'akhil'], 'komal', 'shivani']\n"
     ]
    }
   ],
   "source": [
    "print(students)"
   ]
  },
  {
   "cell_type": "markdown",
   "id": "f5368d2e",
   "metadata": {},
   "source": [
    "#  'index'"
   ]
  },
  {
   "cell_type": "code",
   "execution_count": 54,
   "id": "0585617d",
   "metadata": {},
   "outputs": [
    {
     "name": "stdout",
     "output_type": "stream",
     "text": [
      "['karan', 'ravi', 'ajay', 'lucky', 'yash', 'sarwan', ['arun', 'akhil'], 'komal', 'shivani']\n"
     ]
    }
   ],
   "source": [
    "print(students)"
   ]
  },
  {
   "cell_type": "code",
   "execution_count": 55,
   "id": "33fb7518",
   "metadata": {},
   "outputs": [
    {
     "data": {
      "text/plain": [
       "'sarwan'"
      ]
     },
     "execution_count": 55,
     "metadata": {},
     "output_type": "execute_result"
    }
   ],
   "source": [
    "students[5]"
   ]
  },
  {
   "cell_type": "code",
   "execution_count": 56,
   "id": "32a24eca",
   "metadata": {},
   "outputs": [
    {
     "data": {
      "text/plain": [
       "5"
      ]
     },
     "execution_count": 56,
     "metadata": {},
     "output_type": "execute_result"
    }
   ],
   "source": [
    "students.index('sarwan')"
   ]
  },
  {
   "cell_type": "code",
   "execution_count": 57,
   "id": "c8402730",
   "metadata": {},
   "outputs": [
    {
     "data": {
      "text/plain": [
       "8"
      ]
     },
     "execution_count": 57,
     "metadata": {},
     "output_type": "execute_result"
    }
   ],
   "source": [
    "students.index('shivani')"
   ]
  },
  {
   "cell_type": "code",
   "execution_count": 58,
   "id": "4c733807",
   "metadata": {},
   "outputs": [
    {
     "ename": "ValueError",
     "evalue": "'Shivani' is not in list",
     "output_type": "error",
     "traceback": [
      "\u001b[1;31m---------------------------------------------------------------------------\u001b[0m",
      "\u001b[1;31mValueError\u001b[0m                                Traceback (most recent call last)",
      "Cell \u001b[1;32mIn[58], line 1\u001b[0m\n\u001b[1;32m----> 1\u001b[0m students\u001b[38;5;241m.\u001b[39mindex(\u001b[38;5;124m'\u001b[39m\u001b[38;5;124mShivani\u001b[39m\u001b[38;5;124m'\u001b[39m)\n",
      "\u001b[1;31mValueError\u001b[0m: 'Shivani' is not in list"
     ]
    }
   ],
   "source": [
    "students.index('Shivani')"
   ]
  },
  {
   "cell_type": "code",
   "execution_count": 59,
   "id": "5b69d5a1",
   "metadata": {},
   "outputs": [
    {
     "data": {
      "text/plain": [
       "6"
      ]
     },
     "execution_count": 59,
     "metadata": {},
     "output_type": "execute_result"
    }
   ],
   "source": [
    "students.index( ['arun', 'akhil'])"
   ]
  },
  {
   "cell_type": "code",
   "execution_count": 60,
   "id": "21d2d02d",
   "metadata": {},
   "outputs": [
    {
     "data": {
      "text/plain": [
       "['arun', 'akhil']"
      ]
     },
     "execution_count": 60,
     "metadata": {},
     "output_type": "execute_result"
    }
   ],
   "source": [
    "students[6]"
   ]
  },
  {
   "cell_type": "code",
   "execution_count": 61,
   "id": "b7077e2d",
   "metadata": {},
   "outputs": [
    {
     "name": "stdout",
     "output_type": "stream",
     "text": [
      "['append', 'clear', 'copy', 'count', 'extend', 'index', 'insert', 'pop', 'remove', 'reverse', 'sort']\n"
     ]
    }
   ],
   "source": [
    "print(all_methods)"
   ]
  },
  {
   "cell_type": "markdown",
   "id": "d7c53992",
   "metadata": {},
   "source": [
    "# insert"
   ]
  },
  {
   "cell_type": "code",
   "execution_count": 62,
   "id": "03e62cc6",
   "metadata": {
    "scrolled": true
   },
   "outputs": [
    {
     "name": "stdout",
     "output_type": "stream",
     "text": [
      "['karan', 'ravi', 'ajay', 'lucky', 'yash', 'sarwan', ['arun', 'akhil'], 'komal', 'shivani']\n"
     ]
    }
   ],
   "source": [
    "print(students)"
   ]
  },
  {
   "cell_type": "code",
   "execution_count": 63,
   "id": "096a2b52",
   "metadata": {},
   "outputs": [
    {
     "data": {
      "text/plain": [
       "4"
      ]
     },
     "execution_count": 63,
     "metadata": {},
     "output_type": "execute_result"
    }
   ],
   "source": [
    "students.index('yash')"
   ]
  },
  {
   "cell_type": "code",
   "execution_count": 64,
   "id": "18749f83",
   "metadata": {},
   "outputs": [],
   "source": [
    "students.insert(5,'Ankush')"
   ]
  },
  {
   "cell_type": "code",
   "execution_count": 65,
   "id": "13c18798",
   "metadata": {},
   "outputs": [
    {
     "name": "stdout",
     "output_type": "stream",
     "text": [
      "['karan', 'ravi', 'ajay', 'lucky', 'yash', 'Ankush', 'sarwan', ['arun', 'akhil'], 'komal', 'shivani']\n"
     ]
    }
   ],
   "source": [
    "print(students)"
   ]
  },
  {
   "cell_type": "code",
   "execution_count": 66,
   "id": "e87f1543",
   "metadata": {},
   "outputs": [
    {
     "data": {
      "text/plain": [
       "9"
      ]
     },
     "execution_count": 66,
     "metadata": {},
     "output_type": "execute_result"
    }
   ],
   "source": [
    "students.index('shivani')"
   ]
  },
  {
   "cell_type": "code",
   "execution_count": 67,
   "id": "a0b4b32b",
   "metadata": {},
   "outputs": [],
   "source": [
    "students.insert(9,'Python')"
   ]
  },
  {
   "cell_type": "code",
   "execution_count": 68,
   "id": "7bbceb4f",
   "metadata": {},
   "outputs": [
    {
     "name": "stdout",
     "output_type": "stream",
     "text": [
      "['karan', 'ravi', 'ajay', 'lucky', 'yash', 'Ankush', 'sarwan', ['arun', 'akhil'], 'komal', 'Python', 'shivani']\n"
     ]
    }
   ],
   "source": [
    "print(students)"
   ]
  },
  {
   "cell_type": "code",
   "execution_count": 69,
   "id": "7c54a445",
   "metadata": {},
   "outputs": [],
   "source": [
    "students.insert(0,'Java')"
   ]
  },
  {
   "cell_type": "code",
   "execution_count": 70,
   "id": "fb95d3a1",
   "metadata": {},
   "outputs": [
    {
     "name": "stdout",
     "output_type": "stream",
     "text": [
      "['Java', 'karan', 'ravi', 'ajay', 'lucky', 'yash', 'Ankush', 'sarwan', ['arun', 'akhil'], 'komal', 'Python', 'shivani']\n"
     ]
    }
   ],
   "source": [
    "print(students)"
   ]
  },
  {
   "cell_type": "code",
   "execution_count": null,
   "id": "f63e6bb5",
   "metadata": {},
   "outputs": [],
   "source": []
  },
  {
   "cell_type": "code",
   "execution_count": null,
   "id": "3f160af2",
   "metadata": {},
   "outputs": [],
   "source": []
  },
  {
   "cell_type": "code",
   "execution_count": 71,
   "id": "ed2f9671",
   "metadata": {},
   "outputs": [],
   "source": [
    "# 'pop', 'remove', 'reverse', 'sort'"
   ]
  },
  {
   "cell_type": "markdown",
   "id": "038eba08",
   "metadata": {},
   "source": [
    "# Pop"
   ]
  },
  {
   "cell_type": "code",
   "execution_count": 73,
   "id": "b968e20c",
   "metadata": {},
   "outputs": [
    {
     "name": "stdout",
     "output_type": "stream",
     "text": [
      "[12, 34, 32, 34, 567, 64324, 46]\n"
     ]
    }
   ],
   "source": [
    "var = [12,34,32,34,567,64324,46]\n",
    "print(var)"
   ]
  },
  {
   "cell_type": "code",
   "execution_count": 74,
   "id": "cdbbc098",
   "metadata": {},
   "outputs": [
    {
     "data": {
      "text/plain": [
       "34"
      ]
     },
     "execution_count": 74,
     "metadata": {},
     "output_type": "execute_result"
    }
   ],
   "source": [
    "var.pop(3)"
   ]
  },
  {
   "cell_type": "code",
   "execution_count": 75,
   "id": "6b6c4c13",
   "metadata": {},
   "outputs": [
    {
     "name": "stdout",
     "output_type": "stream",
     "text": [
      "[12, 34, 32, 567, 64324, 46]\n"
     ]
    }
   ],
   "source": [
    "print(var)"
   ]
  },
  {
   "cell_type": "code",
   "execution_count": 76,
   "id": "5cb4147f",
   "metadata": {},
   "outputs": [
    {
     "data": {
      "text/plain": [
       "64324"
      ]
     },
     "execution_count": 76,
     "metadata": {},
     "output_type": "execute_result"
    }
   ],
   "source": [
    "var.pop(-2)"
   ]
  },
  {
   "cell_type": "code",
   "execution_count": 77,
   "id": "5003b36d",
   "metadata": {},
   "outputs": [
    {
     "name": "stdout",
     "output_type": "stream",
     "text": [
      "[12, 34, 32, 567, 46]\n"
     ]
    }
   ],
   "source": [
    "print(var)"
   ]
  },
  {
   "cell_type": "code",
   "execution_count": 79,
   "id": "8da89489",
   "metadata": {},
   "outputs": [
    {
     "data": {
      "text/plain": [
       "567"
      ]
     },
     "execution_count": 79,
     "metadata": {},
     "output_type": "execute_result"
    }
   ],
   "source": [
    "var.pop()"
   ]
  },
  {
   "cell_type": "code",
   "execution_count": 80,
   "id": "e3375018",
   "metadata": {},
   "outputs": [
    {
     "name": "stdout",
     "output_type": "stream",
     "text": [
      "[12, 34, 32]\n"
     ]
    }
   ],
   "source": [
    "print(var)"
   ]
  },
  {
   "cell_type": "code",
   "execution_count": 81,
   "id": "ab9636e2",
   "metadata": {},
   "outputs": [
    {
     "name": "stdout",
     "output_type": "stream",
     "text": [
      "[1, 23, 321, 34543, 65, 453432, 3456, 78, 765, 432, 4547]\n"
     ]
    }
   ],
   "source": [
    "data = [1,23,321,34543,65,453432,3456,78,765,432,4547]\n",
    "\n",
    "print(data)"
   ]
  },
  {
   "cell_type": "code",
   "execution_count": 82,
   "id": "ecd546e7",
   "metadata": {},
   "outputs": [],
   "source": [
    "data.remove(453432)"
   ]
  },
  {
   "cell_type": "code",
   "execution_count": 83,
   "id": "1b945c3e",
   "metadata": {},
   "outputs": [
    {
     "name": "stdout",
     "output_type": "stream",
     "text": [
      "[1, 23, 321, 34543, 65, 3456, 78, 765, 432, 4547]\n"
     ]
    }
   ],
   "source": [
    "print(data)"
   ]
  },
  {
   "cell_type": "code",
   "execution_count": 84,
   "id": "bbd06919",
   "metadata": {},
   "outputs": [],
   "source": [
    "data.remove(34543)"
   ]
  },
  {
   "cell_type": "code",
   "execution_count": 85,
   "id": "41b83592",
   "metadata": {},
   "outputs": [
    {
     "name": "stdout",
     "output_type": "stream",
     "text": [
      "[1, 23, 321, 65, 3456, 78, 765, 432, 4547]\n"
     ]
    }
   ],
   "source": [
    "print(data)"
   ]
  },
  {
   "cell_type": "code",
   "execution_count": 86,
   "id": "239c240c",
   "metadata": {},
   "outputs": [
    {
     "ename": "ValueError",
     "evalue": "list.remove(x): x not in list",
     "output_type": "error",
     "traceback": [
      "\u001b[1;31m---------------------------------------------------------------------------\u001b[0m",
      "\u001b[1;31mValueError\u001b[0m                                Traceback (most recent call last)",
      "Cell \u001b[1;32mIn[86], line 1\u001b[0m\n\u001b[1;32m----> 1\u001b[0m data\u001b[38;5;241m.\u001b[39mremove(\u001b[38;5;241m1000\u001b[39m)\n",
      "\u001b[1;31mValueError\u001b[0m: list.remove(x): x not in list"
     ]
    }
   ],
   "source": [
    "data.remove(1000)"
   ]
  },
  {
   "cell_type": "code",
   "execution_count": null,
   "id": "cb6d3024",
   "metadata": {},
   "outputs": [],
   "source": []
  },
  {
   "cell_type": "code",
   "execution_count": null,
   "id": "9408dc33",
   "metadata": {},
   "outputs": [],
   "source": []
  },
  {
   "cell_type": "markdown",
   "id": "f557c442",
   "metadata": {},
   "source": [
    "# 'reverse'"
   ]
  },
  {
   "cell_type": "code",
   "execution_count": 87,
   "id": "191751cf",
   "metadata": {},
   "outputs": [
    {
     "name": "stdout",
     "output_type": "stream",
     "text": [
      "[1, 234, 4, 234, 56, 578]\n"
     ]
    }
   ],
   "source": [
    "a = [1,234,4,234,56,578]\n",
    "\n",
    "print(a)"
   ]
  },
  {
   "cell_type": "code",
   "execution_count": 88,
   "id": "40334a96",
   "metadata": {},
   "outputs": [
    {
     "name": "stdout",
     "output_type": "stream",
     "text": [
      "[578, 56, 234, 4, 234, 1]\n"
     ]
    }
   ],
   "source": [
    "rev = [578,56,234,4,234,1]\n",
    "print(rev)"
   ]
  },
  {
   "cell_type": "code",
   "execution_count": 90,
   "id": "97c99fbf",
   "metadata": {},
   "outputs": [
    {
     "name": "stdout",
     "output_type": "stream",
     "text": [
      "[1, 234, 4, 234, 56, 578]\n"
     ]
    }
   ],
   "source": [
    "print(a)"
   ]
  },
  {
   "cell_type": "code",
   "execution_count": 91,
   "id": "75563a5c",
   "metadata": {},
   "outputs": [],
   "source": [
    "a.reverse()"
   ]
  },
  {
   "cell_type": "code",
   "execution_count": 92,
   "id": "972995c1",
   "metadata": {},
   "outputs": [
    {
     "name": "stdout",
     "output_type": "stream",
     "text": [
      "[578, 56, 234, 4, 234, 1]\n"
     ]
    }
   ],
   "source": [
    "print(a)"
   ]
  },
  {
   "cell_type": "code",
   "execution_count": null,
   "id": "dd778c30",
   "metadata": {},
   "outputs": [],
   "source": []
  },
  {
   "cell_type": "markdown",
   "id": "e56ccc3b",
   "metadata": {},
   "source": [
    "# sort"
   ]
  },
  {
   "cell_type": "code",
   "execution_count": 93,
   "id": "321cc5cd",
   "metadata": {},
   "outputs": [
    {
     "name": "stdout",
     "output_type": "stream",
     "text": [
      "[1, 22, 3443, 24, 54, 54, 6, 76783, 45, 46]\n"
     ]
    }
   ],
   "source": [
    "data = [1,22,3443,24,54,54,6,76783,45,46]\n",
    "\n",
    "print(data)"
   ]
  },
  {
   "cell_type": "code",
   "execution_count": 94,
   "id": "7f1c6a41",
   "metadata": {},
   "outputs": [],
   "source": [
    "data.sort()"
   ]
  },
  {
   "cell_type": "code",
   "execution_count": 95,
   "id": "cea5572b",
   "metadata": {},
   "outputs": [
    {
     "name": "stdout",
     "output_type": "stream",
     "text": [
      "[1, 6, 22, 24, 45, 46, 54, 54, 3443, 76783]\n"
     ]
    }
   ],
   "source": [
    "print(data)"
   ]
  },
  {
   "cell_type": "code",
   "execution_count": null,
   "id": "6254c03e",
   "metadata": {},
   "outputs": [],
   "source": []
  },
  {
   "cell_type": "code",
   "execution_count": null,
   "id": "282f18dd",
   "metadata": {},
   "outputs": [],
   "source": []
  },
  {
   "cell_type": "code",
   "execution_count": null,
   "id": "e2b4d3fb",
   "metadata": {},
   "outputs": [],
   "source": []
  },
  {
   "cell_type": "code",
   "execution_count": 96,
   "id": "848d1c36",
   "metadata": {},
   "outputs": [
    {
     "name": "stdout",
     "output_type": "stream",
     "text": [
      "[1, 22, 3443, 24, 54, 54, 6, 76783, 45, 46]\n"
     ]
    }
   ],
   "source": [
    "data = [1,22,3443,24,54,54,6,76783,45,46]\n",
    "print(data)"
   ]
  },
  {
   "cell_type": "code",
   "execution_count": 97,
   "id": "132153d6",
   "metadata": {},
   "outputs": [],
   "source": [
    "data.sort(reverse=True)"
   ]
  },
  {
   "cell_type": "code",
   "execution_count": 98,
   "id": "7cfc4ab5",
   "metadata": {},
   "outputs": [
    {
     "name": "stdout",
     "output_type": "stream",
     "text": [
      "[76783, 3443, 54, 54, 46, 45, 24, 22, 6, 1]\n"
     ]
    }
   ],
   "source": [
    "print(data)"
   ]
  },
  {
   "cell_type": "code",
   "execution_count": null,
   "id": "50a0a6a9",
   "metadata": {},
   "outputs": [],
   "source": []
  },
  {
   "cell_type": "code",
   "execution_count": 99,
   "id": "73999f66",
   "metadata": {},
   "outputs": [
    {
     "name": "stdout",
     "output_type": "stream",
     "text": [
      "[2, 34, 345, 3245, 67, 345]\n"
     ]
    }
   ],
   "source": [
    "# reverse \n",
    "\n",
    "data = [2,34,345,3245,67,345]\n",
    "print(data)"
   ]
  },
  {
   "cell_type": "code",
   "execution_count": 100,
   "id": "786da64f",
   "metadata": {},
   "outputs": [
    {
     "data": {
      "text/plain": [
       "[345, 67, 3245, 345, 34, 2]"
      ]
     },
     "execution_count": 100,
     "metadata": {},
     "output_type": "execute_result"
    }
   ],
   "source": [
    "data[::-1]"
   ]
  },
  {
   "cell_type": "code",
   "execution_count": null,
   "id": "ca5b3ff3",
   "metadata": {},
   "outputs": [],
   "source": []
  },
  {
   "cell_type": "code",
   "execution_count": 101,
   "id": "14ce590b",
   "metadata": {},
   "outputs": [],
   "source": [
    "data = [1,243,42,34,21,343,'karan','lucky',543,565]"
   ]
  },
  {
   "cell_type": "code",
   "execution_count": 105,
   "id": "3e823ca6",
   "metadata": {},
   "outputs": [
    {
     "data": {
      "text/plain": [
       "'karan'"
      ]
     },
     "execution_count": 105,
     "metadata": {},
     "output_type": "execute_result"
    }
   ],
   "source": [
    "data.pop()"
   ]
  },
  {
   "cell_type": "code",
   "execution_count": 106,
   "id": "1d6cb768",
   "metadata": {},
   "outputs": [
    {
     "name": "stdout",
     "output_type": "stream",
     "text": [
      "[1, 243, 42, 34, 21, 343]\n"
     ]
    }
   ],
   "source": [
    "print(data)"
   ]
  },
  {
   "cell_type": "code",
   "execution_count": 107,
   "id": "111cbfbe",
   "metadata": {},
   "outputs": [
    {
     "data": {
      "text/plain": [
       "42"
      ]
     },
     "execution_count": 107,
     "metadata": {},
     "output_type": "execute_result"
    }
   ],
   "source": [
    "data.pop(2)"
   ]
  },
  {
   "cell_type": "code",
   "execution_count": 108,
   "id": "c65dabba",
   "metadata": {},
   "outputs": [
    {
     "name": "stdout",
     "output_type": "stream",
     "text": [
      "[1, 243, 34, 21, 343]\n"
     ]
    }
   ],
   "source": [
    "print(data)"
   ]
  },
  {
   "cell_type": "code",
   "execution_count": 109,
   "id": "7545bf16",
   "metadata": {},
   "outputs": [
    {
     "data": {
      "text/plain": [
       "34"
      ]
     },
     "execution_count": 109,
     "metadata": {},
     "output_type": "execute_result"
    }
   ],
   "source": [
    "data.pop(-3)"
   ]
  },
  {
   "cell_type": "code",
   "execution_count": 110,
   "id": "73abbefb",
   "metadata": {},
   "outputs": [
    {
     "name": "stdout",
     "output_type": "stream",
     "text": [
      "[1, 243, 21, 343]\n"
     ]
    }
   ],
   "source": [
    "print(data)"
   ]
  },
  {
   "cell_type": "code",
   "execution_count": null,
   "id": "e9a66571",
   "metadata": {},
   "outputs": [],
   "source": []
  }
 ],
 "metadata": {
  "kernelspec": {
   "display_name": "Python 3 (ipykernel)",
   "language": "python",
   "name": "python3"
  },
  "language_info": {
   "codemirror_mode": {
    "name": "ipython",
    "version": 3
   },
   "file_extension": ".py",
   "mimetype": "text/x-python",
   "name": "python",
   "nbconvert_exporter": "python",
   "pygments_lexer": "ipython3",
   "version": "3.11.3"
  }
 },
 "nbformat": 4,
 "nbformat_minor": 5
}
