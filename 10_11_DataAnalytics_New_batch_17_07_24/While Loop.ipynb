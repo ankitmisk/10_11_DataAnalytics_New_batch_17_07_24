{
 "cells": [
  {
   "cell_type": "code",
   "execution_count": 1,
   "id": "a14af638",
   "metadata": {},
   "outputs": [],
   "source": [
    "# for loop:- when we know the number of iterations\n",
    "\n",
    "# while loop:- when we want to run our loop based on condition/s\n",
    "\n",
    "# Infinite loop"
   ]
  },
  {
   "cell_type": "code",
   "execution_count": 2,
   "id": "598adec9",
   "metadata": {},
   "outputs": [],
   "source": [
    "# while (condition/conditions):\n",
    "#     code"
   ]
  },
  {
   "cell_type": "code",
   "execution_count": 6,
   "id": "6ee05f02",
   "metadata": {},
   "outputs": [],
   "source": [
    "# while True:\n",
    "#     code\n",
    "\n",
    "# while loop chala\n",
    "\n",
    "\n",
    "\n",
    "\n",
    "# hamesha True:- Infinite loop"
   ]
  },
  {
   "cell_type": "code",
   "execution_count": 5,
   "id": "1b0ccc15",
   "metadata": {},
   "outputs": [],
   "source": [
    "# while False:\n",
    "#     code\n",
    "\n",
    "# while loop nahi chala"
   ]
  },
  {
   "cell_type": "code",
   "execution_count": null,
   "id": "b52cfbe5",
   "metadata": {},
   "outputs": [],
   "source": []
  },
  {
   "cell_type": "code",
   "execution_count": null,
   "id": "575403ba",
   "metadata": {},
   "outputs": [],
   "source": []
  },
  {
   "cell_type": "code",
   "execution_count": 10,
   "id": "6c4de0d2",
   "metadata": {},
   "outputs": [
    {
     "name": "stdout",
     "output_type": "stream",
     "text": [
      "hello world\n",
      "hello world\n",
      "hello world\n",
      "hello world\n"
     ]
    }
   ],
   "source": [
    "# counter variable\n",
    "\n",
    "\n",
    "i = 1   # counter variable\n",
    "\n",
    "while i<=4:\n",
    "    print('hello world')\n",
    "    \n",
    "    i += 1"
   ]
  },
  {
   "cell_type": "code",
   "execution_count": 11,
   "id": "77a413e9",
   "metadata": {},
   "outputs": [],
   "source": [
    "# while True:- data iterate,infinite, break, continue, pass, else, oneliner while loop"
   ]
  },
  {
   "cell_type": "code",
   "execution_count": 12,
   "id": "396e5cb6",
   "metadata": {},
   "outputs": [],
   "source": [
    "# example"
   ]
  },
  {
   "cell_type": "code",
   "execution_count": 17,
   "id": "25113033",
   "metadata": {},
   "outputs": [
    {
     "name": "stdout",
     "output_type": "stream",
     "text": [
      "12\n",
      "43\n",
      "4312\n",
      "434\n",
      "5\n",
      "324\n",
      "56547\n"
     ]
    }
   ],
   "source": [
    "# iterate\n",
    "data = [12,43,4312,434,5,324,56547]\n",
    "\n",
    "i = 0\n",
    "\n",
    "import time\n",
    "\n",
    "while i<len(data):\n",
    "    print(data[i])\n",
    "    i +=1\n",
    "#     time.sleep(1)"
   ]
  },
  {
   "cell_type": "code",
   "execution_count": 25,
   "id": "9973e9c1",
   "metadata": {},
   "outputs": [
    {
     "name": "stdout",
     "output_type": "stream",
     "text": [
      "P_Y_T_H_O_N_ _I_S_ _A_W_E_S_O_M_E_"
     ]
    }
   ],
   "source": [
    "# iterate\n",
    "data = 'Python is awesome'\n",
    "\n",
    "i = 0\n",
    "\n",
    "import time\n",
    "\n",
    "while i<len(data):\n",
    "    print(data[i].upper(),end = '_')\n",
    "    i +=1"
   ]
  },
  {
   "cell_type": "code",
   "execution_count": null,
   "id": "a128ee8d",
   "metadata": {},
   "outputs": [],
   "source": []
  },
  {
   "cell_type": "code",
   "execution_count": 26,
   "id": "4b230770",
   "metadata": {},
   "outputs": [],
   "source": [
    "# while loop dictionary iterate"
   ]
  },
  {
   "cell_type": "code",
   "execution_count": 27,
   "id": "fa329759",
   "metadata": {},
   "outputs": [
    {
     "name": "stdout",
     "output_type": "stream",
     "text": [
      "{'name': 'mohan', 'address': 'noida', 'sec': 'a', 'Roll': 23, 'class': 12}\n"
     ]
    }
   ],
   "source": [
    "data = {'name':'mohan','address':'noida','sec':'a','Roll':23,'class':12}\n",
    "\n",
    "print(data)"
   ]
  },
  {
   "cell_type": "code",
   "execution_count": 33,
   "id": "f8b0b041",
   "metadata": {},
   "outputs": [
    {
     "name": "stdout",
     "output_type": "stream",
     "text": [
      "('name', 'mohan')\n",
      "('address', 'noida')\n",
      "('sec', 'a')\n",
      "('Roll', 23)\n",
      "('class', 12)\n"
     ]
    }
   ],
   "source": [
    "k = 0\n",
    "\n",
    "while k<len(data):\n",
    "    print(list(data.items())[k])\n",
    "    k+=1"
   ]
  },
  {
   "cell_type": "code",
   "execution_count": 38,
   "id": "99bb0737",
   "metadata": {},
   "outputs": [],
   "source": [
    "# list(data.items())[2]"
   ]
  },
  {
   "cell_type": "code",
   "execution_count": 39,
   "id": "ef75e297",
   "metadata": {},
   "outputs": [
    {
     "name": "stdout",
     "output_type": "stream",
     "text": [
      "name\n",
      "address\n",
      "sec\n",
      "Roll\n",
      "class\n"
     ]
    }
   ],
   "source": [
    "k = 0\n",
    "\n",
    "while k<len(data):\n",
    "    print(list(data.items())[k][0])\n",
    "    k+=1"
   ]
  },
  {
   "cell_type": "code",
   "execution_count": 40,
   "id": "f6b1775c",
   "metadata": {},
   "outputs": [
    {
     "name": "stdout",
     "output_type": "stream",
     "text": [
      "mohan\n",
      "noida\n",
      "a\n",
      "23\n",
      "12\n"
     ]
    }
   ],
   "source": [
    "k = 0\n",
    "\n",
    "while k<len(data):\n",
    "    print(list(data.items())[k][1])\n",
    "    k+=1"
   ]
  },
  {
   "cell_type": "code",
   "execution_count": 41,
   "id": "376c0dbf",
   "metadata": {},
   "outputs": [
    {
     "name": "stdout",
     "output_type": "stream",
     "text": [
      "('name', 'mohan')\n",
      "('address', 'noida')\n",
      "('sec', 'a')\n",
      "('Roll', 23)\n",
      "('class', 12)\n"
     ]
    }
   ],
   "source": [
    "k = 0\n",
    "\n",
    "while k<len(data):\n",
    "    print(list(data.items())[k])\n",
    "    k+=1"
   ]
  },
  {
   "cell_type": "code",
   "execution_count": null,
   "id": "cc9873e6",
   "metadata": {},
   "outputs": [],
   "source": []
  },
  {
   "cell_type": "code",
   "execution_count": 42,
   "id": "e32add08",
   "metadata": {},
   "outputs": [],
   "source": [
    "# table print with while loop"
   ]
  },
  {
   "cell_type": "code",
   "execution_count": 43,
   "id": "73e328cc",
   "metadata": {},
   "outputs": [],
   "source": [
    "# 2 x 1 = 2\n",
    "# 2 x 2 = 4"
   ]
  },
  {
   "cell_type": "code",
   "execution_count": 54,
   "id": "34f694ba",
   "metadata": {},
   "outputs": [
    {
     "name": "stdout",
     "output_type": "stream",
     "text": [
      "4 x 1 = 4\n",
      "4 x 2 = 8\n",
      "4 x 3 = 12\n",
      "4 x 4 = 16\n",
      "4 x 5 = 20\n",
      "4 x 6 = 24\n",
      "4 x 7 = 28\n",
      "4 x 8 = 32\n",
      "4 x 9 = 36\n",
      "4 x 10 = 40\n"
     ]
    }
   ],
   "source": [
    "i = 1\n",
    "table = 4\n",
    "\n",
    "while i<=10:\n",
    "    print(f\"{table} x {i} = {table*i}\")\n",
    "    i+=1"
   ]
  },
  {
   "cell_type": "code",
   "execution_count": 55,
   "id": "f15a3a86",
   "metadata": {},
   "outputs": [
    {
     "name": "stdout",
     "output_type": "stream",
     "text": [
      "4 x 1 = 4\n",
      "4 x 2 = 8\n",
      "4 x 3 = 12\n",
      "4 x 4 = 16\n",
      "4 x 5 = 20\n",
      "4 x 6 = 24\n",
      "4 x 7 = 28\n",
      "4 x 8 = 32\n",
      "4 x 9 = 36\n",
      "4 x 10 = 40\n"
     ]
    }
   ],
   "source": [
    "table = 4\n",
    "for i in range(1,11):\n",
    "    print(f\"{table} x {i} = {table*i}\")"
   ]
  },
  {
   "cell_type": "code",
   "execution_count": null,
   "id": "f8c077cf",
   "metadata": {},
   "outputs": [],
   "source": []
  },
  {
   "cell_type": "code",
   "execution_count": 56,
   "id": "5449fcea",
   "metadata": {},
   "outputs": [],
   "source": [
    "# break, contniue, pass"
   ]
  },
  {
   "cell_type": "code",
   "execution_count": 60,
   "id": "c04e7655",
   "metadata": {},
   "outputs": [],
   "source": [
    "# pass\n",
    "\n",
    "i = 0\n",
    "while i<5:\n",
    "    pass\n",
    "    i+=1"
   ]
  },
  {
   "cell_type": "code",
   "execution_count": 69,
   "id": "fe670869",
   "metadata": {},
   "outputs": [
    {
     "name": "stdout",
     "output_type": "stream",
     "text": [
      "1\n",
      "24\n",
      "23\n",
      "1234\n",
      "Done\n",
      "324\n",
      "36\n",
      "54532\n",
      "4\n"
     ]
    }
   ],
   "source": [
    "data = [1,24,23,1234,'karan',324,36,54532,4]\n",
    "\n",
    "\n",
    "i = 0\n",
    "\n",
    "while i<len(data):\n",
    "    if type(data[i]) == str:\n",
    "        pass    # just pass the iteration\n",
    "        print('Done')\n",
    "    else:\n",
    "        print(data[i])\n",
    "    i+=1"
   ]
  },
  {
   "cell_type": "code",
   "execution_count": 65,
   "id": "98692ff4",
   "metadata": {},
   "outputs": [],
   "source": [
    "# data"
   ]
  },
  {
   "cell_type": "code",
   "execution_count": 68,
   "id": "d0f41291",
   "metadata": {},
   "outputs": [
    {
     "name": "stdout",
     "output_type": "stream",
     "text": [
      "1\n",
      "24\n",
      "23\n",
      "1234\n"
     ]
    },
    {
     "ename": "KeyboardInterrupt",
     "evalue": "",
     "output_type": "error",
     "traceback": [
      "\u001b[1;31m---------------------------------------------------------------------------\u001b[0m",
      "\u001b[1;31mKeyboardInterrupt\u001b[0m                         Traceback (most recent call last)",
      "Cell \u001b[1;32mIn[68], line 8\u001b[0m\n\u001b[0;32m      6\u001b[0m \u001b[38;5;28;01mwhile\u001b[39;00m i\u001b[38;5;241m<\u001b[39m\u001b[38;5;28mlen\u001b[39m(data):\n\u001b[0;32m      7\u001b[0m     \u001b[38;5;28;01mif\u001b[39;00m \u001b[38;5;28mtype\u001b[39m(data[i]) \u001b[38;5;241m==\u001b[39m \u001b[38;5;28mstr\u001b[39m:\n\u001b[1;32m----> 8\u001b[0m         \u001b[38;5;28;01mcontinue\u001b[39;00m    \u001b[38;5;66;03m# skip the iteration\u001b[39;00m\n\u001b[0;32m      9\u001b[0m         \u001b[38;5;28mprint\u001b[39m(\u001b[38;5;124m'\u001b[39m\u001b[38;5;124mdone\u001b[39m\u001b[38;5;124m'\u001b[39m)\n\u001b[0;32m     10\u001b[0m     \u001b[38;5;28;01melse\u001b[39;00m:\n",
      "\u001b[1;31mKeyboardInterrupt\u001b[0m: "
     ]
    }
   ],
   "source": [
    "data = [1,24,23,1234,'karan',324,36,54532,4]\n",
    "\n",
    "\n",
    "i = 0\n",
    "\n",
    "while i<len(data):\n",
    "    if type(data[i]) == str:\n",
    "        continue    # skip the iteration\n",
    "        print('done')\n",
    "    else:\n",
    "        print(data[i])\n",
    "    i+=1"
   ]
  },
  {
   "cell_type": "code",
   "execution_count": 70,
   "id": "5c15e593",
   "metadata": {},
   "outputs": [
    {
     "name": "stdout",
     "output_type": "stream",
     "text": [
      "1\n",
      "24\n",
      "23\n",
      "1234\n",
      "324\n",
      "36\n",
      "54532\n",
      "4\n"
     ]
    }
   ],
   "source": [
    "data = [1,24,23,1234,'karan',324,36,54532,4]\n",
    "\n",
    "\n",
    "i = 0\n",
    "\n",
    "while i<len(data):\n",
    "    if type(data[i]) == str:\n",
    "        i += 1\n",
    "        continue    # skip the iteration\n",
    "    else:\n",
    "        print(data[i])\n",
    "    i+=1"
   ]
  },
  {
   "cell_type": "code",
   "execution_count": null,
   "id": "db43808e",
   "metadata": {},
   "outputs": [],
   "source": []
  },
  {
   "cell_type": "code",
   "execution_count": 74,
   "id": "34ee479c",
   "metadata": {},
   "outputs": [
    {
     "name": "stdout",
     "output_type": "stream",
     "text": [
      "you can go 12\n",
      "you can go 43\n",
      "you can go 312\n",
      "you can go 435\n",
      "Ohh No!! It's a Bomb!!! Boom💥\n"
     ]
    }
   ],
   "source": [
    "data = [12,43,312,435,'Bomb',2,34,432,5]\n",
    "\n",
    "i = 0\n",
    "\n",
    "while i<len(data):\n",
    "    if data[i] == 'Bomb':\n",
    "        print('Ohh No!! It\\'s a Bomb!!! Boom💥')\n",
    "        break\n",
    "    else:\n",
    "        print('you can go',data[i])\n",
    "    i+=1"
   ]
  },
  {
   "cell_type": "code",
   "execution_count": null,
   "id": "dae45259",
   "metadata": {},
   "outputs": [],
   "source": []
  },
  {
   "cell_type": "code",
   "execution_count": 75,
   "id": "f0c81edf",
   "metadata": {},
   "outputs": [],
   "source": [
    "# while True:- infinite loop"
   ]
  },
  {
   "cell_type": "code",
   "execution_count": 88,
   "id": "fe3d5ab4",
   "metadata": {},
   "outputs": [
    {
     "name": "stdout",
     "output_type": "stream",
     "text": [
      "guess a number: exit\n",
      "Bye!! Bye!!\n"
     ]
    }
   ],
   "source": [
    "import random \n",
    "\n",
    "while True:\n",
    "\n",
    "    n1 = random.randint(1,5)\n",
    "    n2 = random.randint(1,5)\n",
    "    n3 = random.randint(1,5)\n",
    "    \n",
    "    all_choice = [n1,n2,n3]\n",
    "    comp = random.choice(all_choice)\n",
    "    user = input('guess a number: ')\n",
    "    \n",
    "    if user.lower() in ['exit','e','bye','close']:\n",
    "        print('Bye!! Bye!!')\n",
    "        break\n",
    "    else:\n",
    "        user = int(user)\n",
    "        print('com pick: ',comp)\n",
    "        print('user guess: ',user)\n",
    "\n",
    "        if user == comp:\n",
    "            print('you are right!!')\n",
    "\n",
    "        else:\n",
    "            print('You are wrong!!')\n",
    "\n",
    "        display(clear = True)"
   ]
  },
  {
   "cell_type": "code",
   "execution_count": null,
   "id": "d6fbb75c",
   "metadata": {},
   "outputs": [],
   "source": []
  },
  {
   "cell_type": "code",
   "execution_count": 89,
   "id": "6463bb02",
   "metadata": {},
   "outputs": [],
   "source": [
    "import time"
   ]
  },
  {
   "cell_type": "code",
   "execution_count": 90,
   "id": "cb363672",
   "metadata": {},
   "outputs": [
    {
     "name": "stdout",
     "output_type": "stream",
     "text": [
      "Tue Aug 13 10:56:09 2024\n"
     ]
    }
   ],
   "source": [
    "print(time.asctime())"
   ]
  },
  {
   "cell_type": "code",
   "execution_count": 92,
   "id": "5e360cd6",
   "metadata": {},
   "outputs": [
    {
     "name": "stdout",
     "output_type": "stream",
     "text": [
      "Tue Aug 13 10:57:14 2024\n"
     ]
    },
    {
     "ename": "KeyboardInterrupt",
     "evalue": "",
     "output_type": "error",
     "traceback": [
      "\u001b[1;31m---------------------------------------------------------------------------\u001b[0m",
      "\u001b[1;31mKeyboardInterrupt\u001b[0m                         Traceback (most recent call last)",
      "Cell \u001b[1;32mIn[92], line 3\u001b[0m\n\u001b[0;32m      1\u001b[0m \u001b[38;5;28;01mwhile\u001b[39;00m \u001b[38;5;28;01mTrue\u001b[39;00m:\n\u001b[0;32m      2\u001b[0m     \u001b[38;5;28mprint\u001b[39m(time\u001b[38;5;241m.\u001b[39masctime())\n\u001b[1;32m----> 3\u001b[0m     time\u001b[38;5;241m.\u001b[39msleep(\u001b[38;5;241m1\u001b[39m)\n\u001b[0;32m      4\u001b[0m     display(clear\u001b[38;5;241m=\u001b[39m\u001b[38;5;28;01mTrue\u001b[39;00m)\n",
      "\u001b[1;31mKeyboardInterrupt\u001b[0m: "
     ]
    }
   ],
   "source": [
    "while True:\n",
    "    print(time.asctime())\n",
    "    time.sleep(1)\n",
    "    display(clear=True)"
   ]
  },
  {
   "cell_type": "code",
   "execution_count": 95,
   "id": "3675b616",
   "metadata": {},
   "outputs": [],
   "source": [
    "# h/w\n",
    "\n",
    "# download progress bar"
   ]
  },
  {
   "cell_type": "code",
   "execution_count": 96,
   "id": "f00d20d4",
   "metadata": {},
   "outputs": [],
   "source": [
    "# ...............................100%"
   ]
  },
  {
   "cell_type": "markdown",
   "id": "d5efab2c",
   "metadata": {},
   "source": [
    "# New Day"
   ]
  },
  {
   "cell_type": "code",
   "execution_count": 1,
   "id": "c043d77f",
   "metadata": {},
   "outputs": [],
   "source": [
    "# oneliner while loop\n",
    "# while loop with else\n",
    "# common element find"
   ]
  },
  {
   "cell_type": "code",
   "execution_count": 35,
   "id": "2746082c",
   "metadata": {},
   "outputs": [
    {
     "name": "stdout",
     "output_type": "stream",
     "text": [
      "Success:..................................................100%\n"
     ]
    }
   ],
   "source": [
    "# download progress bar\n",
    "import random\n",
    "import time\n",
    "\n",
    "i = 1\n",
    "\n",
    "while True:\n",
    "    data_downloaded = random.randint(1,20)\n",
    "    i += data_downloaded\n",
    "    print(f\"Downloading {data_downloaded} mbps: {'.'*(i//5)}{i}%\")\n",
    "    \n",
    "    if i>=100:\n",
    "        display(clear= True)\n",
    "        print(f\"Success:{'.'*50}{100}%\")\n",
    "        break\n",
    "    display(clear=True)\n",
    "    time.sleep(20/data_downloaded)\n",
    "    "
   ]
  },
  {
   "cell_type": "code",
   "execution_count": 36,
   "id": "8f33247f",
   "metadata": {},
   "outputs": [],
   "source": [
    "# ....5%\n",
    "\n",
    "# 20/20"
   ]
  },
  {
   "cell_type": "code",
   "execution_count": 37,
   "id": "411fc9ec",
   "metadata": {},
   "outputs": [],
   "source": [
    "#examples # common element find"
   ]
  },
  {
   "cell_type": "code",
   "execution_count": 39,
   "id": "b821cc03",
   "metadata": {},
   "outputs": [
    {
     "name": "stdout",
     "output_type": "stream",
     "text": [
      "[12, 43, 23]\n"
     ]
    }
   ],
   "source": [
    "a = [12,4,21,24,43,23,546]\n",
    "b = [12,43,421,343,23,56]\n",
    "\n",
    "\n",
    "common = []\n",
    "\n",
    "for i in a:\n",
    "    for j in b:\n",
    "        if i==j:\n",
    "            common.append(i)\n",
    "print(common)"
   ]
  },
  {
   "cell_type": "code",
   "execution_count": null,
   "id": "c9c2233b",
   "metadata": {},
   "outputs": [],
   "source": []
  },
  {
   "cell_type": "code",
   "execution_count": 47,
   "id": "2ea7afc9",
   "metadata": {},
   "outputs": [
    {
     "name": "stdout",
     "output_type": "stream",
     "text": [
      "[12, 43, 23]\n"
     ]
    }
   ],
   "source": [
    "a = [12,4,21,24,43,23,546]\n",
    "b = [12,43,421,343,23,56]\n",
    "\n",
    "common = []\n",
    "\n",
    "# nested while loop\n",
    "\n",
    "\n",
    "i = 0\n",
    "j = 0\n",
    "\n",
    "while i<len(a):\n",
    "    a_ke_element = a[i]\n",
    "    \n",
    "    while j<len(b):\n",
    "        b_ke_element = b[j]\n",
    "        \n",
    "        if a_ke_element == b_ke_element:\n",
    "            common.append(a_ke_element)\n",
    "        j+=1\n",
    "        \n",
    "    i+=1\n",
    "    j = 0\n",
    "    \n",
    "print(common)"
   ]
  },
  {
   "cell_type": "code",
   "execution_count": 49,
   "id": "4e1bed71",
   "metadata": {},
   "outputs": [
    {
     "name": "stdout",
     "output_type": "stream",
     "text": [
      "[43]\n"
     ]
    }
   ],
   "source": [
    "a = [12,4,21,24,43,23,546]\n",
    "b = [12,43,421,343,23,56]\n",
    "c = [34,5412,34,4657,43]\n",
    "\n",
    "common = []\n",
    "\n",
    "# nested while loop\n",
    "\n",
    "\n",
    "i = 0\n",
    "j = 0\n",
    "k = 0\n",
    "while i<len(a):\n",
    "    a_ke_element = a[i]\n",
    "    \n",
    "    while j<len(b):\n",
    "        b_ke_element = b[j]\n",
    "        \n",
    "        while k<len(c):\n",
    "            c_ke_element = c[k]\n",
    "            \n",
    "            if a_ke_element == b_ke_element == c_ke_element:\n",
    "                common.append(a_ke_element)\n",
    "            \n",
    "            k+=1\n",
    "        \n",
    "        j+=1\n",
    "        k = 0\n",
    "        \n",
    "    i+=1\n",
    "    j = 0\n",
    "    \n",
    "print(common)"
   ]
  },
  {
   "cell_type": "code",
   "execution_count": null,
   "id": "d09bf023",
   "metadata": {},
   "outputs": [],
   "source": []
  },
  {
   "cell_type": "code",
   "execution_count": null,
   "id": "fe3df2aa",
   "metadata": {},
   "outputs": [],
   "source": []
  },
  {
   "cell_type": "code",
   "execution_count": 50,
   "id": "d04b362f",
   "metadata": {},
   "outputs": [],
   "source": [
    "# while loop with else"
   ]
  },
  {
   "cell_type": "code",
   "execution_count": 51,
   "id": "b43c247c",
   "metadata": {},
   "outputs": [
    {
     "name": "stdout",
     "output_type": "stream",
     "text": [
      "1\n",
      "2\n",
      "3\n",
      "4\n",
      "5\n",
      "6\n",
      "7\n",
      "8\n",
      "9\n",
      "10\n"
     ]
    }
   ],
   "source": [
    "for i in range(1,11):\n",
    "    print(i)"
   ]
  },
  {
   "cell_type": "code",
   "execution_count": 54,
   "id": "b6e2e059",
   "metadata": {},
   "outputs": [
    {
     "name": "stdout",
     "output_type": "stream",
     "text": [
      "1\n",
      "2\n",
      "3\n",
      "4\n"
     ]
    }
   ],
   "source": [
    "for i in range(1,11):\n",
    "    if i == 5:\n",
    "        break\n",
    "    else:\n",
    "        print(i)\n",
    "        \n",
    "        \n",
    "else:\n",
    "    print('for loop run successfully without any break')"
   ]
  },
  {
   "cell_type": "code",
   "execution_count": 55,
   "id": "3551ebe9",
   "metadata": {},
   "outputs": [
    {
     "name": "stdout",
     "output_type": "stream",
     "text": [
      "1\n",
      "2\n",
      "3\n",
      "4\n",
      "6\n",
      "7\n",
      "8\n",
      "9\n",
      "10\n",
      "for loop run successfully without any break\n"
     ]
    }
   ],
   "source": [
    "for i in range(1,11):\n",
    "    if i == 5:\n",
    "        pass\n",
    "    else:\n",
    "        print(i)\n",
    "        \n",
    "        \n",
    "else:\n",
    "    print('for loop run successfully without any break')"
   ]
  },
  {
   "cell_type": "code",
   "execution_count": null,
   "id": "b65fc4ed",
   "metadata": {},
   "outputs": [],
   "source": []
  },
  {
   "cell_type": "code",
   "execution_count": null,
   "id": "0243aea3",
   "metadata": {},
   "outputs": [],
   "source": []
  },
  {
   "cell_type": "code",
   "execution_count": 59,
   "id": "68404931",
   "metadata": {},
   "outputs": [
    {
     "name": "stdout",
     "output_type": "stream",
     "text": [
      "1\n",
      "234\n",
      "3\n",
      "1243\n",
      "This is a bomb!! \n"
     ]
    }
   ],
   "source": [
    "data = [1,234,3,1243,'bomb',4,124,356]\n",
    "\n",
    "i = 0\n",
    "\n",
    "while i<len(data):\n",
    "    if data[i] == 'bomb':\n",
    "        print('This is a bomb!! ')\n",
    "        break\n",
    "    else:\n",
    "        print(data[i])\n",
    "    i+=1\n",
    "    \n",
    "        \n",
    "else:\n",
    "    print('while loop run successfully without any break')"
   ]
  },
  {
   "cell_type": "code",
   "execution_count": null,
   "id": "5c1d6873",
   "metadata": {},
   "outputs": [],
   "source": []
  },
  {
   "cell_type": "code",
   "execution_count": null,
   "id": "6bd894c0",
   "metadata": {},
   "outputs": [],
   "source": []
  },
  {
   "cell_type": "code",
   "execution_count": 60,
   "id": "e7399a41",
   "metadata": {},
   "outputs": [
    {
     "name": "stdout",
     "output_type": "stream",
     "text": [
      "1\n",
      "234\n",
      "3\n",
      "1243\n",
      "This is a bomb!! \n",
      "4\n",
      "124\n",
      "356\n",
      "while loop run successfully without any break\n"
     ]
    }
   ],
   "source": [
    "data = [1,234,3,1243,'bomb',4,124,356]\n",
    "\n",
    "i = 0\n",
    "\n",
    "while i<len(data):\n",
    "    if data[i] == 'bomb':\n",
    "        print('This is a bomb!! ')\n",
    "        pass\n",
    "    else:\n",
    "        print(data[i])\n",
    "    i+=1\n",
    "    \n",
    "        \n",
    "else:\n",
    "    print('while loop run successfully without any break')"
   ]
  },
  {
   "cell_type": "code",
   "execution_count": 61,
   "id": "e132a726",
   "metadata": {},
   "outputs": [],
   "source": [
    "# one liner while loop"
   ]
  },
  {
   "cell_type": "code",
   "execution_count": 66,
   "id": "fb3edcb4",
   "metadata": {},
   "outputs": [
    {
     "name": "stdout",
     "output_type": "stream",
     "text": [
      "Hello\n",
      "Hello\n",
      "Hello\n",
      "Hello\n",
      "Hello\n"
     ]
    },
    {
     "ename": "KeyboardInterrupt",
     "evalue": "",
     "output_type": "error",
     "traceback": [
      "\u001b[1;31m---------------------------------------------------------------------------\u001b[0m",
      "\u001b[1;31mKeyboardInterrupt\u001b[0m                         Traceback (most recent call last)",
      "Cell \u001b[1;32mIn[66], line 1\u001b[0m\n\u001b[1;32m----> 1\u001b[0m \u001b[38;5;28;01mwhile\u001b[39;00m \u001b[38;5;28;01mTrue\u001b[39;00m:\u001b[38;5;28mprint\u001b[39m(\u001b[38;5;124m'\u001b[39m\u001b[38;5;124mHello\u001b[39m\u001b[38;5;124m'\u001b[39m); time\u001b[38;5;241m.\u001b[39msleep(\u001b[38;5;241m1\u001b[39m)\n",
      "\u001b[1;31mKeyboardInterrupt\u001b[0m: "
     ]
    }
   ],
   "source": [
    "while True:print('Hello'); time.sleep(1)"
   ]
  },
  {
   "cell_type": "code",
   "execution_count": 72,
   "id": "435e7d36",
   "metadata": {},
   "outputs": [],
   "source": [
    "i = 0\n",
    "while True:print('Even',i) if i%2 == 0 else print('Odd',i); i+=1; time.sleep(1)"
   ]
  },
  {
   "cell_type": "code",
   "execution_count": null,
   "id": "37297442",
   "metadata": {},
   "outputs": [],
   "source": [
    "i = 0\n",
    "while True:\n",
    "    print('Even',i) if i%2 == 0 else print('Odd',i)\n",
    "    i+=1\n",
    "    time.sleep(1)"
   ]
  },
  {
   "cell_type": "code",
   "execution_count": null,
   "id": "9fd0d6cc",
   "metadata": {},
   "outputs": [],
   "source": [
    "# functions"
   ]
  }
 ],
 "metadata": {
  "kernelspec": {
   "display_name": "Python 3 (ipykernel)",
   "language": "python",
   "name": "python3"
  },
  "language_info": {
   "codemirror_mode": {
    "name": "ipython",
    "version": 3
   },
   "file_extension": ".py",
   "mimetype": "text/x-python",
   "name": "python",
   "nbconvert_exporter": "python",
   "pygments_lexer": "ipython3",
   "version": "3.11.3"
  }
 },
 "nbformat": 4,
 "nbformat_minor": 5
}
