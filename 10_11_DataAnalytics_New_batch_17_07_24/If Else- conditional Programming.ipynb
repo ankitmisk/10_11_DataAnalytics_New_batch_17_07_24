{
 "cells": [
  {
   "cell_type": "code",
   "execution_count": 1,
   "id": "56d49b4e",
   "metadata": {},
   "outputs": [],
   "source": [
    "# conditional Programming"
   ]
  },
  {
   "cell_type": "code",
   "execution_count": 3,
   "id": "653d6149",
   "metadata": {},
   "outputs": [
    {
     "name": "stdout",
     "output_type": "stream",
     "text": [
      "You can Vote!!\n"
     ]
    }
   ],
   "source": [
    "age = 23\n",
    "\n",
    "if (age>=18):\n",
    "    print('You can Vote!!')\n",
    "    \n",
    "else:\n",
    "    print('You can not Vote!!')"
   ]
  },
  {
   "cell_type": "code",
   "execution_count": 2,
   "id": "a42a9377",
   "metadata": {},
   "outputs": [
    {
     "data": {
      "text/plain": [
       "True"
      ]
     },
     "execution_count": 2,
     "metadata": {},
     "output_type": "execute_result"
    }
   ],
   "source": [
    "age = 23\n",
    "\n",
    "age>=18"
   ]
  },
  {
   "cell_type": "code",
   "execution_count": 4,
   "id": "ad911b61",
   "metadata": {},
   "outputs": [
    {
     "name": "stdout",
     "output_type": "stream",
     "text": [
      "You can not Vote!!\n"
     ]
    }
   ],
   "source": [
    "age = 12\n",
    "\n",
    "if (age>=18):\n",
    "    print('You can Vote!!')\n",
    "    \n",
    "else:\n",
    "    print('You can not Vote!!')"
   ]
  },
  {
   "cell_type": "code",
   "execution_count": 7,
   "id": "1e277e33",
   "metadata": {},
   "outputs": [],
   "source": [
    "# if condition/conditions:\n",
    "#     print(If code block)\n",
    "    \n",
    "# else:\n",
    "#     print(If If is wrong)\n",
    "#     print(else code block)"
   ]
  },
  {
   "cell_type": "code",
   "execution_count": null,
   "id": "ccd0db0e",
   "metadata": {},
   "outputs": [],
   "source": []
  },
  {
   "cell_type": "code",
   "execution_count": 8,
   "id": "e95e94f1",
   "metadata": {},
   "outputs": [],
   "source": [
    "# membership op : in, not in\n",
    "\n",
    "students = ['karan','ajay','komal','rachit','akshay','sarwan']\n",
    "\n"
   ]
  },
  {
   "cell_type": "code",
   "execution_count": 16,
   "id": "389beaf8",
   "metadata": {},
   "outputs": [
    {
     "name": "stdout",
     "output_type": "stream",
     "text": [
      "Enter your name: sarwan\n",
      "your name already exist!!\n"
     ]
    }
   ],
   "source": [
    "new_name = input('Enter your name: ')\n",
    "\n",
    "if new_name in students:\n",
    "    print('your name already exist!!')\n",
    "    \n",
    "else:\n",
    "    print('Your name added successfully!!')\n",
    "    students.append(new_name)"
   ]
  },
  {
   "cell_type": "code",
   "execution_count": 17,
   "id": "7c5bd5ee",
   "metadata": {},
   "outputs": [
    {
     "name": "stdout",
     "output_type": "stream",
     "text": [
      "['karan', 'ajay', 'komal', 'rachit', 'akshay', 'sarwan', 'naman', 'jatin', 'ankush', 'lakshay', 'gaurav']\n"
     ]
    }
   ],
   "source": [
    "print(students)"
   ]
  },
  {
   "cell_type": "code",
   "execution_count": null,
   "id": "cd1baf05",
   "metadata": {},
   "outputs": [],
   "source": []
  },
  {
   "cell_type": "code",
   "execution_count": 45,
   "id": "80ce5ce7",
   "metadata": {},
   "outputs": [
    {
     "name": "stdout",
     "output_type": "stream",
     "text": [
      "Guess a number (1 to 2): 2\n",
      "user choice:  2\n",
      "Computer choice:  2\n",
      "User Wins, computer Lose!!\n"
     ]
    }
   ],
   "source": [
    "# mini game\n",
    "\n",
    "import random\n",
    "\n",
    "comp_choice = random.randint(1,2)\n",
    "\n",
    "user_choice = int(input('Guess a number (1 to 2): '))\n",
    "\n",
    "\n",
    "print('user choice: ',user_choice)\n",
    "print('Computer choice: ',comp_choice)\n",
    "\n",
    "if comp_choice == user_choice:\n",
    "    print('User Wins, computer Lose!!')\n",
    "    \n",
    "else:\n",
    "    print('Computer wins user lose!!')"
   ]
  },
  {
   "cell_type": "code",
   "execution_count": null,
   "id": "255f9130",
   "metadata": {},
   "outputs": [],
   "source": []
  },
  {
   "cell_type": "code",
   "execution_count": 46,
   "id": "0685f889",
   "metadata": {},
   "outputs": [],
   "source": [
    "# compare 3 numbers: greatest amongst them"
   ]
  },
  {
   "cell_type": "code",
   "execution_count": 55,
   "id": "fad4f29b",
   "metadata": {},
   "outputs": [
    {
     "name": "stdout",
     "output_type": "stream",
     "text": [
      "a is greatest\n"
     ]
    }
   ],
   "source": [
    "a = 48\n",
    "b = 45.876\n",
    "c = 45.7\n",
    "\n",
    "\n",
    "# elif:- else if:- more than one condition then we use elif:- \n",
    "\n",
    "\n",
    "if (a>b)  and (a>c):\n",
    "    print('a is greatest')\n",
    "    \n",
    "elif (b>c) and (b>a):\n",
    "    print('b is greatest')\n",
    "    \n",
    "elif (c>a) and (c>b):\n",
    "    print('c is greatest')\n",
    "    \n",
    "else:\n",
    "    print('all are equal!!')"
   ]
  },
  {
   "cell_type": "code",
   "execution_count": null,
   "id": "69b3eeb8",
   "metadata": {},
   "outputs": [],
   "source": []
  },
  {
   "cell_type": "code",
   "execution_count": 65,
   "id": "84d93633",
   "metadata": {},
   "outputs": [
    {
     "name": "stdout",
     "output_type": "stream",
     "text": [
      "Enter your budget: 4567876543\n",
      "You can plan for World Tour!!!\n"
     ]
    }
   ],
   "source": [
    "budget = int(input('Enter your budget: '))\n",
    "\n",
    "if budget<=0:\n",
    "    print('Budget sudharo!!')\n",
    "    print('Bye Bye!!')\n",
    "    \n",
    "elif budget<1000:\n",
    "    print('''You can visit local places\n",
    "    1>> Delhi\n",
    "    2>> Mall\n",
    "    3>> Atta Market\n",
    "    4>> CP''')\n",
    "    \n",
    "\n",
    "elif (5000>budget>=1000):\n",
    "    print('''You can Plan for:\n",
    "    1>> Agra\n",
    "    2>> Dehradun\n",
    "    3>> Nainital\n",
    "    4>> Haridwar\n",
    "    5>> Rishikesh''')\n",
    "    \n",
    "    \n",
    "elif (10000>budget>=5000):\n",
    "    print('''You can plan for:\n",
    "    1>> Rajasthan\n",
    "    2>> Indore\n",
    "    3>> Bihar\n",
    "    4>> Lucknow\n",
    "    5>> Prayagraj''')\n",
    "    \n",
    "elif (100000>budget>=10000):\n",
    "    print('''you can plan for:\n",
    "    1>> Explore India\n",
    "    2>> Nepal\n",
    "    3>> ***POK Kashmir***\n",
    "    4>> Bhutan\n",
    "    5>> Srilanka''')\n",
    "    \n",
    "\n",
    "else:\n",
    "    print('''You can plan for World Tour!!!''')"
   ]
  },
  {
   "cell_type": "code",
   "execution_count": null,
   "id": "4015ee35",
   "metadata": {},
   "outputs": [],
   "source": []
  },
  {
   "cell_type": "code",
   "execution_count": null,
   "id": "da64a5d5",
   "metadata": {},
   "outputs": [],
   "source": []
  },
  {
   "cell_type": "code",
   "execution_count": 66,
   "id": "befe0c8d",
   "metadata": {},
   "outputs": [],
   "source": [
    "# login form"
   ]
  },
  {
   "cell_type": "code",
   "execution_count": 69,
   "id": "ef642ba6",
   "metadata": {},
   "outputs": [
    {
     "name": "stdout",
     "output_type": "stream",
     "text": [
      "Enter your name: jatain\n",
      "Create your user id: jatin@j\n",
      "Create your Password: jatin@123\n",
      "want to login or exit (y/n): y\n",
      "Enter your user id: jatin@j\n",
      "Enter your password: jatain@123\n",
      "Incorrect Id or Password!!\n"
     ]
    }
   ],
   "source": [
    "# nested if else\n",
    "name = input('Enter your name: ')\n",
    "\n",
    "uid = input('Create your user id: ')\n",
    "\n",
    "pwd = input('Create your Password: ')\n",
    "\n",
    "\n",
    "ans = input('want to login or exit (y/n): ')\n",
    "\n",
    "if ans == 'y':\n",
    "    \n",
    "    user_id = input('Enter your user id: ')\n",
    "    password = input('Enter your password: ')\n",
    "    \n",
    "    if (user_id == uid)  and (password == pwd):\n",
    "        print('Welcome to Facebook!!')\n",
    "    \n",
    "    else:\n",
    "        print('Incorrect Id or Password!!')\n",
    "    \n",
    "else:\n",
    "    print('Bye Bye!!')\n",
    "    print(f'Thanks {name} for creating account!!')"
   ]
  },
  {
   "cell_type": "code",
   "execution_count": null,
   "id": "c9813bb7",
   "metadata": {},
   "outputs": [],
   "source": []
  },
  {
   "cell_type": "code",
   "execution_count": 1,
   "id": "cdf3d039",
   "metadata": {},
   "outputs": [],
   "source": [
    "# game if else\n",
    "# one liner if else"
   ]
  },
  {
   "cell_type": "code",
   "execution_count": 2,
   "id": "7d05c69e",
   "metadata": {},
   "outputs": [],
   "source": [
    "# game if else rock paper and scissors"
   ]
  },
  {
   "cell_type": "code",
   "execution_count": 13,
   "id": "86705320",
   "metadata": {},
   "outputs": [
    {
     "name": "stdout",
     "output_type": "stream",
     "text": [
      "Enter your choice: ROCK\n",
      "comp choice:  scissors\n",
      "User choice:  rock\n",
      "User wins, comp lose!!\n"
     ]
    }
   ],
   "source": [
    "# nested if else:- infinite\n",
    "\n",
    "import random\n",
    "\n",
    "comp_choice = random.choice(['rock','paper','scissors'])\n",
    "user_choice = input('Enter your choice: ').lower()\n",
    "\n",
    "\n",
    "print('comp choice: ',comp_choice)\n",
    "print('User choice: ',user_choice)\n",
    "\n",
    "\n",
    "if user_choice == comp_choice:\n",
    "    print(\"It's a tie\")\n",
    "    \n",
    "elif user_choice == 'rock':\n",
    "    if comp_choice == 'paper':\n",
    "        print('comp wins, user lose!!')\n",
    "        \n",
    "    else:\n",
    "        print('User wins, comp lose!!')\n",
    "        \n",
    "elif user_choice == 'paper':\n",
    "    if comp_choice == 'scissors':\n",
    "        print('comp wins, user lose!!')\n",
    "    else:\n",
    "        print('User wins, comp lose!!')\n",
    "        \n",
    "elif user_choice == 'scissors':\n",
    "    if comp_choice == 'rock':\n",
    "        print('comp wins, user lose!!')\n",
    "        \n",
    "    else:\n",
    "        print('User wins, comp lose!!')\n",
    "        \n",
    "        \n",
    "else:\n",
    "    print('Invalid choice!!')"
   ]
  },
  {
   "cell_type": "code",
   "execution_count": null,
   "id": "1267727a",
   "metadata": {},
   "outputs": [],
   "source": []
  },
  {
   "cell_type": "code",
   "execution_count": null,
   "id": "99e4c2b8",
   "metadata": {},
   "outputs": [],
   "source": []
  },
  {
   "cell_type": "code",
   "execution_count": 14,
   "id": "91d8934e",
   "metadata": {},
   "outputs": [],
   "source": [
    "# # h/w\n",
    "# # grades system\n",
    "\n",
    "# maths \n",
    "# english\n",
    "# hindi\n",
    "# sst\n",
    "# sci \n",
    "\n",
    "# per\n",
    "\n",
    "# # 90>A+\n",
    "# # 80-90;A\n",
    "# # 70-80;B+\n",
    "# # 60-70:- B\n",
    "# # 50-60:C\n",
    "# # 40-50:D\n",
    "# # 33-40:- E\n",
    "# # 33<:- F\n",
    "\n"
   ]
  },
  {
   "cell_type": "code",
   "execution_count": 15,
   "id": "b5d3e44e",
   "metadata": {},
   "outputs": [
    {
     "name": "stdout",
     "output_type": "stream",
     "text": [
      "Odd\n"
     ]
    }
   ],
   "source": [
    "# one liner if else:-\n",
    "a = 23\n",
    "if a % 2 == 0:\n",
    "    print('Even')\n",
    "else:\n",
    "    print('Odd')"
   ]
  },
  {
   "cell_type": "code",
   "execution_count": 19,
   "id": "b7f06152",
   "metadata": {},
   "outputs": [
    {
     "name": "stdout",
     "output_type": "stream",
     "text": [
      "Odd\n"
     ]
    }
   ],
   "source": [
    "a = 33\n",
    "print('Even') if (a % 2 == 0) else print('Odd')"
   ]
  },
  {
   "cell_type": "code",
   "execution_count": 22,
   "id": "ed892124",
   "metadata": {},
   "outputs": [
    {
     "name": "stdout",
     "output_type": "stream",
     "text": [
      "Can not Vote!!\n"
     ]
    }
   ],
   "source": [
    "age = 2\n",
    "print('Can Vote') if (age>= 18) else print('Can not Vote!!')"
   ]
  },
  {
   "cell_type": "code",
   "execution_count": null,
   "id": "0698b4f2",
   "metadata": {},
   "outputs": [],
   "source": []
  },
  {
   "cell_type": "code",
   "execution_count": 24,
   "id": "fdf88588",
   "metadata": {},
   "outputs": [
    {
     "name": "stdout",
     "output_type": "stream",
     "text": [
      "b is greatest\n"
     ]
    }
   ],
   "source": [
    "a = 34\n",
    "b = 45\n",
    "c = 9\n",
    "\n",
    "if (a>b) and (a>c):\n",
    "    print('a is greatest')\n",
    "elif (b>a) and (b>c):\n",
    "    print('b is greatest')\n",
    "    \n",
    "elif (c>a) and (c>b):\n",
    "    print('c is greatest')\n",
    "    \n",
    "else:\n",
    "    print('all are equals!!')"
   ]
  },
  {
   "cell_type": "code",
   "execution_count": null,
   "id": "1a74757c",
   "metadata": {},
   "outputs": [],
   "source": []
  },
  {
   "cell_type": "code",
   "execution_count": 33,
   "id": "08fea4b0",
   "metadata": {},
   "outputs": [
    {
     "name": "stdout",
     "output_type": "stream",
     "text": [
      "b is greatest\n"
     ]
    }
   ],
   "source": [
    "a = 9\n",
    "b = 97\n",
    "c = 87\n",
    "\n",
    "print('a is greatest') if (a>b) and (a>c) else  print('b is greatest') if (b>a) and (b>c) else \\\n",
    "print('c is greatest')  if  (c>a) and (c>b) else print('all are equals!!') "
   ]
  },
  {
   "cell_type": "code",
   "execution_count": null,
   "id": "5ecc3c18",
   "metadata": {},
   "outputs": [],
   "source": []
  },
  {
   "cell_type": "code",
   "execution_count": 36,
   "id": "21ec809d",
   "metadata": {},
   "outputs": [],
   "source": [
    "# pass\n",
    "\n",
    "if a>b and b>c:\n",
    "    pass\n",
    "\n",
    "else:\n",
    "    pass"
   ]
  },
  {
   "cell_type": "code",
   "execution_count": 38,
   "id": "42d68e0f",
   "metadata": {},
   "outputs": [],
   "source": [
    "age = 7\n",
    "\n",
    "if age>=18:\n",
    "    print('Can vote!!')\n",
    "else:\n",
    "    pass"
   ]
  },
  {
   "cell_type": "code",
   "execution_count": null,
   "id": "c78eca68",
   "metadata": {},
   "outputs": [],
   "source": []
  }
 ],
 "metadata": {
  "kernelspec": {
   "display_name": "Python 3 (ipykernel)",
   "language": "python",
   "name": "python3"
  },
  "language_info": {
   "codemirror_mode": {
    "name": "ipython",
    "version": 3
   },
   "file_extension": ".py",
   "mimetype": "text/x-python",
   "name": "python",
   "nbconvert_exporter": "python",
   "pygments_lexer": "ipython3",
   "version": "3.11.3"
  }
 },
 "nbformat": 4,
 "nbformat_minor": 5
}
