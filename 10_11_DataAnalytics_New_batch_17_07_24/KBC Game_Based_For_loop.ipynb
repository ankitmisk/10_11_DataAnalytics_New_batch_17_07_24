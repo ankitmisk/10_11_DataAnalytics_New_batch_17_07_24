{
 "cells": [
  {
   "cell_type": "code",
   "execution_count": 32,
   "id": "6188e865",
   "metadata": {},
   "outputs": [
    {
     "name": "stdout",
     "output_type": "stream",
     "text": [
      "                                           WELCOME TO KBC                                           \n",
      "\n",
      "\n",
      "\n",
      "Want's to play press (y/n): y\n",
      "Q1: Which of the following planets is not a gas giant?\n",
      "  A: Mars\n",
      "  B: Jupiter\n",
      "  C: Saturn\n",
      "  D: Uranus\n",
      "Enter your choice: a\n",
      "You have Won rewards of Rs 5000!!\n",
      "\n",
      "\n",
      "\n",
      "Q2: What is the largest lake in the world?\n",
      "  A: Caspian Sea\n",
      "  B: Baikal\n",
      "  C: Lake Superior\n",
      "  D: Ontario\n",
      "Enter your choice: b\n",
      "You have Won rewards of Rs 50000!!\n",
      "\n",
      "\n",
      "\n",
      "Q3: Which planet in the solar system is known as the “Red Planet”?\n",
      "  A: Venus\n",
      "  B: Earth\n",
      "  C: Mars\n",
      "  D: Jupiter\n",
      "Enter your choice: c\n",
      "You have Won rewards of Rs 500000!!\n",
      "\n",
      "\n",
      "\n",
      "Q4: Who wrote the novel “War and Peace”?\n",
      "  A: Anton Chekhov\n",
      "  B: Fyodor Dostoevsky\n",
      "  C: Leo Tolstoy\n",
      "  D: Ivan Turgenev\n",
      "Enter your choice: c\n",
      "You have Won rewards of Rs 5000000!!\n",
      "\n",
      "\n",
      "\n",
      "Q5: What is the capital of Japan?\n",
      "  A: Beijing\n",
      "  B: Tokyo\n",
      "  C: Seoul\n",
      "  D: Bangkok\n",
      "Enter your choice: b\n",
      "You have Won rewards of Rs 50000000!!\n",
      "\n",
      "\n",
      "\n",
      "Q6: Which river is the longest in the world?\n",
      "  A: Amazon\n",
      "  B: Mississippi\n",
      "  C: Nile\n",
      "  D: Yangtze\n",
      "Enter your choice: c\n",
      "\n",
      "\n",
      "\n",
      "You have Won Total Amount of Rs 70000000\n"
     ]
    }
   ],
   "source": [
    "import time\n",
    "import pygame\n",
    "pygame.init()\n",
    "\n",
    "\n",
    "\n",
    "questions = ['Which of the following planets is not a gas giant?',\n",
    "             'What is the largest lake in the world?',\n",
    "            'Which planet in the solar system is known as the “Red Planet”?',\n",
    "            'Who wrote the novel “War and Peace”?',\n",
    "            'What is the capital of Japan?',\n",
    "             'Which river is the longest in the world?']\n",
    "\n",
    "\n",
    "options = [['Mars', 'Jupiter', 'Saturn', 'Uranus'],\n",
    "           ['Caspian Sea','Baikal','Lake Superior','Ontario'],\n",
    "          ['Venus', 'Earth', 'Mars', 'Jupiter'],\n",
    "          ['Anton Chekhov', 'Fyodor Dostoevsky', 'Leo Tolstoy', 'Ivan Turgenev'],\n",
    "          ['Beijing', 'Tokyo', 'Seoul', 'Bangkok'],\n",
    "          ['Amazon', 'Mississippi', 'Nile', 'Yangtze']]\n",
    "\n",
    "\n",
    "correct_op = ['A','B','C','C','B','C']\n",
    "\n",
    "op = 'ABCD'\n",
    "\n",
    "reward = 0\n",
    "\n",
    "print('Welcome to kbc'.upper().center(100,' '),end= '\\n'*4)\n",
    "\n",
    "kbc_sound = pygame.mixer.Sound(r\"C:\\Users\\Lenovo\\Downloads\\kbc-awesome-5410.mp3\")\n",
    "kbc_sound.play()\n",
    "\n",
    "\n",
    "game_play = input('Want\\'s to play press (y/n): ').lower()\n",
    "\n",
    "if game_play == 'y':\n",
    "    \n",
    "    all_feedback = []\n",
    "    \n",
    "    for index,quest in enumerate(questions):\n",
    "        print(f\"Q{index+1}: {quest}\")\n",
    "        \n",
    "        kbc_sound.stop()\n",
    "        \n",
    "        data = quest\n",
    "        audio = gTTS(data)\n",
    "        audio.save('temp.mp3')\n",
    "\n",
    "        my_sound = pygame.mixer.Sound('temp.mp3')\n",
    "        my_sound.play()\n",
    "        \n",
    "        \n",
    "        \n",
    "        for idx,value in enumerate(options[index]):\n",
    "            print(f\"  {op[idx]}: {value}\")\n",
    "\n",
    "        ans = input('Enter your choice: ').upper()\n",
    "        kbc_sound.stop()\n",
    "        time.sleep(1.2)\n",
    "        \n",
    "        \n",
    "        if ans == correct_op[index]:\n",
    "            path = r\"C:\\Users\\Lenovo\\Downloads\\coorect_sound.mp3\"\n",
    "            correct = pygame.mixer.Sound(path)\n",
    "            correct.play()\n",
    "            all_feedback.append(True)\n",
    "            \n",
    "            if reward == 0:\n",
    "                reward+= 5000\n",
    "            else:\n",
    "                reward*= 10\n",
    "\n",
    "            \n",
    "            if index+1 != len(questions):\n",
    "                print(f'You have Won rewards of Rs {reward}!!')\n",
    "        \n",
    "        elif ans not in 'ABCD':\n",
    "            print('Invalid Choice')\n",
    "            print('You lose the game')\n",
    "            all_feedback.append(False)\n",
    "            break\n",
    "\n",
    "        else:\n",
    "            print('You lose the game')\n",
    "            path = r\"C:\\Users\\Lenovo\\Downloads\\wrong_sound.mp3\"\n",
    "            wrong = pygame.mixer.Sound(path)\n",
    "            wrong.play()\n",
    "            kbc_sound.stop()\n",
    "            all_feedback.append(False)\n",
    "            break\n",
    "\n",
    "\n",
    "        print(end = '\\n'*3)\n",
    "    \n",
    "    \n",
    "    if all(all_feedback):\n",
    "        reward = 70000000\n",
    "        path = r\"C:\\Users\\Lenovo\\Downloads\\7crore.mp3\"\n",
    "        \n",
    "        crore_7 = pygame.mixer.Sound(path)\n",
    "        crore_7.play()\n",
    "        \n",
    "        print(f'You have Won Total Amount of Rs {reward}')\n",
    "        \n",
    "    else:\n",
    "        print(f'You have Won Total Amount of Rs {reward}')\n",
    "    \n",
    "else:\n",
    "    print('Bye!! Bye!!')\n",
    "    kbc_sound.stop()"
   ]
  },
  {
   "cell_type": "markdown",
   "id": "2805c96b",
   "metadata": {},
   "source": [
    "# Url: https://ays-pro.com/blog/free-general-knowledge-questions"
   ]
  },
  {
   "cell_type": "code",
   "execution_count": 50,
   "id": "93586016",
   "metadata": {},
   "outputs": [],
   "source": [
    "# data = ['karan','madan','mohan','ravi']\n",
    "\n",
    "# for index,value in enumerate(data):\n",
    "#     print(index,value)"
   ]
  },
  {
   "cell_type": "code",
   "execution_count": null,
   "id": "e97a0146",
   "metadata": {},
   "outputs": [],
   "source": []
  },
  {
   "cell_type": "code",
   "execution_count": 44,
   "id": "591c154d",
   "metadata": {},
   "outputs": [
    {
     "name": "stdout",
     "output_type": "stream",
     "text": [
      "pygame 2.5.1 (SDL 2.28.2, Python 3.11.3)\n",
      "Hello from the pygame community. https://www.pygame.org/contribute.html\n"
     ]
    },
    {
     "data": {
      "text/plain": [
       "(5, 0)"
      ]
     },
     "execution_count": 44,
     "metadata": {},
     "output_type": "execute_result"
    }
   ],
   "source": [
    "# import pygame:- game development in python\n"
   ]
  },
  {
   "cell_type": "code",
   "execution_count": 45,
   "id": "5d6e9d84",
   "metadata": {},
   "outputs": [],
   "source": [
    "# pip install pygame"
   ]
  },
  {
   "cell_type": "code",
   "execution_count": 30,
   "id": "c2a859f4",
   "metadata": {},
   "outputs": [
    {
     "data": {
      "text/plain": [
       "['Mars', 'Jupiter', 'Saturn', 'Uranus']"
      ]
     },
     "execution_count": 30,
     "metadata": {},
     "output_type": "execute_result"
    }
   ],
   "source": [
    "'''Mars\n",
    "Jupiter\n",
    "Saturn\n",
    "Uranus'''.split('\\n')"
   ]
  },
  {
   "cell_type": "code",
   "execution_count": 23,
   "id": "13e6a547",
   "metadata": {},
   "outputs": [],
   "source": [
    "kbc_sound.stop()"
   ]
  },
  {
   "cell_type": "markdown",
   "id": "a5dc44bb",
   "metadata": {},
   "source": [
    "# new day"
   ]
  },
  {
   "cell_type": "code",
   "execution_count": 1,
   "id": "67f2f9c2",
   "metadata": {},
   "outputs": [],
   "source": [
    "# text to speech:- read out\n",
    "# "
   ]
  },
  {
   "cell_type": "code",
   "execution_count": 4,
   "id": "21529f4e",
   "metadata": {},
   "outputs": [
    {
     "name": "stdout",
     "output_type": "stream",
     "text": [
      "done\n"
     ]
    }
   ],
   "source": [
    "from gtts import gTTS\n",
    "print('done')"
   ]
  },
  {
   "cell_type": "code",
   "execution_count": null,
   "id": "39cb9fbb",
   "metadata": {},
   "outputs": [],
   "source": [
    "# gtts:- google text to speech"
   ]
  },
  {
   "cell_type": "code",
   "execution_count": 3,
   "id": "afc8aac9",
   "metadata": {},
   "outputs": [
    {
     "name": "stdout",
     "output_type": "stream",
     "text": [
      "Requirement already satisfied: gTTS in c:\\users\\lenovo\\anaconda3\\lib\\site-packages (2.3.2)\n",
      "Requirement already satisfied: requests<3,>=2.27 in c:\\users\\lenovo\\anaconda3\\lib\\site-packages (from gTTS) (2.31.0)\n",
      "Requirement already satisfied: click<8.2,>=7.1 in c:\\users\\lenovo\\anaconda3\\lib\\site-packages (from gTTS) (8.1.3)\n",
      "Requirement already satisfied: colorama in c:\\users\\lenovo\\anaconda3\\lib\\site-packages (from click<8.2,>=7.1->gTTS) (0.4.6)\n",
      "Requirement already satisfied: charset-normalizer<4,>=2 in c:\\users\\lenovo\\anaconda3\\lib\\site-packages (from requests<3,>=2.27->gTTS) (2.0.4)\n",
      "Requirement already satisfied: idna<4,>=2.5 in c:\\users\\lenovo\\anaconda3\\lib\\site-packages (from requests<3,>=2.27->gTTS) (3.4)\n",
      "Requirement already satisfied: urllib3<3,>=1.21.1 in c:\\users\\lenovo\\anaconda3\\lib\\site-packages (from requests<3,>=2.27->gTTS) (1.26.16)\n",
      "Requirement already satisfied: certifi>=2017.4.17 in c:\\users\\lenovo\\anaconda3\\lib\\site-packages (from requests<3,>=2.27->gTTS) (2023.5.7)\n",
      "Note: you may need to restart the kernel to use updated packages.\n"
     ]
    },
    {
     "name": "stderr",
     "output_type": "stream",
     "text": [
      "WARNING: Ignoring invalid distribution ~atplotlib (C:\\Users\\Lenovo\\anaconda3\\Lib\\site-packages)\n",
      "WARNING: Ignoring invalid distribution ~atplotlib (C:\\Users\\Lenovo\\anaconda3\\Lib\\site-packages)\n",
      "WARNING: Ignoring invalid distribution ~atplotlib (C:\\Users\\Lenovo\\anaconda3\\Lib\\site-packages)\n"
     ]
    }
   ],
   "source": [
    "pip install gTTS"
   ]
  },
  {
   "cell_type": "code",
   "execution_count": 5,
   "id": "20836314",
   "metadata": {},
   "outputs": [
    {
     "name": "stdout",
     "output_type": "stream",
     "text": [
      "done\n"
     ]
    }
   ],
   "source": [
    "data = 'Hi sarwan, How are you'\n",
    "\n",
    "\n",
    "audio = gTTS(data)\n",
    "audio.save('temp.mp3')\n",
    "\n",
    "print('done')"
   ]
  },
  {
   "cell_type": "code",
   "execution_count": 8,
   "id": "4d32df67",
   "metadata": {},
   "outputs": [
    {
     "data": {
      "text/plain": [
       "<pygame.mixer.Channel at 0x1e08d65c8f0>"
      ]
     },
     "execution_count": 8,
     "metadata": {},
     "output_type": "execute_result"
    }
   ],
   "source": [
    "import pygame\n",
    "\n",
    "pygame.init()\n",
    "\n",
    "\n",
    "my_sound = pygame.mixer.Sound('temp.mp3')\n",
    "my_sound.play()"
   ]
  },
  {
   "cell_type": "code",
   "execution_count": 10,
   "id": "fc584367",
   "metadata": {},
   "outputs": [
    {
     "data": {
      "text/plain": [
       "<pygame.mixer.Channel at 0x1e086567fb0>"
      ]
     },
     "execution_count": 10,
     "metadata": {},
     "output_type": "execute_result"
    }
   ],
   "source": [
    "data = 'Aur Bhai kya haal hai'\n",
    "audio = gTTS(data)\n",
    "audio.save('temp.mp3')\n",
    "\n",
    "my_sound = pygame.mixer.Sound('temp.mp3')\n",
    "my_sound.play()"
   ]
  },
  {
   "cell_type": "code",
   "execution_count": 13,
   "id": "4dcb0635",
   "metadata": {},
   "outputs": [
    {
     "data": {
      "text/plain": [
       "False"
      ]
     },
     "execution_count": 13,
     "metadata": {},
     "output_type": "execute_result"
    }
   ],
   "source": [
    "all([True,True,True,False])"
   ]
  },
  {
   "cell_type": "code",
   "execution_count": 17,
   "id": "78da48a7",
   "metadata": {},
   "outputs": [
    {
     "data": {
      "text/plain": [
       "[12, 43, 56]"
      ]
     },
     "execution_count": 17,
     "metadata": {},
     "output_type": "execute_result"
    }
   ],
   "source": [
    "[12,43,56]"
   ]
  },
  {
   "cell_type": "code",
   "execution_count": 18,
   "id": "18f784a4",
   "metadata": {},
   "outputs": [],
   "source": [
    "# 3 == index+1"
   ]
  },
  {
   "cell_type": "code",
   "execution_count": 27,
   "id": "becbd7e1",
   "metadata": {},
   "outputs": [
    {
     "data": {
      "text/plain": [
       "True"
      ]
     },
     "execution_count": 27,
     "metadata": {},
     "output_type": "execute_result"
    }
   ],
   "source": [
    "all(all_feedback)"
   ]
  },
  {
   "cell_type": "code",
   "execution_count": null,
   "id": "e3518ad4",
   "metadata": {},
   "outputs": [],
   "source": []
  },
  {
   "cell_type": "code",
   "execution_count": 38,
   "id": "9a721f99",
   "metadata": {},
   "outputs": [],
   "source": [
    "x = 95\n",
    "\n",
    "if x>90:\n",
    "    msg = 'A+'\n",
    "    \n",
    "elif x>80:\n",
    "    msg = 'B'\n",
    "    \n",
    "else:\n",
    "    msg = 'Fail'\n",
    "    \n",
    "    print(msg)"
   ]
  },
  {
   "cell_type": "code",
   "execution_count": null,
   "id": "53e690a2",
   "metadata": {},
   "outputs": [],
   "source": []
  }
 ],
 "metadata": {
  "kernelspec": {
   "display_name": "Python 3 (ipykernel)",
   "language": "python",
   "name": "python3"
  },
  "language_info": {
   "codemirror_mode": {
    "name": "ipython",
    "version": 3
   },
   "file_extension": ".py",
   "mimetype": "text/x-python",
   "name": "python",
   "nbconvert_exporter": "python",
   "pygments_lexer": "ipython3",
   "version": "3.11.3"
  }
 },
 "nbformat": 4,
 "nbformat_minor": 5
}
