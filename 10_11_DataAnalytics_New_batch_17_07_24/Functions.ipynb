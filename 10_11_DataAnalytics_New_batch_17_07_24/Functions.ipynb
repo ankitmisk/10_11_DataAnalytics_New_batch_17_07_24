{
 "cells": [
  {
   "cell_type": "code",
   "execution_count": null,
   "id": "73829aeb",
   "metadata": {},
   "outputs": [],
   "source": []
  },
  {
   "cell_type": "code",
   "execution_count": 1,
   "id": "a097e91a",
   "metadata": {},
   "outputs": [],
   "source": [
    "# code ko wrap karna hi function:- "
   ]
  },
  {
   "cell_type": "code",
   "execution_count": null,
   "id": "dc995078",
   "metadata": {},
   "outputs": [],
   "source": [
    "# udf:- user defined function\n",
    "# ibf:- inbuilt func:- already available\n",
    "\n"
   ]
  },
  {
   "cell_type": "code",
   "execution_count": 2,
   "id": "f594a6dd",
   "metadata": {},
   "outputs": [],
   "source": [
    "# inbuilt func:"
   ]
  },
  {
   "cell_type": "code",
   "execution_count": 5,
   "id": "4bf1d017",
   "metadata": {},
   "outputs": [],
   "source": [
    "# sum()\n",
    "# print()\n",
    "# id()\n",
    "# round()\n",
    "# min()\n",
    "# max()\n",
    "# ord()\n",
    "# chr()\n",
    "# input()\n",
    "# len()"
   ]
  },
  {
   "cell_type": "code",
   "execution_count": 6,
   "id": "282bf087",
   "metadata": {},
   "outputs": [
    {
     "name": "stdout",
     "output_type": "stream",
     "text": [
      "[1, 243, 554, 124, 536]\n"
     ]
    }
   ],
   "source": [
    "a = [1,243,554,124,536]\n",
    "\n",
    "print(a)"
   ]
  },
  {
   "cell_type": "code",
   "execution_count": 7,
   "id": "a65e5137",
   "metadata": {},
   "outputs": [
    {
     "data": {
      "text/plain": [
       "1"
      ]
     },
     "execution_count": 7,
     "metadata": {},
     "output_type": "execute_result"
    }
   ],
   "source": [
    "min(a)"
   ]
  },
  {
   "cell_type": "code",
   "execution_count": 8,
   "id": "4e9fc334",
   "metadata": {},
   "outputs": [
    {
     "data": {
      "text/plain": [
       "554"
      ]
     },
     "execution_count": 8,
     "metadata": {},
     "output_type": "execute_result"
    }
   ],
   "source": [
    "max(a)"
   ]
  },
  {
   "cell_type": "code",
   "execution_count": 9,
   "id": "725fc3f9",
   "metadata": {},
   "outputs": [
    {
     "data": {
      "text/plain": [
       "1458"
      ]
     },
     "execution_count": 9,
     "metadata": {},
     "output_type": "execute_result"
    }
   ],
   "source": [
    "sum(a)"
   ]
  },
  {
   "cell_type": "code",
   "execution_count": 10,
   "id": "71f6aeba",
   "metadata": {},
   "outputs": [
    {
     "data": {
      "text/plain": [
       "5"
      ]
     },
     "execution_count": 10,
     "metadata": {},
     "output_type": "execute_result"
    }
   ],
   "source": [
    "len(a)"
   ]
  },
  {
   "cell_type": "code",
   "execution_count": null,
   "id": "514d0507",
   "metadata": {},
   "outputs": [],
   "source": []
  },
  {
   "cell_type": "code",
   "execution_count": 11,
   "id": "16f86c4b",
   "metadata": {},
   "outputs": [
    {
     "data": {
      "text/plain": [
       "97"
      ]
     },
     "execution_count": 11,
     "metadata": {},
     "output_type": "execute_result"
    }
   ],
   "source": [
    "ord('a')"
   ]
  },
  {
   "cell_type": "code",
   "execution_count": 12,
   "id": "ed26619b",
   "metadata": {},
   "outputs": [],
   "source": [
    "# ascii values"
   ]
  },
  {
   "cell_type": "code",
   "execution_count": 13,
   "id": "36070687",
   "metadata": {},
   "outputs": [
    {
     "data": {
      "text/plain": [
       "'a'"
      ]
     },
     "execution_count": 13,
     "metadata": {},
     "output_type": "execute_result"
    }
   ],
   "source": [
    "chr(97)"
   ]
  },
  {
   "cell_type": "code",
   "execution_count": 14,
   "id": "80aef9c6",
   "metadata": {},
   "outputs": [
    {
     "data": {
      "text/plain": [
       "'a'"
      ]
     },
     "execution_count": 14,
     "metadata": {},
     "output_type": "execute_result"
    }
   ],
   "source": [
    "chr(97)"
   ]
  },
  {
   "cell_type": "code",
   "execution_count": 15,
   "id": "d9ccafad",
   "metadata": {},
   "outputs": [],
   "source": [
    "# win + ."
   ]
  },
  {
   "cell_type": "code",
   "execution_count": 16,
   "id": "027a520e",
   "metadata": {},
   "outputs": [
    {
     "data": {
      "text/plain": [
       "128522"
      ]
     },
     "execution_count": 16,
     "metadata": {},
     "output_type": "execute_result"
    }
   ],
   "source": [
    "ord('😊')"
   ]
  },
  {
   "cell_type": "code",
   "execution_count": 17,
   "id": "499d9f4a",
   "metadata": {},
   "outputs": [
    {
     "data": {
      "text/plain": [
       "'😊'"
      ]
     },
     "execution_count": 17,
     "metadata": {},
     "output_type": "execute_result"
    }
   ],
   "source": [
    "chr(128522)"
   ]
  },
  {
   "cell_type": "code",
   "execution_count": 18,
   "id": "8c2b6ce7",
   "metadata": {},
   "outputs": [
    {
     "data": {
      "text/plain": [
       "'😋'"
      ]
     },
     "execution_count": 18,
     "metadata": {},
     "output_type": "execute_result"
    }
   ],
   "source": [
    "chr(128523)"
   ]
  },
  {
   "cell_type": "code",
   "execution_count": 19,
   "id": "1e7ca3b4",
   "metadata": {},
   "outputs": [
    {
     "data": {
      "text/plain": [
       "'😌'"
      ]
     },
     "execution_count": 19,
     "metadata": {},
     "output_type": "execute_result"
    }
   ],
   "source": [
    "chr(128524)"
   ]
  },
  {
   "cell_type": "code",
   "execution_count": 20,
   "id": "183270e0",
   "metadata": {},
   "outputs": [
    {
     "data": {
      "text/plain": [
       "'😍'"
      ]
     },
     "execution_count": 20,
     "metadata": {},
     "output_type": "execute_result"
    }
   ],
   "source": [
    "chr(128525)"
   ]
  },
  {
   "cell_type": "code",
   "execution_count": null,
   "id": "5b62aed4",
   "metadata": {},
   "outputs": [],
   "source": []
  },
  {
   "cell_type": "code",
   "execution_count": 21,
   "id": "c3da328d",
   "metadata": {},
   "outputs": [
    {
     "name": "stdout",
     "output_type": "stream",
     "text": [
      "Enter your name: karan khanna\n"
     ]
    }
   ],
   "source": [
    "name = input('Enter your name: ')"
   ]
  },
  {
   "cell_type": "code",
   "execution_count": 22,
   "id": "4af5fa55",
   "metadata": {},
   "outputs": [
    {
     "name": "stdout",
     "output_type": "stream",
     "text": [
      "your name is karan khanna\n"
     ]
    }
   ],
   "source": [
    "print('your name is',name)"
   ]
  },
  {
   "cell_type": "code",
   "execution_count": null,
   "id": "abdb462e",
   "metadata": {},
   "outputs": [],
   "source": []
  },
  {
   "cell_type": "code",
   "execution_count": 23,
   "id": "bc55a0f6",
   "metadata": {},
   "outputs": [],
   "source": [
    "# udf:- user defined func"
   ]
  },
  {
   "cell_type": "code",
   "execution_count": 25,
   "id": "bd6dcdcd",
   "metadata": {},
   "outputs": [],
   "source": [
    "def sarwan():\n",
    "    print('Hello, I am Sarwan')"
   ]
  },
  {
   "cell_type": "code",
   "execution_count": null,
   "id": "c3a0700e",
   "metadata": {},
   "outputs": [],
   "source": []
  },
  {
   "cell_type": "code",
   "execution_count": 26,
   "id": "d653d5f2",
   "metadata": {},
   "outputs": [
    {
     "name": "stdout",
     "output_type": "stream",
     "text": [
      "Hello, I am Sarwan\n"
     ]
    }
   ],
   "source": [
    "sarwan()"
   ]
  },
  {
   "cell_type": "code",
   "execution_count": 27,
   "id": "5ed3476c",
   "metadata": {},
   "outputs": [
    {
     "name": "stdout",
     "output_type": "stream",
     "text": [
      "Hello, I am Sarwan\n"
     ]
    }
   ],
   "source": [
    "sarwan()"
   ]
  },
  {
   "cell_type": "code",
   "execution_count": 28,
   "id": "e91c1da7",
   "metadata": {},
   "outputs": [],
   "source": [
    "def greet():\n",
    "    name = input('Enter your name: ')\n",
    "    \n",
    "    print(f'Hello {name}, How are you?')\n",
    "    \n",
    "    print('We are in Techvidya')"
   ]
  },
  {
   "cell_type": "code",
   "execution_count": null,
   "id": "be644411",
   "metadata": {},
   "outputs": [],
   "source": []
  },
  {
   "cell_type": "code",
   "execution_count": null,
   "id": "1f622a77",
   "metadata": {},
   "outputs": [],
   "source": []
  },
  {
   "cell_type": "code",
   "execution_count": 29,
   "id": "5e2efb6e",
   "metadata": {},
   "outputs": [
    {
     "name": "stdout",
     "output_type": "stream",
     "text": [
      "Enter your name: jatin\n",
      "Hello jatin, How are you?\n",
      "We are in Techvidya\n"
     ]
    }
   ],
   "source": [
    "greet()"
   ]
  },
  {
   "cell_type": "code",
   "execution_count": 30,
   "id": "80b38565",
   "metadata": {},
   "outputs": [
    {
     "name": "stdout",
     "output_type": "stream",
     "text": [
      "Enter your name: lucky\n",
      "Hello lucky, How are you?\n",
      "We are in Techvidya\n"
     ]
    }
   ],
   "source": [
    "greet()"
   ]
  },
  {
   "cell_type": "code",
   "execution_count": 31,
   "id": "184ec0fa",
   "metadata": {},
   "outputs": [
    {
     "name": "stdout",
     "output_type": "stream",
     "text": [
      "Enter your name: roman\n",
      "Hello roman, How are you?\n",
      "We are in Techvidya\n"
     ]
    }
   ],
   "source": [
    "greet()"
   ]
  },
  {
   "cell_type": "code",
   "execution_count": null,
   "id": "8fde7168",
   "metadata": {},
   "outputs": [],
   "source": []
  },
  {
   "cell_type": "code",
   "execution_count": 32,
   "id": "69a1b827",
   "metadata": {},
   "outputs": [],
   "source": [
    "# function:- with parameter, without parameter"
   ]
  },
  {
   "cell_type": "code",
   "execution_count": 33,
   "id": "4d604029",
   "metadata": {},
   "outputs": [],
   "source": [
    "# without parameter\n",
    "def say_hello():\n",
    "    print('Hey Hello!!')"
   ]
  },
  {
   "cell_type": "code",
   "execution_count": 34,
   "id": "e79715d6",
   "metadata": {},
   "outputs": [
    {
     "name": "stdout",
     "output_type": "stream",
     "text": [
      "Hey Hello!!\n"
     ]
    }
   ],
   "source": [
    "say_hello()"
   ]
  },
  {
   "cell_type": "code",
   "execution_count": null,
   "id": "89ee33f2",
   "metadata": {},
   "outputs": [],
   "source": []
  },
  {
   "cell_type": "code",
   "execution_count": 35,
   "id": "9a5d25ab",
   "metadata": {},
   "outputs": [],
   "source": [
    "# with parameter"
   ]
  },
  {
   "cell_type": "code",
   "execution_count": 36,
   "id": "de73ccd0",
   "metadata": {},
   "outputs": [],
   "source": [
    "def greet_now(name):\n",
    "    \n",
    "    print(f'Hello {name}, How are you??')"
   ]
  },
  {
   "cell_type": "code",
   "execution_count": null,
   "id": "ffae62b5",
   "metadata": {},
   "outputs": [],
   "source": []
  },
  {
   "cell_type": "code",
   "execution_count": 37,
   "id": "1183f128",
   "metadata": {},
   "outputs": [
    {
     "ename": "TypeError",
     "evalue": "greet_now() missing 1 required positional argument: 'name'",
     "output_type": "error",
     "traceback": [
      "\u001b[1;31m---------------------------------------------------------------------------\u001b[0m",
      "\u001b[1;31mTypeError\u001b[0m                                 Traceback (most recent call last)",
      "Cell \u001b[1;32mIn[37], line 1\u001b[0m\n\u001b[1;32m----> 1\u001b[0m greet_now()\n",
      "\u001b[1;31mTypeError\u001b[0m: greet_now() missing 1 required positional argument: 'name'"
     ]
    }
   ],
   "source": [
    "greet_now()"
   ]
  },
  {
   "cell_type": "code",
   "execution_count": 38,
   "id": "e0cd6417",
   "metadata": {},
   "outputs": [
    {
     "name": "stdout",
     "output_type": "stream",
     "text": [
      "Hello sarwan, How are you??\n"
     ]
    }
   ],
   "source": [
    "greet_now('sarwan')"
   ]
  },
  {
   "cell_type": "code",
   "execution_count": 39,
   "id": "d2992fed",
   "metadata": {},
   "outputs": [
    {
     "name": "stdout",
     "output_type": "stream",
     "text": [
      "Hello Ajay, How are you??\n"
     ]
    }
   ],
   "source": [
    "greet_now('Ajay')"
   ]
  },
  {
   "cell_type": "code",
   "execution_count": null,
   "id": "ec596d5a",
   "metadata": {},
   "outputs": [],
   "source": []
  },
  {
   "cell_type": "code",
   "execution_count": 40,
   "id": "c0a391f0",
   "metadata": {},
   "outputs": [
    {
     "name": "stdout",
     "output_type": "stream",
     "text": [
      "Hello Lucky, How are you??\n"
     ]
    }
   ],
   "source": [
    "greet_now('Lucky')  # arguments"
   ]
  },
  {
   "cell_type": "code",
   "execution_count": 41,
   "id": "ef834110",
   "metadata": {},
   "outputs": [
    {
     "name": "stdout",
     "output_type": "stream",
     "text": [
      "Hello Jatin, How are you??\n"
     ]
    }
   ],
   "source": [
    "greet_now('Jatin')"
   ]
  },
  {
   "cell_type": "code",
   "execution_count": null,
   "id": "b36d5b66",
   "metadata": {},
   "outputs": [],
   "source": []
  },
  {
   "cell_type": "code",
   "execution_count": 42,
   "id": "114f6256",
   "metadata": {},
   "outputs": [],
   "source": [
    "# with multi parameters"
   ]
  },
  {
   "cell_type": "code",
   "execution_count": 43,
   "id": "0149a229",
   "metadata": {},
   "outputs": [],
   "source": [
    "def about_you(name,age,address,doing):\n",
    "    print(f'My name is {name}')\n",
    "    print(f'I am {age} years old')\n",
    "    print(f'I live in {address}')\n",
    "    print(f'I am {doing}')"
   ]
  },
  {
   "cell_type": "code",
   "execution_count": null,
   "id": "6df08ebf",
   "metadata": {},
   "outputs": [],
   "source": []
  },
  {
   "cell_type": "code",
   "execution_count": 44,
   "id": "beffccf5",
   "metadata": {},
   "outputs": [
    {
     "ename": "TypeError",
     "evalue": "about_you() missing 4 required positional arguments: 'name', 'age', 'address', and 'doing'",
     "output_type": "error",
     "traceback": [
      "\u001b[1;31m---------------------------------------------------------------------------\u001b[0m",
      "\u001b[1;31mTypeError\u001b[0m                                 Traceback (most recent call last)",
      "Cell \u001b[1;32mIn[44], line 1\u001b[0m\n\u001b[1;32m----> 1\u001b[0m about_you()\n",
      "\u001b[1;31mTypeError\u001b[0m: about_you() missing 4 required positional arguments: 'name', 'age', 'address', and 'doing'"
     ]
    }
   ],
   "source": [
    "about_you()"
   ]
  },
  {
   "cell_type": "code",
   "execution_count": 45,
   "id": "d0111b5c",
   "metadata": {},
   "outputs": [
    {
     "name": "stdout",
     "output_type": "stream",
     "text": [
      "My name is Lucky\n",
      "I am 12 years old\n",
      "I live in noida\n",
      "I am Playing\n"
     ]
    }
   ],
   "source": [
    "about_you('Lucky',12,'noida','Playing')"
   ]
  },
  {
   "cell_type": "code",
   "execution_count": null,
   "id": "0ebb9b75",
   "metadata": {},
   "outputs": [],
   "source": []
  },
  {
   "cell_type": "code",
   "execution_count": 46,
   "id": "20daf718",
   "metadata": {},
   "outputs": [
    {
     "name": "stdout",
     "output_type": "stream",
     "text": [
      "My name is Ajay\n",
      "I am 12 years old\n",
      "I live in gr noida\n",
      "I am dancing\n"
     ]
    }
   ],
   "source": [
    "about_you('Ajay',12,'gr noida','dancing')"
   ]
  },
  {
   "cell_type": "code",
   "execution_count": 47,
   "id": "e0bdb1e9",
   "metadata": {},
   "outputs": [],
   "source": [
    "# sum()"
   ]
  },
  {
   "cell_type": "code",
   "execution_count": 48,
   "id": "aa8a001b",
   "metadata": {},
   "outputs": [],
   "source": [
    "# how to give message, Docstring"
   ]
  },
  {
   "cell_type": "code",
   "execution_count": 49,
   "id": "05356fc1",
   "metadata": {},
   "outputs": [],
   "source": [
    "def all_about_you(name,age,address,doing):\n",
    "    '''This func is created by Sarwan!!'''\n",
    "    print(f'My name is {name}')\n",
    "    print(f'I am {age} years old')\n",
    "    print(f'I live in {address}')\n",
    "    print(f'I am {doing}')"
   ]
  },
  {
   "cell_type": "code",
   "execution_count": null,
   "id": "9d040298",
   "metadata": {},
   "outputs": [],
   "source": [
    "all_about_you()"
   ]
  },
  {
   "cell_type": "code",
   "execution_count": null,
   "id": "3b6f3969",
   "metadata": {},
   "outputs": [],
   "source": [
    "about_you()"
   ]
  },
  {
   "cell_type": "code",
   "execution_count": null,
   "id": "c1358e82",
   "metadata": {},
   "outputs": [],
   "source": []
  },
  {
   "cell_type": "code",
   "execution_count": 50,
   "id": "c0a1d019",
   "metadata": {},
   "outputs": [
    {
     "name": "stdout",
     "output_type": "stream",
     "text": [
      "My name is 12\n",
      "I am Teaching years old\n",
      "I live in Karan\n",
      "I am Noida\n"
     ]
    }
   ],
   "source": [
    "all_about_you(12,'Teaching','Karan','Noida')"
   ]
  },
  {
   "cell_type": "code",
   "execution_count": 51,
   "id": "7477041a",
   "metadata": {},
   "outputs": [],
   "source": [
    "# positional arguments"
   ]
  },
  {
   "cell_type": "code",
   "execution_count": 52,
   "id": "a906d714",
   "metadata": {},
   "outputs": [
    {
     "name": "stdout",
     "output_type": "stream",
     "text": [
      "My name is Karan\n",
      "I am 12 years old\n",
      "I live in Noida\n",
      "I am Teaching\n"
     ]
    }
   ],
   "source": [
    "all_about_you(age = 12,doing = 'Teaching',name = 'Karan',address = 'Noida')"
   ]
  },
  {
   "cell_type": "code",
   "execution_count": 53,
   "id": "431982f3",
   "metadata": {},
   "outputs": [],
   "source": [
    "# summ"
   ]
  },
  {
   "cell_type": "code",
   "execution_count": 59,
   "id": "572189eb",
   "metadata": {},
   "outputs": [
    {
     "data": {
      "text/plain": [
       "56936"
      ]
     },
     "execution_count": 59,
     "metadata": {},
     "output_type": "execute_result"
    }
   ],
   "source": [
    "data = [1,243,312,35,56345]\n",
    "\n",
    "\n",
    "sum(data)"
   ]
  },
  {
   "cell_type": "code",
   "execution_count": 60,
   "id": "e28b0ef6",
   "metadata": {},
   "outputs": [
    {
     "data": {
      "text/plain": [
       "56936"
      ]
     },
     "execution_count": 60,
     "metadata": {},
     "output_type": "execute_result"
    }
   ],
   "source": [
    "ans = 0\n",
    "for i in data:\n",
    "    ans += i\n",
    "    \n",
    "ans"
   ]
  },
  {
   "cell_type": "code",
   "execution_count": 63,
   "id": "cdea427f",
   "metadata": {},
   "outputs": [],
   "source": [
    "def give_sum(koi_data):\n",
    "    '''This will give the total sum value of given numerical collection!!'''\n",
    "    \n",
    "    if type(koi_data) in [list,tuple,set]:\n",
    "        ans = 0\n",
    "        \n",
    "        for i in koi_data:\n",
    "            ans += i\n",
    "        \n",
    "        print(f'Your total answer is: {ans}')\n",
    "    \n",
    "    else:\n",
    "        print('Invalid Data type!!')  "
   ]
  },
  {
   "cell_type": "code",
   "execution_count": null,
   "id": "6b842963",
   "metadata": {},
   "outputs": [],
   "source": []
  },
  {
   "cell_type": "code",
   "execution_count": 64,
   "id": "b380dd1c",
   "metadata": {},
   "outputs": [
    {
     "name": "stdout",
     "output_type": "stream",
     "text": [
      "Your total answer is: 8798\n"
     ]
    }
   ],
   "source": [
    "data = [1243,3124,35,4324,5,67]\n",
    "\n",
    "give_sum(data)"
   ]
  },
  {
   "cell_type": "code",
   "execution_count": 66,
   "id": "0b76d828",
   "metadata": {},
   "outputs": [
    {
     "data": {
      "text/plain": [
       "9798"
      ]
     },
     "execution_count": 66,
     "metadata": {},
     "output_type": "execute_result"
    }
   ],
   "source": [
    "sum(data) + 1000"
   ]
  },
  {
   "cell_type": "code",
   "execution_count": 67,
   "id": "f0074bf6",
   "metadata": {},
   "outputs": [
    {
     "name": "stdout",
     "output_type": "stream",
     "text": [
      "Your total answer is: 8798\n"
     ]
    },
    {
     "ename": "TypeError",
     "evalue": "unsupported operand type(s) for +: 'NoneType' and 'int'",
     "output_type": "error",
     "traceback": [
      "\u001b[1;31m---------------------------------------------------------------------------\u001b[0m",
      "\u001b[1;31mTypeError\u001b[0m                                 Traceback (most recent call last)",
      "Cell \u001b[1;32mIn[67], line 1\u001b[0m\n\u001b[1;32m----> 1\u001b[0m give_sum(data) \u001b[38;5;241m+\u001b[39m \u001b[38;5;241m1000\u001b[39m\n",
      "\u001b[1;31mTypeError\u001b[0m: unsupported operand type(s) for +: 'NoneType' and 'int'"
     ]
    }
   ],
   "source": [
    "give_sum(data) + 1000"
   ]
  },
  {
   "cell_type": "code",
   "execution_count": null,
   "id": "296b8904",
   "metadata": {},
   "outputs": [],
   "source": []
  },
  {
   "cell_type": "code",
   "execution_count": 68,
   "id": "58266cb1",
   "metadata": {},
   "outputs": [],
   "source": [
    "# return vs print\n",
    "def give_sum(koi_data):\n",
    "    '''This will give the total sum value of given numerical collection!!'''\n",
    "    \n",
    "    if type(koi_data) in [list,tuple,set]:\n",
    "        ans = 0\n",
    "        \n",
    "        for i in koi_data:\n",
    "            ans += i\n",
    "        \n",
    "        return ans\n",
    "    \n",
    "    else:\n",
    "        print('Invalid Data type!!')  "
   ]
  },
  {
   "cell_type": "code",
   "execution_count": null,
   "id": "0e719f64",
   "metadata": {},
   "outputs": [],
   "source": []
  },
  {
   "cell_type": "code",
   "execution_count": 69,
   "id": "480cfb23",
   "metadata": {},
   "outputs": [
    {
     "data": {
      "text/plain": [
       "8798"
      ]
     },
     "execution_count": 69,
     "metadata": {},
     "output_type": "execute_result"
    }
   ],
   "source": [
    "give_sum(data)"
   ]
  },
  {
   "cell_type": "code",
   "execution_count": 70,
   "id": "562a54ad",
   "metadata": {},
   "outputs": [
    {
     "data": {
      "text/plain": [
       "8798"
      ]
     },
     "execution_count": 70,
     "metadata": {},
     "output_type": "execute_result"
    }
   ],
   "source": [
    "sum(data)"
   ]
  },
  {
   "cell_type": "code",
   "execution_count": 74,
   "id": "5fb20706",
   "metadata": {},
   "outputs": [
    {
     "name": "stdout",
     "output_type": "stream",
     "text": [
      "9798\n"
     ]
    }
   ],
   "source": [
    "print(sum(data) + 1000)"
   ]
  },
  {
   "cell_type": "code",
   "execution_count": 73,
   "id": "55c00cbc",
   "metadata": {},
   "outputs": [
    {
     "name": "stdout",
     "output_type": "stream",
     "text": [
      "9798\n"
     ]
    }
   ],
   "source": [
    "print(give_sum(data) + 1000)"
   ]
  },
  {
   "cell_type": "code",
   "execution_count": 75,
   "id": "b8bab7c9",
   "metadata": {},
   "outputs": [],
   "source": [
    "# func:- ib, udf\n",
    "# with parameter, without parameter\n",
    "# multi parameter, muti arguments\n",
    "# docstring message\n",
    "# return vs print"
   ]
  },
  {
   "cell_type": "code",
   "execution_count": 76,
   "id": "be45648f",
   "metadata": {},
   "outputs": [],
   "source": [
    "# # min, max\n",
    "\n",
    "# def my_min\n",
    "\n",
    "# def my_max"
   ]
  },
  {
   "cell_type": "markdown",
   "id": "e7f683ae",
   "metadata": {},
   "source": [
    "# Day 2"
   ]
  },
  {
   "cell_type": "code",
   "execution_count": 1,
   "id": "81cbdc51",
   "metadata": {},
   "outputs": [],
   "source": [
    "# *args, **kwargs\n",
    "# nested function\n",
    "# scope\n",
    "# lambda\n",
    "# yield\n"
   ]
  },
  {
   "cell_type": "code",
   "execution_count": 2,
   "id": "797271f8",
   "metadata": {},
   "outputs": [],
   "source": [
    "def add(a,b):\n",
    "    return a+b"
   ]
  },
  {
   "cell_type": "code",
   "execution_count": 3,
   "id": "10c67d67",
   "metadata": {},
   "outputs": [
    {
     "data": {
      "text/plain": [
       "6"
      ]
     },
     "execution_count": 3,
     "metadata": {},
     "output_type": "execute_result"
    }
   ],
   "source": [
    "add(1,5)"
   ]
  },
  {
   "cell_type": "code",
   "execution_count": 4,
   "id": "481dca73",
   "metadata": {},
   "outputs": [
    {
     "ename": "TypeError",
     "evalue": "add() takes 2 positional arguments but 3 were given",
     "output_type": "error",
     "traceback": [
      "\u001b[1;31m---------------------------------------------------------------------------\u001b[0m",
      "\u001b[1;31mTypeError\u001b[0m                                 Traceback (most recent call last)",
      "Cell \u001b[1;32mIn[4], line 1\u001b[0m\n\u001b[1;32m----> 1\u001b[0m add(\u001b[38;5;241m1\u001b[39m,\u001b[38;5;241m5\u001b[39m,\u001b[38;5;241m56\u001b[39m)\n",
      "\u001b[1;31mTypeError\u001b[0m: add() takes 2 positional arguments but 3 were given"
     ]
    }
   ],
   "source": [
    "add(1,5,56)"
   ]
  },
  {
   "cell_type": "code",
   "execution_count": 5,
   "id": "17ff42fc",
   "metadata": {},
   "outputs": [],
   "source": [
    "def add(a,b,c):\n",
    "    return a+b+c"
   ]
  },
  {
   "cell_type": "code",
   "execution_count": 6,
   "id": "ad0d0966",
   "metadata": {},
   "outputs": [
    {
     "data": {
      "text/plain": [
       "10"
      ]
     },
     "execution_count": 6,
     "metadata": {},
     "output_type": "execute_result"
    }
   ],
   "source": [
    "add(1,4,5)"
   ]
  },
  {
   "cell_type": "code",
   "execution_count": 7,
   "id": "76a70fa1",
   "metadata": {},
   "outputs": [
    {
     "ename": "TypeError",
     "evalue": "add() missing 1 required positional argument: 'c'",
     "output_type": "error",
     "traceback": [
      "\u001b[1;31m---------------------------------------------------------------------------\u001b[0m",
      "\u001b[1;31mTypeError\u001b[0m                                 Traceback (most recent call last)",
      "Cell \u001b[1;32mIn[7], line 1\u001b[0m\n\u001b[1;32m----> 1\u001b[0m add(\u001b[38;5;241m2\u001b[39m,\u001b[38;5;241m4\u001b[39m)\n",
      "\u001b[1;31mTypeError\u001b[0m: add() missing 1 required positional argument: 'c'"
     ]
    }
   ],
   "source": [
    "add(2,4)"
   ]
  },
  {
   "cell_type": "code",
   "execution_count": 8,
   "id": "8699640d",
   "metadata": {},
   "outputs": [
    {
     "ename": "TypeError",
     "evalue": "add() takes 3 positional arguments but 4 were given",
     "output_type": "error",
     "traceback": [
      "\u001b[1;31m---------------------------------------------------------------------------\u001b[0m",
      "\u001b[1;31mTypeError\u001b[0m                                 Traceback (most recent call last)",
      "Cell \u001b[1;32mIn[8], line 1\u001b[0m\n\u001b[1;32m----> 1\u001b[0m add(\u001b[38;5;241m3\u001b[39m,\u001b[38;5;241m5\u001b[39m,\u001b[38;5;241m6\u001b[39m,\u001b[38;5;241m7\u001b[39m)\n",
      "\u001b[1;31mTypeError\u001b[0m: add() takes 3 positional arguments but 4 were given"
     ]
    }
   ],
   "source": [
    "add(3,5,6,7)"
   ]
  },
  {
   "cell_type": "code",
   "execution_count": 10,
   "id": "34e6c9fa",
   "metadata": {},
   "outputs": [],
   "source": [
    "# *args:- kitne bhi arguments"
   ]
  },
  {
   "cell_type": "code",
   "execution_count": 13,
   "id": "b979209f",
   "metadata": {},
   "outputs": [],
   "source": [
    "def add(*args):\n",
    "    ans = 0\n",
    "    \n",
    "    for i in args:\n",
    "        ans += i\n",
    "    return ans"
   ]
  },
  {
   "cell_type": "code",
   "execution_count": 14,
   "id": "45c79660",
   "metadata": {},
   "outputs": [
    {
     "data": {
      "text/plain": [
       "864"
      ]
     },
     "execution_count": 14,
     "metadata": {},
     "output_type": "execute_result"
    }
   ],
   "source": [
    "add(1,2,421,434,6)"
   ]
  },
  {
   "cell_type": "code",
   "execution_count": 15,
   "id": "50a46f8c",
   "metadata": {},
   "outputs": [
    {
     "data": {
      "text/plain": [
       "73244"
      ]
     },
     "execution_count": 15,
     "metadata": {},
     "output_type": "execute_result"
    }
   ],
   "source": [
    "add(1,23,321,34,56,43,454,67,7,6342,4,457,65435,)"
   ]
  },
  {
   "cell_type": "code",
   "execution_count": 16,
   "id": "8614b7e4",
   "metadata": {},
   "outputs": [
    {
     "data": {
      "text/plain": [
       "24"
      ]
     },
     "execution_count": 16,
     "metadata": {},
     "output_type": "execute_result"
    }
   ],
   "source": [
    "add(1,23)"
   ]
  },
  {
   "cell_type": "code",
   "execution_count": 17,
   "id": "adcbd927",
   "metadata": {},
   "outputs": [
    {
     "data": {
      "text/plain": [
       "24481"
      ]
     },
     "execution_count": 17,
     "metadata": {},
     "output_type": "execute_result"
    }
   ],
   "source": [
    "add(1,24435,45)"
   ]
  },
  {
   "cell_type": "code",
   "execution_count": 18,
   "id": "ec755d0b",
   "metadata": {},
   "outputs": [],
   "source": [
    "def add(*noida):\n",
    "    ans = 0\n",
    "    \n",
    "    for i in noida:\n",
    "        ans += i\n",
    "    return ans"
   ]
  },
  {
   "cell_type": "code",
   "execution_count": 19,
   "id": "4c3f9f3e",
   "metadata": {},
   "outputs": [
    {
     "data": {
      "text/plain": [
       "353"
      ]
     },
     "execution_count": 19,
     "metadata": {},
     "output_type": "execute_result"
    }
   ],
   "source": [
    "add(2,345,6)"
   ]
  },
  {
   "cell_type": "code",
   "execution_count": 20,
   "id": "4b9db7d9",
   "metadata": {},
   "outputs": [],
   "source": [
    "# def :- defined:- to create a func we use def keyword"
   ]
  },
  {
   "cell_type": "code",
   "execution_count": 21,
   "id": "243aab9d",
   "metadata": {},
   "outputs": [],
   "source": [
    "def about_you(name,address,age,salary):\n",
    "    print(f'Your name is {name}')\n",
    "    print(f'Your Address is {address}')\n",
    "    print(f'Your Age is {age}')\n",
    "    print(f'Your Salary is {salary}')    "
   ]
  },
  {
   "cell_type": "code",
   "execution_count": null,
   "id": "95d4f2cf",
   "metadata": {},
   "outputs": [],
   "source": []
  },
  {
   "cell_type": "code",
   "execution_count": 22,
   "id": "0b088058",
   "metadata": {},
   "outputs": [
    {
     "ename": "TypeError",
     "evalue": "about_you() missing 2 required positional arguments: 'age' and 'salary'",
     "output_type": "error",
     "traceback": [
      "\u001b[1;31m---------------------------------------------------------------------------\u001b[0m",
      "\u001b[1;31mTypeError\u001b[0m                                 Traceback (most recent call last)",
      "Cell \u001b[1;32mIn[22], line 1\u001b[0m\n\u001b[1;32m----> 1\u001b[0m about_you(\u001b[38;5;124m'\u001b[39m\u001b[38;5;124mkaran\u001b[39m\u001b[38;5;124m'\u001b[39m,\u001b[38;5;124m'\u001b[39m\u001b[38;5;124mNoida\u001b[39m\u001b[38;5;124m'\u001b[39m)\n",
      "\u001b[1;31mTypeError\u001b[0m: about_you() missing 2 required positional arguments: 'age' and 'salary'"
     ]
    }
   ],
   "source": [
    "about_you('karan','Noida')"
   ]
  },
  {
   "cell_type": "code",
   "execution_count": 23,
   "id": "29441809",
   "metadata": {},
   "outputs": [
    {
     "name": "stdout",
     "output_type": "stream",
     "text": [
      "Your name is karan\n",
      "Your Address is Noida\n",
      "Your Age is 23\n",
      "Your Salary is 345678\n"
     ]
    }
   ],
   "source": [
    "about_you('karan','Noida',23,345678)"
   ]
  },
  {
   "cell_type": "code",
   "execution_count": 24,
   "id": "6f95f196",
   "metadata": {},
   "outputs": [
    {
     "ename": "TypeError",
     "evalue": "about_you() takes 4 positional arguments but 5 were given",
     "output_type": "error",
     "traceback": [
      "\u001b[1;31m---------------------------------------------------------------------------\u001b[0m",
      "\u001b[1;31mTypeError\u001b[0m                                 Traceback (most recent call last)",
      "Cell \u001b[1;32mIn[24], line 1\u001b[0m\n\u001b[1;32m----> 1\u001b[0m about_you(\u001b[38;5;124m'\u001b[39m\u001b[38;5;124mkaran\u001b[39m\u001b[38;5;124m'\u001b[39m,\u001b[38;5;124m'\u001b[39m\u001b[38;5;124mNoida\u001b[39m\u001b[38;5;124m'\u001b[39m,\u001b[38;5;241m34\u001b[39m,\u001b[38;5;241m34567\u001b[39m,\u001b[38;5;124m'\u001b[39m\u001b[38;5;124mMale\u001b[39m\u001b[38;5;124m'\u001b[39m)\n",
      "\u001b[1;31mTypeError\u001b[0m: about_you() takes 4 positional arguments but 5 were given"
     ]
    }
   ],
   "source": [
    "about_you('karan','Noida',34,34567,'Male')"
   ]
  },
  {
   "cell_type": "code",
   "execution_count": 25,
   "id": "11a3ba1b",
   "metadata": {},
   "outputs": [],
   "source": [
    "# **kwargs:- keyword arguments:- kitne bhi"
   ]
  },
  {
   "cell_type": "code",
   "execution_count": 26,
   "id": "5f3e4eb5",
   "metadata": {},
   "outputs": [],
   "source": [
    "def introduce(**kwargs):\n",
    "    print(kwargs)"
   ]
  },
  {
   "cell_type": "code",
   "execution_count": 27,
   "id": "5136fa36",
   "metadata": {},
   "outputs": [
    {
     "name": "stdout",
     "output_type": "stream",
     "text": [
      "{'name': 'karan', 'age': 45, 'salary': 876543, 'address': 'Delhi'}\n"
     ]
    }
   ],
   "source": [
    "introduce(name = 'karan',age = 45,salary = 876543, address = 'Delhi')"
   ]
  },
  {
   "cell_type": "code",
   "execution_count": null,
   "id": "686fc9ee",
   "metadata": {},
   "outputs": [],
   "source": []
  },
  {
   "cell_type": "code",
   "execution_count": 32,
   "id": "8c4082c6",
   "metadata": {},
   "outputs": [],
   "source": [
    "def introduce(**kwargs):\n",
    "    for i in kwargs:\n",
    "        print(f'Your {i} is : {kwargs[i]}')"
   ]
  },
  {
   "cell_type": "code",
   "execution_count": 33,
   "id": "14363816",
   "metadata": {},
   "outputs": [
    {
     "name": "stdout",
     "output_type": "stream",
     "text": [
      "Your name is : karan\n",
      "Your age is : 45\n",
      "Your salary is : 876543\n",
      "Your address is : Delhi\n"
     ]
    }
   ],
   "source": [
    "introduce(name = 'karan',age = 45,salary = 876543, address = 'Delhi')"
   ]
  },
  {
   "cell_type": "code",
   "execution_count": null,
   "id": "f9510393",
   "metadata": {},
   "outputs": [],
   "source": []
  },
  {
   "cell_type": "code",
   "execution_count": null,
   "id": "08b8459c",
   "metadata": {},
   "outputs": [],
   "source": []
  },
  {
   "cell_type": "code",
   "execution_count": 37,
   "id": "d4ee2708",
   "metadata": {},
   "outputs": [],
   "source": [
    "def introduce(**ajaydevgan):\n",
    "    for i in ajaydevgan:\n",
    "        print(f'Your {i} is : {ajaydevgan[i]}')"
   ]
  },
  {
   "cell_type": "code",
   "execution_count": null,
   "id": "4b095ae2",
   "metadata": {},
   "outputs": [],
   "source": []
  },
  {
   "cell_type": "code",
   "execution_count": 38,
   "id": "cd181586",
   "metadata": {},
   "outputs": [
    {
     "name": "stdout",
     "output_type": "stream",
     "text": [
      "Your name is : karan\n",
      "Your age is : 45\n",
      "Your salary is : 876543\n",
      "Your address is : Delhi\n"
     ]
    }
   ],
   "source": [
    "introduce(name = 'karan',age = 45,salary = 876543, address = 'Delhi')"
   ]
  },
  {
   "cell_type": "code",
   "execution_count": 39,
   "id": "b035a0d8",
   "metadata": {},
   "outputs": [],
   "source": [
    "# nested function"
   ]
  },
  {
   "cell_type": "code",
   "execution_count": 40,
   "id": "4c026c78",
   "metadata": {},
   "outputs": [],
   "source": [
    "# function inside function:- nested function"
   ]
  },
  {
   "cell_type": "code",
   "execution_count": 48,
   "id": "0948544d",
   "metadata": {},
   "outputs": [],
   "source": [
    "def outer():\n",
    "    print('I am outer function')\n",
    "    \n",
    "    def inner():\n",
    "        print('I am inner function')\n",
    "        \n",
    "    def car():\n",
    "        print('This is a car func')\n",
    "        \n",
    "    inner()\n",
    "    car()"
   ]
  },
  {
   "cell_type": "code",
   "execution_count": 49,
   "id": "a77ed3e8",
   "metadata": {},
   "outputs": [
    {
     "name": "stdout",
     "output_type": "stream",
     "text": [
      "I am outer function\n",
      "I am inner function\n",
      "This is a car func\n"
     ]
    }
   ],
   "source": [
    "outer()"
   ]
  },
  {
   "cell_type": "code",
   "execution_count": null,
   "id": "2e1a9ce2",
   "metadata": {},
   "outputs": [],
   "source": []
  },
  {
   "cell_type": "code",
   "execution_count": 66,
   "id": "5282e40a",
   "metadata": {},
   "outputs": [],
   "source": [
    "def a():\n",
    "    print('this is a func')\n",
    "    \n",
    "    def b():\n",
    "        print('this is b func')\n",
    "        \n",
    "    def c():\n",
    "        print('this is c func')\n",
    "        \n",
    "        def d():\n",
    "            print('this is d func')\n",
    "            \n",
    "        def e():\n",
    "            print('this is e func') \n",
    "            \n",
    "            def f():\n",
    "                print('this is f func')\n",
    "                \n",
    "            f()\n",
    "        \n",
    "        d()\n",
    "        e()\n",
    "                \n",
    "    def g():\n",
    "        print('this is g func')  \n",
    "        \n",
    "    b()\n",
    "    c()\n",
    "    g()"
   ]
  },
  {
   "cell_type": "code",
   "execution_count": 67,
   "id": "0af433c5",
   "metadata": {},
   "outputs": [
    {
     "name": "stdout",
     "output_type": "stream",
     "text": [
      "this is a func\n",
      "this is b func\n",
      "this is c func\n",
      "this is d func\n",
      "this is e func\n",
      "this is f func\n",
      "this is g func\n"
     ]
    }
   ],
   "source": [
    "a()"
   ]
  },
  {
   "cell_type": "code",
   "execution_count": null,
   "id": "4f0a54c1",
   "metadata": {},
   "outputs": [],
   "source": []
  },
  {
   "cell_type": "code",
   "execution_count": 68,
   "id": "834fd9d5",
   "metadata": {},
   "outputs": [],
   "source": [
    "# scope\n",
    "# yield"
   ]
  },
  {
   "cell_type": "code",
   "execution_count": 70,
   "id": "3901615f",
   "metadata": {},
   "outputs": [],
   "source": [
    "# scope: access of a variable, local variable, global variable, nonlocal variable"
   ]
  },
  {
   "cell_type": "code",
   "execution_count": null,
   "id": "6879b141",
   "metadata": {},
   "outputs": [],
   "source": []
  },
  {
   "cell_type": "code",
   "execution_count": 71,
   "id": "ca8e9e89",
   "metadata": {},
   "outputs": [],
   "source": [
    "company = 'Techvidya', #Global variable:- har jagah access matlab use ho sakta hai\n",
    "\n",
    "\n",
    "def what_is_your_company_name():\n",
    "    print(f'My name is {company}')"
   ]
  },
  {
   "cell_type": "code",
   "execution_count": null,
   "id": "a0950a17",
   "metadata": {},
   "outputs": [],
   "source": []
  },
  {
   "cell_type": "code",
   "execution_count": 74,
   "id": "1d109e15",
   "metadata": {},
   "outputs": [
    {
     "name": "stdout",
     "output_type": "stream",
     "text": [
      "My name is Kia\n"
     ]
    }
   ],
   "source": [
    "company = 'Kia'\n",
    "\n",
    "what_is_your_company_name()"
   ]
  },
  {
   "cell_type": "code",
   "execution_count": null,
   "id": "b269b044",
   "metadata": {},
   "outputs": [],
   "source": []
  },
  {
   "cell_type": "code",
   "execution_count": null,
   "id": "1d3bc83b",
   "metadata": {},
   "outputs": [],
   "source": []
  },
  {
   "cell_type": "code",
   "execution_count": 79,
   "id": "93540786",
   "metadata": {},
   "outputs": [],
   "source": [
    "def meri_company():\n",
    "    company_name = 'TCS'\n",
    "    company_address = 'Noida'\n",
    "    about = '''This is an It based company'''\n",
    "    \n",
    "    staff = 45\n",
    "    \n",
    "    # koi variable agar function ke andar declare hoga to bahar use nahi ho sakta\n",
    "    # kyuki wo local variable hota hai\n",
    "    \n",
    "    print(f'My company name is {company_name}')\n",
    "    print(about)\n",
    "    print(f'Total Staff is {staff}')"
   ]
  },
  {
   "cell_type": "code",
   "execution_count": null,
   "id": "6654f2f3",
   "metadata": {},
   "outputs": [],
   "source": []
  },
  {
   "cell_type": "code",
   "execution_count": 76,
   "id": "3682e5db",
   "metadata": {},
   "outputs": [
    {
     "name": "stdout",
     "output_type": "stream",
     "text": [
      "My company name is TCS\n",
      "This is an It based company\n",
      "Total Staff is 45\n"
     ]
    }
   ],
   "source": [
    "meri_company()"
   ]
  },
  {
   "cell_type": "code",
   "execution_count": 77,
   "id": "e56b87fe",
   "metadata": {},
   "outputs": [
    {
     "ename": "NameError",
     "evalue": "name 'staff' is not defined",
     "output_type": "error",
     "traceback": [
      "\u001b[1;31m---------------------------------------------------------------------------\u001b[0m",
      "\u001b[1;31mNameError\u001b[0m                                 Traceback (most recent call last)",
      "Cell \u001b[1;32mIn[77], line 1\u001b[0m\n\u001b[1;32m----> 1\u001b[0m \u001b[38;5;28mprint\u001b[39m(staff)\n",
      "\u001b[1;31mNameError\u001b[0m: name 'staff' is not defined"
     ]
    }
   ],
   "source": [
    "print(staff)"
   ]
  },
  {
   "cell_type": "code",
   "execution_count": 78,
   "id": "c18596df",
   "metadata": {},
   "outputs": [
    {
     "ename": "NameError",
     "evalue": "name 'about' is not defined",
     "output_type": "error",
     "traceback": [
      "\u001b[1;31m---------------------------------------------------------------------------\u001b[0m",
      "\u001b[1;31mNameError\u001b[0m                                 Traceback (most recent call last)",
      "Cell \u001b[1;32mIn[78], line 1\u001b[0m\n\u001b[1;32m----> 1\u001b[0m \u001b[38;5;28mprint\u001b[39m(about)\n",
      "\u001b[1;31mNameError\u001b[0m: name 'about' is not defined"
     ]
    }
   ],
   "source": [
    "print(about)"
   ]
  },
  {
   "cell_type": "code",
   "execution_count": null,
   "id": "28cd7a8d",
   "metadata": {},
   "outputs": [],
   "source": []
  },
  {
   "cell_type": "code",
   "execution_count": null,
   "id": "9d66c185",
   "metadata": {},
   "outputs": [],
   "source": []
  },
  {
   "cell_type": "code",
   "execution_count": 89,
   "id": "96260fcc",
   "metadata": {},
   "outputs": [],
   "source": [
    "def meri_company():\n",
    "    global staff,company_address,company_name\n",
    "    company_name = 'TCS'\n",
    "    company_address = 'Noida'\n",
    "    about = '''This is an It based company'''\n",
    "    \n",
    "    staff = 45\n",
    "    \n",
    "    print(f'My company name is {company_name}')\n",
    "    print(about)\n",
    "    print(f'Total Staff is {staff}')"
   ]
  },
  {
   "cell_type": "code",
   "execution_count": 90,
   "id": "495b4992",
   "metadata": {},
   "outputs": [
    {
     "name": "stdout",
     "output_type": "stream",
     "text": [
      "My company name is TCS\n",
      "This is an It based company\n",
      "Total Staff is 45\n"
     ]
    }
   ],
   "source": [
    "meri_company()"
   ]
  },
  {
   "cell_type": "code",
   "execution_count": 91,
   "id": "3a7010fd",
   "metadata": {},
   "outputs": [
    {
     "name": "stdout",
     "output_type": "stream",
     "text": [
      "45\n"
     ]
    }
   ],
   "source": [
    "print(staff)"
   ]
  },
  {
   "cell_type": "code",
   "execution_count": 92,
   "id": "6c6eaf8a",
   "metadata": {},
   "outputs": [
    {
     "name": "stdout",
     "output_type": "stream",
     "text": [
      "Noida\n"
     ]
    }
   ],
   "source": [
    "print(company_address)"
   ]
  },
  {
   "cell_type": "code",
   "execution_count": 93,
   "id": "bb90a4b2",
   "metadata": {},
   "outputs": [
    {
     "name": "stdout",
     "output_type": "stream",
     "text": [
      "TCS\n"
     ]
    }
   ],
   "source": [
    "print(company_name)"
   ]
  },
  {
   "cell_type": "code",
   "execution_count": null,
   "id": "c67e3963",
   "metadata": {},
   "outputs": [],
   "source": []
  },
  {
   "cell_type": "code",
   "execution_count": 94,
   "id": "b83d1a82",
   "metadata": {},
   "outputs": [],
   "source": [
    "# nonlocal"
   ]
  },
  {
   "cell_type": "code",
   "execution_count": 98,
   "id": "b5ccc864",
   "metadata": {},
   "outputs": [],
   "source": [
    "def techvidya():\n",
    "    what = '''We are in Techvidya'''\n",
    "    print(what)\n",
    "    def noida():\n",
    "        what = '''We are in Noida'''\n",
    "        print(what)\n",
    "    noida()\n",
    "    \n",
    "    print(what)"
   ]
  },
  {
   "cell_type": "code",
   "execution_count": 99,
   "id": "6cb33479",
   "metadata": {},
   "outputs": [
    {
     "name": "stdout",
     "output_type": "stream",
     "text": [
      "We are in Techvidya\n",
      "We are in Noida\n",
      "We are in Techvidya\n"
     ]
    }
   ],
   "source": [
    "techvidya()"
   ]
  },
  {
   "cell_type": "code",
   "execution_count": null,
   "id": "3329afd6",
   "metadata": {},
   "outputs": [],
   "source": []
  },
  {
   "cell_type": "code",
   "execution_count": null,
   "id": "2d08b5de",
   "metadata": {},
   "outputs": [],
   "source": []
  },
  {
   "cell_type": "code",
   "execution_count": 100,
   "id": "cd86ba1f",
   "metadata": {},
   "outputs": [],
   "source": [
    "def techvidya():\n",
    "    what = '''We are in Techvidya'''\n",
    "    print(what)\n",
    "    def noida():\n",
    "        nonlocal what\n",
    "        what = '''We are in Noida'''\n",
    "        print(what)\n",
    "    noida()\n",
    "    \n",
    "    print(what)"
   ]
  },
  {
   "cell_type": "code",
   "execution_count": null,
   "id": "dd469bb2",
   "metadata": {},
   "outputs": [],
   "source": []
  },
  {
   "cell_type": "code",
   "execution_count": 101,
   "id": "f2b5250c",
   "metadata": {},
   "outputs": [
    {
     "name": "stdout",
     "output_type": "stream",
     "text": [
      "We are in Techvidya\n",
      "We are in Noida\n",
      "We are in Noida\n"
     ]
    }
   ],
   "source": [
    "techvidya()"
   ]
  },
  {
   "cell_type": "code",
   "execution_count": 102,
   "id": "a2dae662",
   "metadata": {},
   "outputs": [],
   "source": [
    "# Scope:- global, local, nonlocal"
   ]
  },
  {
   "cell_type": "code",
   "execution_count": null,
   "id": "17cc6172",
   "metadata": {},
   "outputs": [],
   "source": []
  },
  {
   "cell_type": "code",
   "execution_count": 103,
   "id": "d6b1e333",
   "metadata": {},
   "outputs": [],
   "source": [
    "# yield concept"
   ]
  },
  {
   "cell_type": "code",
   "execution_count": 104,
   "id": "fa8b19ac",
   "metadata": {},
   "outputs": [],
   "source": [
    "def nadi_devta():\n",
    "    yield 'Gold Axe'\n",
    "    yield 'Silver Axe'\n",
    "    yield 'Iron Axe'\n",
    "    yield ['Gold Axe','Silver Axe','Iron Axe']"
   ]
  },
  {
   "cell_type": "code",
   "execution_count": 105,
   "id": "81805f39",
   "metadata": {},
   "outputs": [],
   "source": [
    "\n",
    "banda = nadi_devta()"
   ]
  },
  {
   "cell_type": "code",
   "execution_count": 110,
   "id": "ace8119d",
   "metadata": {},
   "outputs": [
    {
     "ename": "StopIteration",
     "evalue": "",
     "output_type": "error",
     "traceback": [
      "\u001b[1;31m---------------------------------------------------------------------------\u001b[0m",
      "\u001b[1;31mStopIteration\u001b[0m                             Traceback (most recent call last)",
      "Cell \u001b[1;32mIn[110], line 1\u001b[0m\n\u001b[1;32m----> 1\u001b[0m \u001b[38;5;28mnext\u001b[39m(banda)\n",
      "\u001b[1;31mStopIteration\u001b[0m: "
     ]
    }
   ],
   "source": [
    "next(banda)"
   ]
  },
  {
   "cell_type": "code",
   "execution_count": null,
   "id": "092409aa",
   "metadata": {},
   "outputs": [],
   "source": []
  },
  {
   "cell_type": "markdown",
   "id": "d8aab77d",
   "metadata": {},
   "source": [
    "# Day 3"
   ]
  },
  {
   "cell_type": "code",
   "execution_count": 1,
   "id": "7e4d36ec",
   "metadata": {},
   "outputs": [],
   "source": [
    "# Lambda:- anonymus function, one liner func"
   ]
  },
  {
   "cell_type": "code",
   "execution_count": 2,
   "id": "23dd78ae",
   "metadata": {},
   "outputs": [],
   "source": [
    "def multiply(x,y):\n",
    "    return x*y"
   ]
  },
  {
   "cell_type": "code",
   "execution_count": 3,
   "id": "9c6e20ca",
   "metadata": {},
   "outputs": [
    {
     "data": {
      "text/plain": [
       "120"
      ]
     },
     "execution_count": 3,
     "metadata": {},
     "output_type": "execute_result"
    }
   ],
   "source": [
    "multiply(12,10)"
   ]
  },
  {
   "cell_type": "code",
   "execution_count": 4,
   "id": "c71169d0",
   "metadata": {},
   "outputs": [],
   "source": [
    "akshay = lambda x,y : x*y"
   ]
  },
  {
   "cell_type": "code",
   "execution_count": 5,
   "id": "d19ea100",
   "metadata": {},
   "outputs": [
    {
     "data": {
      "text/plain": [
       "100"
      ]
     },
     "execution_count": 5,
     "metadata": {},
     "output_type": "execute_result"
    }
   ],
   "source": [
    "akshay(10,10)"
   ]
  },
  {
   "cell_type": "code",
   "execution_count": 7,
   "id": "81509eb9",
   "metadata": {},
   "outputs": [],
   "source": [
    "my_add = lambda x,y: x+y"
   ]
  },
  {
   "cell_type": "code",
   "execution_count": 8,
   "id": "945b4a93",
   "metadata": {},
   "outputs": [
    {
     "data": {
      "text/plain": [
       "24"
      ]
     },
     "execution_count": 8,
     "metadata": {},
     "output_type": "execute_result"
    }
   ],
   "source": [
    "my_add(10,14)"
   ]
  },
  {
   "cell_type": "code",
   "execution_count": 10,
   "id": "e3f1a71e",
   "metadata": {},
   "outputs": [],
   "source": [
    "even_odd = lambda num: 'Even' if num % 2 == 0 else 'Odd'"
   ]
  },
  {
   "cell_type": "code",
   "execution_count": 11,
   "id": "d3d1f9a4",
   "metadata": {},
   "outputs": [
    {
     "data": {
      "text/plain": [
       "'Even'"
      ]
     },
     "execution_count": 11,
     "metadata": {},
     "output_type": "execute_result"
    }
   ],
   "source": [
    "even_odd(1234)"
   ]
  },
  {
   "cell_type": "code",
   "execution_count": 12,
   "id": "6360b750",
   "metadata": {},
   "outputs": [
    {
     "data": {
      "text/plain": [
       "'Odd'"
      ]
     },
     "execution_count": 12,
     "metadata": {},
     "output_type": "execute_result"
    }
   ],
   "source": [
    "even_odd(123)"
   ]
  },
  {
   "cell_type": "code",
   "execution_count": 13,
   "id": "8a26496c",
   "metadata": {},
   "outputs": [],
   "source": [
    "check_v_c = lambda word: 'Vowels' if word[0].lower() in 'aeiou' else 'Consonants'"
   ]
  },
  {
   "cell_type": "code",
   "execution_count": 14,
   "id": "1e7a04f7",
   "metadata": {},
   "outputs": [
    {
     "data": {
      "text/plain": [
       "'Vowels'"
      ]
     },
     "execution_count": 14,
     "metadata": {},
     "output_type": "execute_result"
    }
   ],
   "source": [
    "check_v_c('ola')"
   ]
  },
  {
   "cell_type": "code",
   "execution_count": 15,
   "id": "3b576758",
   "metadata": {},
   "outputs": [
    {
     "data": {
      "text/plain": [
       "'Consonants'"
      ]
     },
     "execution_count": 15,
     "metadata": {},
     "output_type": "execute_result"
    }
   ],
   "source": [
    "check_v_c('tata')"
   ]
  },
  {
   "cell_type": "code",
   "execution_count": 16,
   "id": "2062da90",
   "metadata": {},
   "outputs": [
    {
     "data": {
      "text/plain": [
       "'Consonants'"
      ]
     },
     "execution_count": 16,
     "metadata": {},
     "output_type": "execute_result"
    }
   ],
   "source": [
    "check_v_c('KIA')"
   ]
  },
  {
   "cell_type": "code",
   "execution_count": 17,
   "id": "bd9cfd68",
   "metadata": {},
   "outputs": [
    {
     "data": {
      "text/plain": [
       "'Vowels'"
      ]
     },
     "execution_count": 17,
     "metadata": {},
     "output_type": "execute_result"
    }
   ],
   "source": [
    "check_v_c(\"OLA\")"
   ]
  },
  {
   "cell_type": "code",
   "execution_count": 18,
   "id": "f0122739",
   "metadata": {},
   "outputs": [],
   "source": [
    "check_div = lambda x,y: 'Divisible' if x % y == 0 else 'Not Divisible'"
   ]
  },
  {
   "cell_type": "code",
   "execution_count": 19,
   "id": "400244bd",
   "metadata": {},
   "outputs": [
    {
     "data": {
      "text/plain": [
       "'Divisible'"
      ]
     },
     "execution_count": 19,
     "metadata": {},
     "output_type": "execute_result"
    }
   ],
   "source": [
    "check_div(12,6)"
   ]
  },
  {
   "cell_type": "code",
   "execution_count": 20,
   "id": "bc953740",
   "metadata": {},
   "outputs": [
    {
     "data": {
      "text/plain": [
       "'Not Divisible'"
      ]
     },
     "execution_count": 20,
     "metadata": {},
     "output_type": "execute_result"
    }
   ],
   "source": [
    "check_div(17,6)"
   ]
  },
  {
   "cell_type": "code",
   "execution_count": 21,
   "id": "8b159dbf",
   "metadata": {},
   "outputs": [],
   "source": [
    "# map,filter, reduce"
   ]
  },
  {
   "cell_type": "code",
   "execution_count": 22,
   "id": "93432242",
   "metadata": {},
   "outputs": [],
   "source": [
    "data = [12,43,214,354,324,546,565,35,457,54,36,7]\n",
    "\n",
    "even_list = lambda lst: [i for i in lst if i %2 == 0]"
   ]
  },
  {
   "cell_type": "code",
   "execution_count": 23,
   "id": "f672c0c7",
   "metadata": {},
   "outputs": [
    {
     "data": {
      "text/plain": [
       "[12, 214, 354, 324, 546, 54, 36]"
      ]
     },
     "execution_count": 23,
     "metadata": {},
     "output_type": "execute_result"
    }
   ],
   "source": [
    "even_list(data)"
   ]
  },
  {
   "cell_type": "code",
   "execution_count": 24,
   "id": "10358255",
   "metadata": {},
   "outputs": [],
   "source": [
    "odd_list =  lambda lst: [i for i in lst if i %2 != 0]"
   ]
  },
  {
   "cell_type": "code",
   "execution_count": 25,
   "id": "2803e196",
   "metadata": {},
   "outputs": [
    {
     "data": {
      "text/plain": [
       "[43, 565, 35, 457, 7]"
      ]
     },
     "execution_count": 25,
     "metadata": {},
     "output_type": "execute_result"
    }
   ],
   "source": [
    "odd_list(data)"
   ]
  },
  {
   "cell_type": "code",
   "execution_count": 26,
   "id": "230a7609",
   "metadata": {},
   "outputs": [],
   "source": [
    "# map, filter, reduce"
   ]
  },
  {
   "cell_type": "code",
   "execution_count": 27,
   "id": "56146340",
   "metadata": {},
   "outputs": [],
   "source": [
    "monthly_salary = [34,1234,42,34,5,2,354,6,3214]\n",
    "\n",
    "\n",
    "dugna_salary = lambda x: x*2"
   ]
  },
  {
   "cell_type": "code",
   "execution_count": 28,
   "id": "91d7e95c",
   "metadata": {},
   "outputs": [
    {
     "data": {
      "text/plain": [
       "<map at 0x19190c23910>"
      ]
     },
     "execution_count": 28,
     "metadata": {},
     "output_type": "execute_result"
    }
   ],
   "source": [
    "map(dugna_salary,monthly_salary)"
   ]
  },
  {
   "cell_type": "code",
   "execution_count": null,
   "id": "67ca732d",
   "metadata": {},
   "outputs": [],
   "source": [
    "map(dugna_salary,monthly_salary)"
   ]
  },
  {
   "cell_type": "code",
   "execution_count": 30,
   "id": "9d4f7ba7",
   "metadata": {},
   "outputs": [
    {
     "data": {
      "text/plain": [
       "[68, 2468, 84, 68, 10, 4, 708, 12, 6428]"
      ]
     },
     "execution_count": 30,
     "metadata": {},
     "output_type": "execute_result"
    }
   ],
   "source": [
    "list(map(dugna_salary,monthly_salary))"
   ]
  },
  {
   "cell_type": "code",
   "execution_count": 31,
   "id": "40d388e1",
   "metadata": {},
   "outputs": [
    {
     "data": {
      "text/plain": [
       "[34, 1234, 42, 34, 5, 2, 354, 6, 3214]"
      ]
     },
     "execution_count": 31,
     "metadata": {},
     "output_type": "execute_result"
    }
   ],
   "source": [
    "monthly_salary"
   ]
  },
  {
   "cell_type": "code",
   "execution_count": null,
   "id": "efbb3b33",
   "metadata": {},
   "outputs": [],
   "source": []
  },
  {
   "cell_type": "code",
   "execution_count": 32,
   "id": "f7d14f9c",
   "metadata": {},
   "outputs": [
    {
     "data": {
      "text/plain": [
       "[34, 1234, 42, 34, 5, 2, 354, 6, 3214]"
      ]
     },
     "execution_count": 32,
     "metadata": {},
     "output_type": "execute_result"
    }
   ],
   "source": [
    "monthly_salary"
   ]
  },
  {
   "cell_type": "code",
   "execution_count": 36,
   "id": "959ce908",
   "metadata": {},
   "outputs": [],
   "source": [
    "half_salary = lambda x: x/2"
   ]
  },
  {
   "cell_type": "code",
   "execution_count": 37,
   "id": "6192c81a",
   "metadata": {},
   "outputs": [
    {
     "data": {
      "text/plain": [
       "[17.0, 617.0, 21.0, 17.0, 2.5, 1.0, 177.0, 3.0, 1607.0]"
      ]
     },
     "execution_count": 37,
     "metadata": {},
     "output_type": "execute_result"
    }
   ],
   "source": [
    "list(map(half_salary,monthly_salary))"
   ]
  },
  {
   "cell_type": "code",
   "execution_count": null,
   "id": "e3a9e8f5",
   "metadata": {},
   "outputs": [],
   "source": []
  },
  {
   "cell_type": "code",
   "execution_count": 38,
   "id": "bf967cc0",
   "metadata": {},
   "outputs": [],
   "source": [
    "# filter :- iska kaam hai result ko filter karna"
   ]
  },
  {
   "cell_type": "code",
   "execution_count": 39,
   "id": "5fd04db3",
   "metadata": {},
   "outputs": [],
   "source": [
    "data = [12,34,12,434,456,54,3542,343,56,67,43]\n",
    "\n",
    "div_by_12 = lambda x: x if x % 12 == 0 else None"
   ]
  },
  {
   "cell_type": "code",
   "execution_count": 42,
   "id": "7fde2f9d",
   "metadata": {},
   "outputs": [
    {
     "name": "stdout",
     "output_type": "stream",
     "text": [
      "48\n"
     ]
    }
   ],
   "source": [
    "print(div_by_12(48))"
   ]
  },
  {
   "cell_type": "code",
   "execution_count": 44,
   "id": "a457a7d5",
   "metadata": {},
   "outputs": [
    {
     "data": {
      "text/plain": [
       "[12, 12, 456]"
      ]
     },
     "execution_count": 44,
     "metadata": {},
     "output_type": "execute_result"
    }
   ],
   "source": [
    "list(filter(div_by_12,data))"
   ]
  },
  {
   "cell_type": "code",
   "execution_count": null,
   "id": "1158f2b3",
   "metadata": {},
   "outputs": [],
   "source": []
  },
  {
   "cell_type": "code",
   "execution_count": 45,
   "id": "ad48c3d9",
   "metadata": {},
   "outputs": [],
   "source": [
    "data = ['ola','uber','kia','tata','adani','mahindra','honda']"
   ]
  },
  {
   "cell_type": "code",
   "execution_count": 46,
   "id": "5160a36d",
   "metadata": {},
   "outputs": [],
   "source": [
    "func = lambda word: word if word[0].lower() in 'aeiou' else None"
   ]
  },
  {
   "cell_type": "code",
   "execution_count": 48,
   "id": "a6cbb198",
   "metadata": {},
   "outputs": [
    {
     "data": {
      "text/plain": [
       "['ola', 'uber', 'adani']"
      ]
     },
     "execution_count": 48,
     "metadata": {},
     "output_type": "execute_result"
    }
   ],
   "source": [
    "list(filter(func,data))"
   ]
  },
  {
   "cell_type": "code",
   "execution_count": 49,
   "id": "a4df57cd",
   "metadata": {},
   "outputs": [],
   "source": [
    "func_c = lambda word: word if word[0].lower() not in 'aeiou' else None"
   ]
  },
  {
   "cell_type": "code",
   "execution_count": 51,
   "id": "11e340e1",
   "metadata": {},
   "outputs": [
    {
     "data": {
      "text/plain": [
       "['kia', 'tata', 'mahindra', 'honda']"
      ]
     },
     "execution_count": 51,
     "metadata": {},
     "output_type": "execute_result"
    }
   ],
   "source": [
    "list(filter(func_c,data))"
   ]
  },
  {
   "cell_type": "code",
   "execution_count": null,
   "id": "d55946b4",
   "metadata": {},
   "outputs": [],
   "source": []
  },
  {
   "cell_type": "code",
   "execution_count": 52,
   "id": "7288b697",
   "metadata": {},
   "outputs": [
    {
     "data": {
      "text/plain": [
       "['kia', 'tata', 'mahindra', 'honda']"
      ]
     },
     "execution_count": 52,
     "metadata": {},
     "output_type": "execute_result"
    }
   ],
   "source": [
    "list(filter(lambda word: word if word[0].lower() not in 'aeiou' else None,data))"
   ]
  },
  {
   "cell_type": "code",
   "execution_count": 53,
   "id": "91a51ae0",
   "metadata": {},
   "outputs": [
    {
     "data": {
      "text/plain": [
       "['ola', 'uber', 'adani']"
      ]
     },
     "execution_count": 53,
     "metadata": {},
     "output_type": "execute_result"
    }
   ],
   "source": [
    "list(filter(lambda word: word if word[0].lower() in 'aeiou' else None,data))"
   ]
  },
  {
   "cell_type": "code",
   "execution_count": null,
   "id": "a9005d80",
   "metadata": {},
   "outputs": [],
   "source": []
  },
  {
   "cell_type": "code",
   "execution_count": 54,
   "id": "c7e99a8a",
   "metadata": {},
   "outputs": [],
   "source": [
    "# reduce"
   ]
  },
  {
   "cell_type": "code",
   "execution_count": 55,
   "id": "dbddacce",
   "metadata": {},
   "outputs": [
    {
     "ename": "NameError",
     "evalue": "name 'reduce' is not defined",
     "output_type": "error",
     "traceback": [
      "\u001b[1;31m---------------------------------------------------------------------------\u001b[0m",
      "\u001b[1;31mNameError\u001b[0m                                 Traceback (most recent call last)",
      "Cell \u001b[1;32mIn[55], line 1\u001b[0m\n\u001b[1;32m----> 1\u001b[0m reduce()\n",
      "\u001b[1;31mNameError\u001b[0m: name 'reduce' is not defined"
     ]
    }
   ],
   "source": [
    "reduce()"
   ]
  },
  {
   "cell_type": "code",
   "execution_count": 56,
   "id": "cc4d4ba7",
   "metadata": {},
   "outputs": [],
   "source": [
    "from functools import reduce"
   ]
  },
  {
   "attachments": {
    "images.png": {
     "image/png": "[encoded data removed]"
    }
   },
   "cell_type": "markdown",
   "id": "f895a27a",
   "metadata": {},
   "source": [
    "![images.png](attachment:images.png)"
   ]
  },
  {
   "cell_type": "code",
   "execution_count": 57,
   "id": "72e898f2",
   "metadata": {},
   "outputs": [],
   "source": [
    "func = lambda x,y: x+y"
   ]
  },
  {
   "cell_type": "code",
   "execution_count": 59,
   "id": "d6d4323e",
   "metadata": {},
   "outputs": [],
   "source": [
    "data = [12,3,1,235,46]"
   ]
  },
  {
   "cell_type": "code",
   "execution_count": 60,
   "id": "9ff9a9e4",
   "metadata": {},
   "outputs": [
    {
     "data": {
      "text/plain": [
       "297"
      ]
     },
     "execution_count": 60,
     "metadata": {},
     "output_type": "execute_result"
    }
   ],
   "source": [
    "reduce(func,data)"
   ]
  },
  {
   "cell_type": "code",
   "execution_count": 62,
   "id": "7b121d89",
   "metadata": {},
   "outputs": [
    {
     "data": {
      "text/plain": [
       "297"
      ]
     },
     "execution_count": 62,
     "metadata": {},
     "output_type": "execute_result"
    }
   ],
   "source": [
    "sum(data)"
   ]
  },
  {
   "cell_type": "code",
   "execution_count": null,
   "id": "d139cb74",
   "metadata": {},
   "outputs": [],
   "source": []
  },
  {
   "cell_type": "code",
   "execution_count": 63,
   "id": "8eafe332",
   "metadata": {},
   "outputs": [],
   "source": [
    "# lambda:\n",
    "# anonymus\n",
    "# one liner\n",
    "# map\n",
    "# filter\n",
    "# reduce"
   ]
  },
  {
   "cell_type": "code",
   "execution_count": 67,
   "id": "db636018",
   "metadata": {},
   "outputs": [],
   "source": [
    "func = lambda *num: num"
   ]
  },
  {
   "cell_type": "code",
   "execution_count": 66,
   "id": "20193c4a",
   "metadata": {},
   "outputs": [
    {
     "data": {
      "text/plain": [
       "(1, 24, 356)"
      ]
     },
     "execution_count": 66,
     "metadata": {},
     "output_type": "execute_result"
    }
   ],
   "source": [
    "func(1,24,356,)"
   ]
  },
  {
   "cell_type": "code",
   "execution_count": 70,
   "id": "40ba38bb",
   "metadata": {},
   "outputs": [
    {
     "data": {
      "text/plain": [
       "987"
      ]
     },
     "execution_count": 70,
     "metadata": {},
     "output_type": "execute_result"
    }
   ],
   "source": [
    "reduce(lambda x,y: x+y, func(1,24,21,43,542,356))"
   ]
  },
  {
   "cell_type": "code",
   "execution_count": 71,
   "id": "84af6bed",
   "metadata": {},
   "outputs": [
    {
     "data": {
      "text/plain": [
       "987"
      ]
     },
     "execution_count": 71,
     "metadata": {},
     "output_type": "execute_result"
    }
   ],
   "source": [
    "sum((1,24,21,43,542,356))"
   ]
  },
  {
   "cell_type": "code",
   "execution_count": null,
   "id": "4b07ba1e",
   "metadata": {},
   "outputs": [],
   "source": []
  },
  {
   "cell_type": "code",
   "execution_count": null,
   "id": "060dd18d",
   "metadata": {},
   "outputs": [],
   "source": []
  },
  {
   "cell_type": "code",
   "execution_count": 72,
   "id": "1b40a2d9",
   "metadata": {},
   "outputs": [],
   "source": [
    "# Module\n",
    "# file handling\n",
    "# exception Handling\n",
    "# request module\n",
    "# oops\n",
    "# mysql\n",
    "# project"
   ]
  },
  {
   "cell_type": "code",
   "execution_count": null,
   "id": "4a6c00c1",
   "metadata": {},
   "outputs": [],
   "source": []
  }
 ],
 "metadata": {
  "kernelspec": {
   "display_name": "Python 3 (ipykernel)",
   "language": "python",
   "name": "python3"
  },
  "language_info": {
   "codemirror_mode": {
    "name": "ipython",
    "version": 3
   },
   "file_extension": ".py",
   "mimetype": "text/x-python",
   "name": "python",
   "nbconvert_exporter": "python",
   "pygments_lexer": "ipython3",
   "version": "3.11.3"
  }
 },
 "nbformat": 4,
 "nbformat_minor": 5
}
