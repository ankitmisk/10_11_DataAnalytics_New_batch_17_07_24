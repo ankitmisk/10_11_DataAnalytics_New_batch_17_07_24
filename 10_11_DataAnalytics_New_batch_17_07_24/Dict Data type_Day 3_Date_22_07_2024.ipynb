{
 "cells": [
  {
   "cell_type": "markdown",
   "id": "623f744a",
   "metadata": {},
   "source": [
    "# Dict Data type"
   ]
  },
  {
   "cell_type": "code",
   "execution_count": 1,
   "id": "96a1f254",
   "metadata": {},
   "outputs": [
    {
     "name": "stdout",
     "output_type": "stream",
     "text": [
      "{'name': 'Ajay', 'Age': 23}\n"
     ]
    }
   ],
   "source": [
    "data = {'name':'Ajay','Age':23}\n",
    "print(data)"
   ]
  },
  {
   "cell_type": "code",
   "execution_count": 2,
   "id": "b884edd8",
   "metadata": {},
   "outputs": [],
   "source": [
    "# language:- python:- c, c++, Java,\n",
    "# json data type\n",
    "\n",
    "# tabular data type"
   ]
  },
  {
   "cell_type": "code",
   "execution_count": 3,
   "id": "9cdee2e7",
   "metadata": {},
   "outputs": [],
   "source": [
    "# data = {'Key':'value'}\n",
    "\n",
    "# mapping data type:-\n",
    "# hash map:- daTA TYPE\n",
    "\n"
   ]
  },
  {
   "cell_type": "code",
   "execution_count": 4,
   "id": "8ef2628c",
   "metadata": {},
   "outputs": [
    {
     "data": {
      "text/plain": [
       "(int, float, complex, str, list, tuple, set, dict, bool, None)"
      ]
     },
     "execution_count": 4,
     "metadata": {},
     "output_type": "execute_result"
    }
   ],
   "source": [
    "int, float, complex, str, list, tuple, set, dict,bool, None, \n",
    "# data = {'key':'value'}"
   ]
  },
  {
   "cell_type": "code",
   "execution_count": 5,
   "id": "0a3fe777",
   "metadata": {},
   "outputs": [
    {
     "name": "stdout",
     "output_type": "stream",
     "text": [
      "{'name': 'mohan', 'Age': 23, 2: 'noida', True: 'Python'}\n"
     ]
    }
   ],
   "source": [
    "# key: int,float, complex,str,tuple,None,bool\n",
    "# value:- all data type\n",
    "\n",
    "data = {'name':'mohan','Age':23,2:'noida',True:'Python'}\n",
    "print(data)"
   ]
  },
  {
   "cell_type": "code",
   "execution_count": 6,
   "id": "900b435e",
   "metadata": {},
   "outputs": [
    {
     "ename": "TypeError",
     "evalue": "unhashable type: 'list'",
     "output_type": "error",
     "traceback": [
      "\u001b[1;31m---------------------------------------------------------------------------\u001b[0m",
      "\u001b[1;31mTypeError\u001b[0m                                 Traceback (most recent call last)",
      "Cell \u001b[1;32mIn[6], line 3\u001b[0m\n\u001b[0;32m      1\u001b[0m \u001b[38;5;66;03m# list, set, dict, :- not allowed:- key position\u001b[39;00m\n\u001b[1;32m----> 3\u001b[0m var \u001b[38;5;241m=\u001b[39m {[\u001b[38;5;241m1\u001b[39m,\u001b[38;5;241m23\u001b[39m,\u001b[38;5;241m34\u001b[39m]:\u001b[38;5;124m'\u001b[39m\u001b[38;5;124mMohan\u001b[39m\u001b[38;5;124m'\u001b[39m}\n\u001b[0;32m      5\u001b[0m \u001b[38;5;28mprint\u001b[39m(var)\n",
      "\u001b[1;31mTypeError\u001b[0m: unhashable type: 'list'"
     ]
    }
   ],
   "source": [
    "# list, set, dict, :- not allowed:- key position\n",
    "\n",
    "var = {[1,23,34]:'Mohan'}\n",
    "\n",
    "print(var)"
   ]
  },
  {
   "cell_type": "code",
   "execution_count": 7,
   "id": "f2a56062",
   "metadata": {},
   "outputs": [
    {
     "ename": "TypeError",
     "evalue": "unhashable type: 'set'",
     "output_type": "error",
     "traceback": [
      "\u001b[1;31m---------------------------------------------------------------------------\u001b[0m",
      "\u001b[1;31mTypeError\u001b[0m                                 Traceback (most recent call last)",
      "Cell \u001b[1;32mIn[7], line 1\u001b[0m\n\u001b[1;32m----> 1\u001b[0m var \u001b[38;5;241m=\u001b[39m {{\u001b[38;5;241m1\u001b[39m,\u001b[38;5;241m23\u001b[39m,\u001b[38;5;241m34\u001b[39m}:\u001b[38;5;124m'\u001b[39m\u001b[38;5;124mMohan\u001b[39m\u001b[38;5;124m'\u001b[39m}\n\u001b[0;32m      3\u001b[0m \u001b[38;5;28mprint\u001b[39m(var)\n",
      "\u001b[1;31mTypeError\u001b[0m: unhashable type: 'set'"
     ]
    }
   ],
   "source": [
    "var = {{1,23,34}:'Mohan'}\n",
    "\n",
    "print(var)"
   ]
  },
  {
   "cell_type": "code",
   "execution_count": 8,
   "id": "bfa77d2e",
   "metadata": {},
   "outputs": [
    {
     "ename": "TypeError",
     "evalue": "unhashable type: 'dict'",
     "output_type": "error",
     "traceback": [
      "\u001b[1;31m---------------------------------------------------------------------------\u001b[0m",
      "\u001b[1;31mTypeError\u001b[0m                                 Traceback (most recent call last)",
      "Cell \u001b[1;32mIn[8], line 2\u001b[0m\n\u001b[0;32m      1\u001b[0m \u001b[38;5;66;03m# dictionary data type:-\u001b[39;00m\n\u001b[1;32m----> 2\u001b[0m data \u001b[38;5;241m=\u001b[39m {{\u001b[38;5;241m1\u001b[39m:\u001b[38;5;241m2\u001b[39m}:\u001b[38;5;124m'\u001b[39m\u001b[38;5;124mNoida\u001b[39m\u001b[38;5;124m'\u001b[39m}\n\u001b[0;32m      3\u001b[0m \u001b[38;5;28mprint\u001b[39m(data)\n",
      "\u001b[1;31mTypeError\u001b[0m: unhashable type: 'dict'"
     ]
    }
   ],
   "source": [
    "# dictionary data type:-\n",
    "data = {{1:2}:'Noida'}\n",
    "print(data)"
   ]
  },
  {
   "cell_type": "code",
   "execution_count": 9,
   "id": "af985ce7",
   "metadata": {},
   "outputs": [],
   "source": [
    "# dict data type:- tabular data"
   ]
  },
  {
   "cell_type": "code",
   "execution_count": 10,
   "id": "15722167",
   "metadata": {},
   "outputs": [
    {
     "name": "stdout",
     "output_type": "stream",
     "text": [
      "{'Name': ['Sarwan Singh', 'Ankush Sharma', 'Yash Chauhan', 'Subigya Mishra'], 'Salary': [2354, 3456, 4356, 4657], 'Address': ['Noida', 'Greater Noida', 'Delhi', 'Faridabad'], 'Course': ['DS', 'DA', 'FullStack', 'AI/ML']}\n"
     ]
    }
   ],
   "source": [
    "data = {'Name':['Sarwan Singh','Ankush Sharma','Yash Chauhan','Subigya Mishra'],\n",
    "       'Salary':[2354,3456,4356,4657],\n",
    "       'Address':['Noida','Greater Noida','Delhi','Faridabad'],\n",
    "       'Course':['DS','DA','FullStack','AI/ML']}\n",
    "\n",
    "print(data)"
   ]
  },
  {
   "cell_type": "code",
   "execution_count": 13,
   "id": "f510d5f5",
   "metadata": {},
   "outputs": [
    {
     "name": "stdout",
     "output_type": "stream",
     "text": [
      "Done\n"
     ]
    }
   ],
   "source": [
    "import pandas as pd\n",
    "\n",
    "student_table = pd.DataFrame(data)\n",
    "print('Done')"
   ]
  },
  {
   "cell_type": "code",
   "execution_count": 15,
   "id": "e3896b35",
   "metadata": {},
   "outputs": [
    {
     "name": "stdout",
     "output_type": "stream",
     "text": [
      "done\n"
     ]
    }
   ],
   "source": [
    "student_table.to_csv('students_details.csv')\n",
    "print('done')"
   ]
  },
  {
   "cell_type": "code",
   "execution_count": 76,
   "id": "692b6c5b",
   "metadata": {},
   "outputs": [
    {
     "data": {
      "text/html": [
       "<div>\n",
       "<style scoped>\n",
       "    .dataframe tbody tr th:only-of-type {\n",
       "        vertical-align: middle;\n",
       "    }\n",
       "\n",
       "    .dataframe tbody tr th {\n",
       "        vertical-align: top;\n",
       "    }\n",
       "\n",
       "    .dataframe thead th {\n",
       "        text-align: right;\n",
       "    }\n",
       "</style>\n",
       "<table border=\"1\" class=\"dataframe\">\n",
       "  <thead>\n",
       "    <tr style=\"text-align: right;\">\n",
       "      <th></th>\n",
       "      <th>Name</th>\n",
       "      <th>Salary</th>\n",
       "      <th>Address</th>\n",
       "      <th>Course</th>\n",
       "    </tr>\n",
       "  </thead>\n",
       "  <tbody>\n",
       "    <tr>\n",
       "      <th>0</th>\n",
       "      <td>Sarwan Singh</td>\n",
       "      <td>2354</td>\n",
       "      <td>Noida</td>\n",
       "      <td>DS</td>\n",
       "    </tr>\n",
       "    <tr>\n",
       "      <th>1</th>\n",
       "      <td>Ankush Sharma</td>\n",
       "      <td>3456</td>\n",
       "      <td>Greater Noida</td>\n",
       "      <td>DA</td>\n",
       "    </tr>\n",
       "    <tr>\n",
       "      <th>2</th>\n",
       "      <td>Yash Chauhan</td>\n",
       "      <td>4356</td>\n",
       "      <td>Delhi</td>\n",
       "      <td>FullStack</td>\n",
       "    </tr>\n",
       "    <tr>\n",
       "      <th>3</th>\n",
       "      <td>Subigya Mishra</td>\n",
       "      <td>4657</td>\n",
       "      <td>Faridabad</td>\n",
       "      <td>AI/ML</td>\n",
       "    </tr>\n",
       "  </tbody>\n",
       "</table>\n",
       "</div>"
      ],
      "text/plain": [
       "             Name  Salary        Address     Course\n",
       "0    Sarwan Singh    2354          Noida         DS\n",
       "1   Ankush Sharma    3456  Greater Noida         DA\n",
       "2    Yash Chauhan    4356          Delhi  FullStack\n",
       "3  Subigya Mishra    4657      Faridabad      AI/ML"
      ]
     },
     "execution_count": 76,
     "metadata": {},
     "output_type": "execute_result"
    }
   ],
   "source": [
    "student_table"
   ]
  },
  {
   "cell_type": "code",
   "execution_count": 17,
   "id": "008cce3d",
   "metadata": {},
   "outputs": [
    {
     "data": {
      "text/plain": [
       "['Name', 'Salary', 'Address', 'Course']"
      ]
     },
     "execution_count": 17,
     "metadata": {},
     "output_type": "execute_result"
    }
   ],
   "source": [
    "list(data)"
   ]
  },
  {
   "cell_type": "code",
   "execution_count": 19,
   "id": "ff2348db",
   "metadata": {},
   "outputs": [
    {
     "name": "stdout",
     "output_type": "stream",
     "text": [
      "{'name': 'Ajay', 'Age': 23, 'Phone': 9876432567}\n"
     ]
    }
   ],
   "source": [
    "# features:- not stored with indexing\n",
    "\n",
    "data = {\"name\":'Ajay','Age':23,'Phone':9876432567}\n",
    "print(data)"
   ]
  },
  {
   "cell_type": "code",
   "execution_count": 21,
   "id": "f6bcc103",
   "metadata": {},
   "outputs": [],
   "source": [
    "# based on key it stores value/values"
   ]
  },
  {
   "cell_type": "code",
   "execution_count": 22,
   "id": "81d51694",
   "metadata": {},
   "outputs": [],
   "source": [
    "# we can change value of dictionary with the help of its key"
   ]
  },
  {
   "cell_type": "code",
   "execution_count": 23,
   "id": "6562babf",
   "metadata": {},
   "outputs": [
    {
     "data": {
      "text/plain": [
       "{'name': 'Ajay', 'Age': 23, 'Phone': 9876432567}"
      ]
     },
     "execution_count": 23,
     "metadata": {},
     "output_type": "execute_result"
    }
   ],
   "source": [
    "data"
   ]
  },
  {
   "cell_type": "code",
   "execution_count": 24,
   "id": "f55ee123",
   "metadata": {},
   "outputs": [
    {
     "data": {
      "text/plain": [
       "23"
      ]
     },
     "execution_count": 24,
     "metadata": {},
     "output_type": "execute_result"
    }
   ],
   "source": [
    "data['Age']"
   ]
  },
  {
   "cell_type": "code",
   "execution_count": 25,
   "id": "2485d0c9",
   "metadata": {},
   "outputs": [],
   "source": [
    "data['Age'] = 67"
   ]
  },
  {
   "cell_type": "code",
   "execution_count": 26,
   "id": "2571aba6",
   "metadata": {},
   "outputs": [
    {
     "data": {
      "text/plain": [
       "{'name': 'Ajay', 'Age': 67, 'Phone': 9876432567}"
      ]
     },
     "execution_count": 26,
     "metadata": {},
     "output_type": "execute_result"
    }
   ],
   "source": [
    "data"
   ]
  },
  {
   "cell_type": "code",
   "execution_count": 28,
   "id": "c92b584e",
   "metadata": {},
   "outputs": [],
   "source": [
    "data['name'] = 'Ajay Verma'"
   ]
  },
  {
   "cell_type": "code",
   "execution_count": 29,
   "id": "01e4b8f8",
   "metadata": {},
   "outputs": [
    {
     "data": {
      "text/plain": [
       "{'name': 'Ajay Verma', 'Age': 67, 'Phone': 9876432567}"
      ]
     },
     "execution_count": 29,
     "metadata": {},
     "output_type": "execute_result"
    }
   ],
   "source": [
    "data"
   ]
  },
  {
   "cell_type": "code",
   "execution_count": 32,
   "id": "9afdcbf9",
   "metadata": {},
   "outputs": [],
   "source": [
    "data['Name'] = 'Fazil'"
   ]
  },
  {
   "cell_type": "code",
   "execution_count": 33,
   "id": "dc04f765",
   "metadata": {},
   "outputs": [
    {
     "data": {
      "text/plain": [
       "{'name': 'Ajay Verma', 'Age': 67, 'Phone': 9876432567, 'Name': 'Fazil'}"
      ]
     },
     "execution_count": 33,
     "metadata": {},
     "output_type": "execute_result"
    }
   ],
   "source": [
    "data"
   ]
  },
  {
   "cell_type": "code",
   "execution_count": 34,
   "id": "4e570f1e",
   "metadata": {},
   "outputs": [],
   "source": [
    "# new key value assign/ new create "
   ]
  },
  {
   "cell_type": "code",
   "execution_count": 35,
   "id": "d3aca820",
   "metadata": {},
   "outputs": [],
   "source": [
    "data['Salary'] = 98767"
   ]
  },
  {
   "cell_type": "code",
   "execution_count": 36,
   "id": "cefc9618",
   "metadata": {},
   "outputs": [
    {
     "data": {
      "text/plain": [
       "{'name': 'Ajay Verma',\n",
       " 'Age': 67,\n",
       " 'Phone': 9876432567,\n",
       " 'Name': 'Fazil',\n",
       " 'Salary': 98767}"
      ]
     },
     "execution_count": 36,
     "metadata": {},
     "output_type": "execute_result"
    }
   ],
   "source": [
    "data"
   ]
  },
  {
   "cell_type": "code",
   "execution_count": 37,
   "id": "f6eca756",
   "metadata": {},
   "outputs": [],
   "source": [
    "# nested dict:- dict inside dict"
   ]
  },
  {
   "cell_type": "code",
   "execution_count": 38,
   "id": "7e9ad084",
   "metadata": {},
   "outputs": [
    {
     "name": "stdout",
     "output_type": "stream",
     "text": [
      "{'Noida': {'Bank1': [200], 'Bank2': [100]}}\n"
     ]
    }
   ],
   "source": [
    "data = {'Noida':{'Bank1':[200],'Bank2':[100]}}\n",
    "print(data)"
   ]
  },
  {
   "cell_type": "code",
   "execution_count": 42,
   "id": "7cff9d11",
   "metadata": {},
   "outputs": [],
   "source": [
    "data['Noida']['Bank2'][0] = 1"
   ]
  },
  {
   "cell_type": "code",
   "execution_count": 43,
   "id": "f9a92b1d",
   "metadata": {},
   "outputs": [
    {
     "data": {
      "text/plain": [
       "{'Noida': {'Bank1': [200], 'Bank2': [1]}}"
      ]
     },
     "execution_count": 43,
     "metadata": {},
     "output_type": "execute_result"
    }
   ],
   "source": [
    "data"
   ]
  },
  {
   "cell_type": "code",
   "execution_count": 48,
   "id": "0e9a476f",
   "metadata": {},
   "outputs": [],
   "source": [
    "data['Noida']['Bank1'][0] = 2000"
   ]
  },
  {
   "cell_type": "code",
   "execution_count": 49,
   "id": "56fa9cad",
   "metadata": {},
   "outputs": [
    {
     "data": {
      "text/plain": [
       "{'Noida': {'Bank1': [2000], 'Bank2': [1]}}"
      ]
     },
     "execution_count": 49,
     "metadata": {},
     "output_type": "execute_result"
    }
   ],
   "source": [
    "data"
   ]
  },
  {
   "cell_type": "code",
   "execution_count": 54,
   "id": "dd33c2c1",
   "metadata": {},
   "outputs": [
    {
     "data": {
      "text/plain": [
       "{'India': {'Delhi': {'New Delhi': {'B1': [{'L1': 200, 'L2': 400}], 'B2': []}},\n",
       "  'UP': [],\n",
       "  'Bihar': []}}"
      ]
     },
     "execution_count": 54,
     "metadata": {},
     "output_type": "execute_result"
    }
   ],
   "source": [
    "question = {'India':{'Delhi':{'New Delhi':{'B1':[{'L1':200,'L2':400}],'B2':[]}},'UP':[],'Bihar':[]}}\n",
    "question"
   ]
  },
  {
   "cell_type": "code",
   "execution_count": 61,
   "id": "e4438c8a",
   "metadata": {},
   "outputs": [],
   "source": [
    "question['India']['Delhi']['New Delhi']['B1'][0]['L1'] = 400"
   ]
  },
  {
   "cell_type": "code",
   "execution_count": 62,
   "id": "adc342cc",
   "metadata": {},
   "outputs": [
    {
     "data": {
      "text/plain": [
       "{'India': {'Delhi': {'New Delhi': {'B1': [{'L1': 400, 'L2': 400}], 'B2': []}},\n",
       "  'UP': [],\n",
       "  'Bihar': []}}"
      ]
     },
     "execution_count": 62,
     "metadata": {},
     "output_type": "execute_result"
    }
   ],
   "source": [
    "question"
   ]
  },
  {
   "cell_type": "code",
   "execution_count": 63,
   "id": "999d5d05",
   "metadata": {},
   "outputs": [],
   "source": [
    "question['India']['Delhi']['New Delhi']['B1'][0]['L2'] = 200"
   ]
  },
  {
   "cell_type": "code",
   "execution_count": 64,
   "id": "bf382bd9",
   "metadata": {},
   "outputs": [
    {
     "data": {
      "text/plain": [
       "{'India': {'Delhi': {'New Delhi': {'B1': [{'L1': 400, 'L2': 200}], 'B2': []}},\n",
       "  'UP': [],\n",
       "  'Bihar': []}}"
      ]
     },
     "execution_count": 64,
     "metadata": {},
     "output_type": "execute_result"
    }
   ],
   "source": [
    "question"
   ]
  },
  {
   "cell_type": "code",
   "execution_count": 65,
   "id": "1aa02806",
   "metadata": {},
   "outputs": [],
   "source": [
    "# dict value ko change kar sakte hain"
   ]
  },
  {
   "cell_type": "code",
   "execution_count": 67,
   "id": "00a6137d",
   "metadata": {},
   "outputs": [],
   "source": [
    "# some basic operations with dict"
   ]
  },
  {
   "cell_type": "code",
   "execution_count": 68,
   "id": "f4696953",
   "metadata": {},
   "outputs": [],
   "source": [
    "a = {'Name':'Ajay'}\n",
    "b = {'Class':12}\n",
    "c = {'Age':23}"
   ]
  },
  {
   "cell_type": "code",
   "execution_count": 69,
   "id": "4eb6d19c",
   "metadata": {},
   "outputs": [
    {
     "ename": "TypeError",
     "evalue": "unsupported operand type(s) for +: 'dict' and 'dict'",
     "output_type": "error",
     "traceback": [
      "\u001b[1;31m---------------------------------------------------------------------------\u001b[0m",
      "\u001b[1;31mTypeError\u001b[0m                                 Traceback (most recent call last)",
      "Cell \u001b[1;32mIn[69], line 1\u001b[0m\n\u001b[1;32m----> 1\u001b[0m a \u001b[38;5;241m+\u001b[39m b \u001b[38;5;241m+\u001b[39m c\n",
      "\u001b[1;31mTypeError\u001b[0m: unsupported operand type(s) for +: 'dict' and 'dict'"
     ]
    }
   ],
   "source": [
    "a + b + c"
   ]
  },
  {
   "cell_type": "code",
   "execution_count": 70,
   "id": "e4085669",
   "metadata": {},
   "outputs": [
    {
     "ename": "TypeError",
     "evalue": "unsupported operand type(s) for -: 'dict' and 'dict'",
     "output_type": "error",
     "traceback": [
      "\u001b[1;31m---------------------------------------------------------------------------\u001b[0m",
      "\u001b[1;31mTypeError\u001b[0m                                 Traceback (most recent call last)",
      "Cell \u001b[1;32mIn[70], line 1\u001b[0m\n\u001b[1;32m----> 1\u001b[0m a \u001b[38;5;241m-\u001b[39m b \u001b[38;5;241m-\u001b[39m c\n",
      "\u001b[1;31mTypeError\u001b[0m: unsupported operand type(s) for -: 'dict' and 'dict'"
     ]
    }
   ],
   "source": [
    "a - b - c"
   ]
  },
  {
   "cell_type": "code",
   "execution_count": 72,
   "id": "362d058e",
   "metadata": {},
   "outputs": [
    {
     "data": {
      "text/plain": [
       "[1, 2, 34, 1, 2, 34, 1, 2, 34]"
      ]
     },
     "execution_count": 72,
     "metadata": {},
     "output_type": "execute_result"
    }
   ],
   "source": [
    "a = [1,2,34]\n",
    "\n",
    "a*3"
   ]
  },
  {
   "cell_type": "code",
   "execution_count": 73,
   "id": "09b84fea",
   "metadata": {},
   "outputs": [
    {
     "ename": "TypeError",
     "evalue": "unsupported operand type(s) for *: 'dict' and 'int'",
     "output_type": "error",
     "traceback": [
      "\u001b[1;31m---------------------------------------------------------------------------\u001b[0m",
      "\u001b[1;31mTypeError\u001b[0m                                 Traceback (most recent call last)",
      "Cell \u001b[1;32mIn[73], line 3\u001b[0m\n\u001b[0;32m      1\u001b[0m a \u001b[38;5;241m=\u001b[39m {\u001b[38;5;124m'\u001b[39m\u001b[38;5;124mName\u001b[39m\u001b[38;5;124m'\u001b[39m:\u001b[38;5;124m'\u001b[39m\u001b[38;5;124mAjay\u001b[39m\u001b[38;5;124m'\u001b[39m}\n\u001b[1;32m----> 3\u001b[0m a \u001b[38;5;241m*\u001b[39m \u001b[38;5;241m2\u001b[39m\n",
      "\u001b[1;31mTypeError\u001b[0m: unsupported operand type(s) for *: 'dict' and 'int'"
     ]
    }
   ],
   "source": [
    "a = {'Name':'Ajay'}\n",
    "\n",
    "a * 2"
   ]
  },
  {
   "cell_type": "code",
   "execution_count": 74,
   "id": "c022f15b",
   "metadata": {},
   "outputs": [
    {
     "data": {
      "text/plain": [
       "{'Name': 'Ajay kumar'}"
      ]
     },
     "execution_count": 74,
     "metadata": {},
     "output_type": "execute_result"
    }
   ],
   "source": [
    "data = {'Name':'Ajay','Name':\"Ajay kumar\"}\n",
    "data"
   ]
  },
  {
   "cell_type": "code",
   "execution_count": 75,
   "id": "a2288fb5",
   "metadata": {},
   "outputs": [],
   "source": [
    "# dict can not contain duplicate keys"
   ]
  },
  {
   "cell_type": "code",
   "execution_count": 77,
   "id": "00b405eb",
   "metadata": {},
   "outputs": [],
   "source": [
    "# operators with dict"
   ]
  },
  {
   "cell_type": "code",
   "execution_count": 81,
   "id": "44b4233c",
   "metadata": {},
   "outputs": [
    {
     "data": {
      "text/plain": [
       "True"
      ]
     },
     "execution_count": 81,
     "metadata": {},
     "output_type": "execute_result"
    }
   ],
   "source": [
    "a = {'Age':23, 'class':5}\n",
    "\n",
    "b = {'Age':23,'class':5}\n",
    "\n",
    "a == b"
   ]
  },
  {
   "cell_type": "code",
   "execution_count": 83,
   "id": "4ce4ab3b",
   "metadata": {},
   "outputs": [
    {
     "data": {
      "text/plain": [
       "{'Name': 'Ajay kumar', 'Age': 23, 'Class': 5, 'Address': 'Noida'}"
      ]
     },
     "execution_count": 83,
     "metadata": {},
     "output_type": "execute_result"
    }
   ],
   "source": [
    "data['Age'] = 23\n",
    "data['Class'] = 5\n",
    "data['Address'] = 'Noida'\n",
    "\n",
    "data"
   ]
  },
  {
   "cell_type": "code",
   "execution_count": 84,
   "id": "f707f4ed",
   "metadata": {},
   "outputs": [
    {
     "data": {
      "text/plain": [
       "{'Name': 'Ajay kumar', 'Age': 23, 'Class': 5, 'Address': 'Noida'}"
      ]
     },
     "execution_count": 84,
     "metadata": {},
     "output_type": "execute_result"
    }
   ],
   "source": [
    "data"
   ]
  },
  {
   "cell_type": "code",
   "execution_count": 86,
   "id": "9c7ac5b2",
   "metadata": {},
   "outputs": [
    {
     "data": {
      "text/plain": [
       "True"
      ]
     },
     "execution_count": 86,
     "metadata": {},
     "output_type": "execute_result"
    }
   ],
   "source": [
    "# in\n",
    "\n",
    "'Name' in data"
   ]
  },
  {
   "cell_type": "code",
   "execution_count": 88,
   "id": "e7c04f5b",
   "metadata": {},
   "outputs": [
    {
     "data": {
      "text/plain": [
       "False"
      ]
     },
     "execution_count": 88,
     "metadata": {},
     "output_type": "execute_result"
    }
   ],
   "source": [
    "'class' in data"
   ]
  },
  {
   "cell_type": "code",
   "execution_count": 89,
   "id": "f3bf97a2",
   "metadata": {},
   "outputs": [],
   "source": [
    "# employee table"
   ]
  },
  {
   "cell_type": "code",
   "execution_count": null,
   "id": "c389b055",
   "metadata": {},
   "outputs": [],
   "source": []
  }
 ],
 "metadata": {
  "kernelspec": {
   "display_name": "Python 3 (ipykernel)",
   "language": "python",
   "name": "python3"
  },
  "language_info": {
   "codemirror_mode": {
    "name": "ipython",
    "version": 3
   },
   "file_extension": ".py",
   "mimetype": "text/x-python",
   "name": "python",
   "nbconvert_exporter": "python",
   "pygments_lexer": "ipython3",
   "version": "3.11.3"
  }
 },
 "nbformat": 4,
 "nbformat_minor": 5
}
