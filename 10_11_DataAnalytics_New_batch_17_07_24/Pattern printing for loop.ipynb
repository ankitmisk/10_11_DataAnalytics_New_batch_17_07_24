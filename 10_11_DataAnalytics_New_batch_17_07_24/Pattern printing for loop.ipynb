{
 "cells": [
  {
   "cell_type": "code",
   "execution_count": 1,
   "id": "d661c302",
   "metadata": {},
   "outputs": [],
   "source": [
    "# pattern printing:- logic strong\n",
    "\n",
    "# *\n",
    "# * *\n",
    "# * * * \n",
    "# * * * * \n"
   ]
  },
  {
   "cell_type": "code",
   "execution_count": 5,
   "id": "4fc4c4ae",
   "metadata": {},
   "outputs": [
    {
     "name": "stdout",
     "output_type": "stream",
     "text": [
      "* \n",
      "* * \n",
      "* * * \n",
      "* * * * \n"
     ]
    }
   ],
   "source": [
    "print('* '*1)\n",
    "print('* '*2)\n",
    "print('* '*3)\n",
    "print('* '*4)"
   ]
  },
  {
   "cell_type": "code",
   "execution_count": 8,
   "id": "3b63fd3a",
   "metadata": {},
   "outputs": [
    {
     "name": "stdout",
     "output_type": "stream",
     "text": [
      "* \n",
      "* * \n",
      "* * * \n",
      "* * * * \n",
      "* * * * * \n"
     ]
    }
   ],
   "source": [
    "for i in range(1,6):\n",
    "    print('* '*i)"
   ]
  },
  {
   "cell_type": "code",
   "execution_count": 9,
   "id": "1c8ff22b",
   "metadata": {},
   "outputs": [],
   "source": [
    "# DRY:- Do not repeat yourself"
   ]
  },
  {
   "cell_type": "code",
   "execution_count": null,
   "id": "3f55a85f",
   "metadata": {},
   "outputs": [],
   "source": []
  },
  {
   "cell_type": "code",
   "execution_count": 17,
   "id": "0f3a82d5",
   "metadata": {},
   "outputs": [
    {
     "name": "stdout",
     "output_type": "stream",
     "text": [
      "* \n",
      "* * \n",
      "* * * \n",
      "* * * * \n",
      "* * * * * \n",
      "* * * * * * \n",
      "* * * * * * * \n"
     ]
    }
   ],
   "source": [
    "number = 7\n",
    "\n",
    "for i in range(1,number+1):\n",
    "    print('* '*i)"
   ]
  },
  {
   "cell_type": "code",
   "execution_count": 18,
   "id": "cada01a2",
   "metadata": {},
   "outputs": [
    {
     "name": "stdout",
     "output_type": "stream",
     "text": [
      "A \n",
      "A A \n",
      "A A A \n",
      "A A A A \n",
      "A A A A A \n",
      "A A A A A A \n",
      "A A A A A A A \n"
     ]
    }
   ],
   "source": [
    "number = 7\n",
    "\n",
    "for i in range(1,number+1):\n",
    "    print('A '*i)"
   ]
  },
  {
   "cell_type": "code",
   "execution_count": 26,
   "id": "43986f9f",
   "metadata": {},
   "outputs": [
    {
     "name": "stdout",
     "output_type": "stream",
     "text": [
      "* * \n",
      "* * \n"
     ]
    }
   ],
   "source": [
    "number = 2\n",
    "\n",
    "for i in range(1,number+1):\n",
    "    print('* '*number)"
   ]
  },
  {
   "cell_type": "code",
   "execution_count": 27,
   "id": "a7e929c6",
   "metadata": {},
   "outputs": [
    {
     "name": "stdout",
     "output_type": "stream",
     "text": [
      "* \n",
      "* * \n",
      "* * * \n",
      "* * * * \n",
      "* * * * * \n",
      "* * * * * * \n",
      "* * * * * * * \n"
     ]
    }
   ],
   "source": [
    "number = 7\n",
    "\n",
    "for i in range(1,number+1):\n",
    "    print('* '*i)"
   ]
  },
  {
   "cell_type": "code",
   "execution_count": 28,
   "id": "a951bdfb",
   "metadata": {},
   "outputs": [],
   "source": [
    "#       *\n",
    "#     * *\n",
    "#   * * *\n",
    "# * * * *"
   ]
  },
  {
   "cell_type": "code",
   "execution_count": 31,
   "id": "eecc9409",
   "metadata": {},
   "outputs": [
    {
     "name": "stdout",
     "output_type": "stream",
     "text": [
      "* * * * * \n",
      "* * * * \n",
      "* * * \n",
      "* * \n",
      "* \n"
     ]
    }
   ],
   "source": [
    "number = 5\n",
    "\n",
    "for i in range(number,0,-1):\n",
    "    print('* '*i)"
   ]
  },
  {
   "cell_type": "code",
   "execution_count": 48,
   "id": "698c9ed7",
   "metadata": {},
   "outputs": [
    {
     "name": "stdout",
     "output_type": "stream",
     "text": [
      "         *\n",
      "       * *\n",
      "     * * *\n",
      "   * * * *\n"
     ]
    }
   ],
   "source": [
    "#       *\n",
    "#     * *\n",
    "#   * * *\n",
    "# * * * *\n",
    "\n",
    "\n",
    "for i in range(1,5):\n",
    "    print('  '*(5-i)+(' *')*i)"
   ]
  },
  {
   "cell_type": "code",
   "execution_count": 38,
   "id": "0d06958d",
   "metadata": {},
   "outputs": [
    {
     "name": "stdout",
     "output_type": "stream",
     "text": [
      " \n",
      "  \n",
      "   \n",
      "    \n"
     ]
    }
   ],
   "source": [
    "print(' '*1)\n",
    "print(' '*2)\n",
    "print(' '*3)\n",
    "print(' '*4)"
   ]
  },
  {
   "cell_type": "code",
   "execution_count": 39,
   "id": "2103e5c8",
   "metadata": {},
   "outputs": [
    {
     "name": "stdout",
     "output_type": "stream",
     "text": [
      "    \n",
      "   \n",
      "  \n",
      " \n"
     ]
    }
   ],
   "source": [
    "print(' '*(5-1))  # 4\n",
    "print(' '*(5-2))  # 3\n",
    "print(' '*(5-3))  # 2\n",
    "print(' '*(5-4))  # 1"
   ]
  },
  {
   "cell_type": "code",
   "execution_count": 41,
   "id": "264b7236",
   "metadata": {},
   "outputs": [
    {
     "data": {
      "text/plain": [
       "'     7'"
      ]
     },
     "execution_count": 41,
     "metadata": {},
     "output_type": "execute_result"
    }
   ],
   "source": [
    "' '*(5-1)+' 7'"
   ]
  },
  {
   "cell_type": "code",
   "execution_count": 54,
   "id": "13291690",
   "metadata": {},
   "outputs": [
    {
     "name": "stdout",
     "output_type": "stream",
     "text": [
      "* \n",
      "* * \n",
      "* * * \n",
      "* * * * \n"
     ]
    }
   ],
   "source": [
    "\n",
    "for i in range(1,5):\n",
    "    print(''*(5-i)+('* ')*i)"
   ]
  },
  {
   "cell_type": "code",
   "execution_count": 55,
   "id": "cb9515aa",
   "metadata": {},
   "outputs": [
    {
     "name": "stdout",
     "output_type": "stream",
     "text": [
      "    * \n",
      "   * * \n",
      "  * * * \n",
      " * * * * \n"
     ]
    }
   ],
   "source": [
    "for i in range(1,5):\n",
    "    print(' '*(5-i)+('* ')*i)"
   ]
  },
  {
   "cell_type": "code",
   "execution_count": 56,
   "id": "0906a1e5",
   "metadata": {},
   "outputs": [
    {
     "name": "stdout",
     "output_type": "stream",
     "text": [
      "        * \n",
      "      * * \n",
      "    * * * \n",
      "  * * * * \n"
     ]
    }
   ],
   "source": [
    "for i in range(1,5):\n",
    "    print('  '*(5-i)+('* ')*i)"
   ]
  },
  {
   "cell_type": "code",
   "execution_count": 63,
   "id": "bcbd5cc3",
   "metadata": {},
   "outputs": [
    {
     "name": "stdout",
     "output_type": "stream",
     "text": [
      "     * \n",
      "    * * \n",
      "   * * * \n",
      "  * * * * \n",
      " * * * * * \n",
      "* * * * * * \n"
     ]
    }
   ],
   "source": [
    "num = 6\n",
    "\n",
    "for i in range(1,num+1):\n",
    "    print(' '*(num-i)+('* ')*i)"
   ]
  },
  {
   "cell_type": "code",
   "execution_count": 67,
   "id": "d78b5e84",
   "metadata": {},
   "outputs": [
    {
     "name": "stdout",
     "output_type": "stream",
     "text": [
      "     1 \n",
      "    1 1 \n",
      "   1 1 1 \n",
      "  1 1 1 1 \n",
      " 1 1 1 1 1 \n",
      "1 1 1 1 1 1 \n"
     ]
    }
   ],
   "source": [
    "num = 6\n",
    "\n",
    "for i in range(1,num+1):\n",
    "    print(' '*(num-i)+('1 ')*i)"
   ]
  },
  {
   "cell_type": "code",
   "execution_count": 73,
   "id": "2e5940d2",
   "metadata": {},
   "outputs": [
    {
     "data": {
      "text/plain": [
       "'12345'"
      ]
     },
     "execution_count": 73,
     "metadata": {},
     "output_type": "execute_result"
    }
   ],
   "source": [
    "data = '12345'\n",
    "\n",
    "data[0:5]"
   ]
  },
  {
   "cell_type": "code",
   "execution_count": 74,
   "id": "f633e5b7",
   "metadata": {},
   "outputs": [
    {
     "data": {
      "text/plain": [
       "'1 2 3 4 5'"
      ]
     },
     "execution_count": 74,
     "metadata": {},
     "output_type": "execute_result"
    }
   ],
   "source": [
    "' '.join(data[0:5])"
   ]
  },
  {
   "cell_type": "code",
   "execution_count": 75,
   "id": "205d3691",
   "metadata": {},
   "outputs": [
    {
     "data": {
      "text/plain": [
       "'H o l l y w o o d'"
      ]
     },
     "execution_count": 75,
     "metadata": {},
     "output_type": "execute_result"
    }
   ],
   "source": [
    "' '.join('Hollywood')"
   ]
  },
  {
   "cell_type": "code",
   "execution_count": 84,
   "id": "7e963c85",
   "metadata": {},
   "outputs": [
    {
     "name": "stdout",
     "output_type": "stream",
     "text": [
      "            1\n",
      "           1 2\n",
      "          1 2 3\n",
      "         1 2 3 4\n",
      "        1 2 3 4 5\n",
      "       1 2 3 4 5 6\n",
      "      1 2 3 4 5 6 7\n",
      "     1 2 3 4 5 6 7 8\n",
      "    1 2 3 4 5 6 7 8 9\n",
      "   1 2 3 4 5 6 7 8 9 1\n",
      "  1 2 3 4 5 6 7 8 9 1 0\n",
      " 1 2 3 4 5 6 7 8 9 1 0 1\n",
      "1 2 3 4 5 6 7 8 9 1 0 1 1\n"
     ]
    }
   ],
   "source": [
    "data = '1234567891011'\n",
    "num = len(data)\n",
    "\n",
    "for i in range(1,num+1):\n",
    "    print(' '*(num-i)+' '.join(data[0:i]))"
   ]
  },
  {
   "cell_type": "code",
   "execution_count": 85,
   "id": "1d95c000",
   "metadata": {},
   "outputs": [],
   "source": [
    "import string"
   ]
  },
  {
   "cell_type": "code",
   "execution_count": 86,
   "id": "d448dfad",
   "metadata": {},
   "outputs": [
    {
     "data": {
      "text/plain": [
       "'0123456789'"
      ]
     },
     "execution_count": 86,
     "metadata": {},
     "output_type": "execute_result"
    }
   ],
   "source": [
    "string.digits"
   ]
  },
  {
   "cell_type": "code",
   "execution_count": 89,
   "id": "63b783bb",
   "metadata": {},
   "outputs": [
    {
     "data": {
      "text/plain": [
       "[1, 2, 3, 4, 5, 6, 7]"
      ]
     },
     "execution_count": 89,
     "metadata": {},
     "output_type": "execute_result"
    }
   ],
   "source": [
    "number = 7\n",
    "\n",
    "list(range(1,number+1))"
   ]
  },
  {
   "cell_type": "code",
   "execution_count": 94,
   "id": "5628128d",
   "metadata": {},
   "outputs": [
    {
     "name": "stdout",
     "output_type": "stream",
     "text": [
      "        1\n",
      "       1 2\n",
      "      1 2 3\n",
      "     1 2 3 4\n",
      "    1 2 3 4 5\n",
      "   1 2 3 4 5 6\n",
      "  1 2 3 4 5 6 7\n",
      " 1 2 3 4 5 6 7 8\n",
      "1 2 3 4 5 6 7 8 9\n"
     ]
    }
   ],
   "source": [
    "num = 9\n",
    "\n",
    "data = [str(i) for i in range(1,num+1)]\n",
    "\n",
    "for i in range(1,num+1):\n",
    "    print(' '*(num-i)+' '.join(data[0:i]))"
   ]
  },
  {
   "cell_type": "code",
   "execution_count": null,
   "id": "0d472822",
   "metadata": {},
   "outputs": [],
   "source": []
  },
  {
   "cell_type": "code",
   "execution_count": null,
   "id": "3ff615d5",
   "metadata": {},
   "outputs": [],
   "source": []
  },
  {
   "cell_type": "code",
   "execution_count": 96,
   "id": "eb57ed35",
   "metadata": {},
   "outputs": [
    {
     "name": "stdout",
     "output_type": "stream",
     "text": [
      "       1\n",
      "      1 2\n",
      "     1 2 3\n",
      "    1 2 3 4\n",
      "   1 2 3 4 5\n",
      "  1 2 3 4 5 6\n",
      " 1 2 3 4 5 6 7\n",
      "1 2 3 4 5 6 7 8\n"
     ]
    }
   ],
   "source": [
    "num = 8\n",
    "\n",
    "data = '12345678'\n",
    "\n",
    "\n",
    "for i in range(1,num+1):\n",
    "    print(' '*(num-i)+' '.join(data[0:i]))"
   ]
  },
  {
   "cell_type": "code",
   "execution_count": null,
   "id": "9b905372",
   "metadata": {},
   "outputs": [],
   "source": []
  },
  {
   "cell_type": "code",
   "execution_count": 99,
   "id": "450549f2",
   "metadata": {},
   "outputs": [
    {
     "data": {
      "text/plain": [
       "'ABCDEFGHIJKLMNOPQRSTUVWXYZ'"
      ]
     },
     "execution_count": 99,
     "metadata": {},
     "output_type": "execute_result"
    }
   ],
   "source": []
  },
  {
   "cell_type": "code",
   "execution_count": 109,
   "id": "3681815d",
   "metadata": {},
   "outputs": [
    {
     "name": "stdout",
     "output_type": "stream",
     "text": [
      "   A\n",
      "  A B\n",
      " A B C\n",
      "A B C D\n"
     ]
    }
   ],
   "source": [
    "num = 4\n",
    "\n",
    "data = string.ascii_uppercase[0:num+1]\n",
    "\n",
    "for i in range(1,num+1):\n",
    "    print(' '*(num-i)+' '.join(data[0:i]))"
   ]
  },
  {
   "cell_type": "code",
   "execution_count": 116,
   "id": "432c8a68",
   "metadata": {},
   "outputs": [
    {
     "name": "stdout",
     "output_type": "stream",
     "text": [
      "                      M\n",
      "                     M Y\n",
      "                    M Y  \n",
      "                   M Y   N\n",
      "                  M Y   N A\n",
      "                 M Y   N A M\n",
      "                M Y   N A M E\n",
      "               M Y   N A M E  \n",
      "              M Y   N A M E   I\n",
      "             M Y   N A M E   I S\n",
      "            M Y   N A M E   I S  \n",
      "           M Y   N A M E   I S   S\n",
      "          M Y   N A M E   I S   S A\n",
      "         M Y   N A M E   I S   S A R\n",
      "        M Y   N A M E   I S   S A R W\n",
      "       M Y   N A M E   I S   S A R W A\n",
      "      M Y   N A M E   I S   S A R W A N\n",
      "     M Y   N A M E   I S   S A R W A N  \n",
      "    M Y   N A M E   I S   S A R W A N   K\n",
      "   M Y   N A M E   I S   S A R W A N   K U\n",
      "  M Y   N A M E   I S   S A R W A N   K U M\n",
      " M Y   N A M E   I S   S A R W A N   K U M A\n",
      "M Y   N A M E   I S   S A R W A N   K U M A R\n"
     ]
    }
   ],
   "source": [
    "data = 'My Name is sarwan kumar'.upper()\n",
    "\n",
    "num = len(data)\n",
    "\n",
    "for i in range(1,num+1):\n",
    "    print(' '*(num-i)+' '.join(data[0:i]))"
   ]
  },
  {
   "cell_type": "code",
   "execution_count": 118,
   "id": "ef9456c9",
   "metadata": {},
   "outputs": [
    {
     "name": "stdout",
     "output_type": "stream",
     "text": [
      "P\n",
      "P Y\n",
      "P Y T\n",
      "P Y T H\n",
      "P Y T H O\n",
      "P Y T H O N\n"
     ]
    }
   ],
   "source": [
    "data = 'python'.upper()\n",
    "\n",
    "num = len(data)\n",
    "\n",
    "for i in range(1,num+1):\n",
    "    print(''*(num-i)+' '.join(data[0:i]))"
   ]
  },
  {
   "cell_type": "code",
   "execution_count": 119,
   "id": "860c9a8d",
   "metadata": {},
   "outputs": [
    {
     "name": "stdout",
     "output_type": "stream",
     "text": [
      "          P\n",
      "        P Y\n",
      "      P Y T\n",
      "    P Y T H\n",
      "  P Y T H O\n",
      "P Y T H O N\n"
     ]
    }
   ],
   "source": [
    "data = 'python'.upper()\n",
    "\n",
    "num = len(data)\n",
    "\n",
    "for i in range(1,num+1):\n",
    "    print('  '*(num-i)+' '.join(data[0:i]))"
   ]
  },
  {
   "cell_type": "code",
   "execution_count": 120,
   "id": "d0484d6f",
   "metadata": {},
   "outputs": [
    {
     "name": "stdout",
     "output_type": "stream",
     "text": [
      "     P\n",
      "    P Y\n",
      "   P Y T\n",
      "  P Y T H\n",
      " P Y T H O\n",
      "P Y T H O N\n"
     ]
    }
   ],
   "source": [
    "data = 'python'.upper()\n",
    "\n",
    "num = len(data)\n",
    "\n",
    "for i in range(1,num+1):\n",
    "    print(' '*(num-i)+' '.join(data[0:i]))"
   ]
  },
  {
   "cell_type": "code",
   "execution_count": null,
   "id": "e90c0270",
   "metadata": {},
   "outputs": [],
   "source": []
  },
  {
   "cell_type": "code",
   "execution_count": null,
   "id": "64ceebb5",
   "metadata": {},
   "outputs": [],
   "source": []
  },
  {
   "cell_type": "code",
   "execution_count": 121,
   "id": "c91d06c6",
   "metadata": {},
   "outputs": [
    {
     "name": "stdout",
     "output_type": "stream",
     "text": [
      "P Y T H O N\n",
      " P Y T H O\n",
      "  P Y T H\n",
      "   P Y T\n",
      "    P Y\n",
      "     P\n"
     ]
    }
   ],
   "source": [
    "data = 'python'.upper()\n",
    "\n",
    "num = len(data)\n",
    "\n",
    "for i in range(num,0,-1):\n",
    "    print(' '*(num-i)+' '.join(data[0:i]))"
   ]
  },
  {
   "cell_type": "code",
   "execution_count": null,
   "id": "5b01aea2",
   "metadata": {},
   "outputs": [],
   "source": []
  },
  {
   "cell_type": "code",
   "execution_count": null,
   "id": "604fd6df",
   "metadata": {},
   "outputs": [],
   "source": []
  },
  {
   "cell_type": "code",
   "execution_count": 122,
   "id": "c3b71d90",
   "metadata": {},
   "outputs": [
    {
     "name": "stdout",
     "output_type": "stream",
     "text": [
      "P Y T H O N\n",
      "P Y T H O\n",
      "P Y T H\n",
      "P Y T\n",
      "P Y\n",
      "P\n"
     ]
    }
   ],
   "source": [
    "data = 'python'.upper()\n",
    "\n",
    "num = len(data)\n",
    "\n",
    "for i in range(num,0,-1):\n",
    "    print(''*(num-i)+' '.join(data[0:i]))"
   ]
  },
  {
   "cell_type": "code",
   "execution_count": null,
   "id": "f708d894",
   "metadata": {},
   "outputs": [],
   "source": []
  },
  {
   "cell_type": "code",
   "execution_count": 123,
   "id": "ff9225b9",
   "metadata": {},
   "outputs": [
    {
     "name": "stdout",
     "output_type": "stream",
     "text": [
      "P Y T H O N\n",
      "  P Y T H O\n",
      "    P Y T H\n",
      "      P Y T\n",
      "        P Y\n",
      "          P\n"
     ]
    }
   ],
   "source": [
    "data = 'python'.upper()\n",
    "\n",
    "num = len(data)\n",
    "\n",
    "for i in range(num,0,-1):\n",
    "    print('  '*(num-i)+' '.join(data[0:i]))"
   ]
  },
  {
   "cell_type": "code",
   "execution_count": null,
   "id": "0870766c",
   "metadata": {},
   "outputs": [],
   "source": []
  },
  {
   "cell_type": "code",
   "execution_count": 128,
   "id": "c169dcb7",
   "metadata": {},
   "outputs": [
    {
     "name": "stdout",
     "output_type": "stream",
     "text": [
      "P\n",
      "P Y\n",
      "P Y T\n",
      "P Y T H\n",
      "P Y T H O\n",
      "P Y T H O N\n",
      "P Y T H O\n",
      "P Y T H\n",
      "P Y T\n",
      "P Y\n",
      "P\n"
     ]
    }
   ],
   "source": [
    "data = 'python'.upper()\n",
    "\n",
    "num = len(data)\n",
    "\n",
    "\n",
    "\n",
    "for i in range(1,num):\n",
    "    print(''*(num-i)+' '.join(data[0:i]))\n",
    "\n",
    "for i in range(num,0,-1):\n",
    "    print(''*(num-i)+' '.join(data[0:i]))"
   ]
  },
  {
   "cell_type": "code",
   "execution_count": null,
   "id": "239e9992",
   "metadata": {},
   "outputs": [],
   "source": []
  },
  {
   "cell_type": "code",
   "execution_count": null,
   "id": "b3743044",
   "metadata": {},
   "outputs": [],
   "source": []
  },
  {
   "cell_type": "code",
   "execution_count": 129,
   "id": "5238157f",
   "metadata": {},
   "outputs": [
    {
     "name": "stdout",
     "output_type": "stream",
     "text": [
      "     P\n",
      "    P Y\n",
      "   P Y T\n",
      "  P Y T H\n",
      " P Y T H O\n",
      "P Y T H O N\n",
      " P Y T H O\n",
      "  P Y T H\n",
      "   P Y T\n",
      "    P Y\n",
      "     P\n"
     ]
    }
   ],
   "source": [
    "data = 'python'.upper()\n",
    "\n",
    "num = len(data)\n",
    "\n",
    "\n",
    "\n",
    "for i in range(1,num):\n",
    "    print(' '*(num-i)+' '.join(data[0:i]))\n",
    "\n",
    "for i in range(num,0,-1):\n",
    "    print(' '*(num-i)+' '.join(data[0:i]))"
   ]
  },
  {
   "cell_type": "code",
   "execution_count": null,
   "id": "a835bd9f",
   "metadata": {},
   "outputs": [],
   "source": []
  },
  {
   "cell_type": "code",
   "execution_count": null,
   "id": "f5734b5b",
   "metadata": {},
   "outputs": [],
   "source": []
  },
  {
   "cell_type": "code",
   "execution_count": 130,
   "id": "7f0bf5f2",
   "metadata": {},
   "outputs": [
    {
     "name": "stdout",
     "output_type": "stream",
     "text": [
      "          P\n",
      "        P Y\n",
      "      P Y T\n",
      "    P Y T H\n",
      "  P Y T H O\n",
      "P Y T H O N\n",
      "  P Y T H O\n",
      "    P Y T H\n",
      "      P Y T\n",
      "        P Y\n",
      "          P\n"
     ]
    }
   ],
   "source": [
    "data = 'python'.upper()\n",
    "\n",
    "num = len(data)\n",
    "\n",
    "\n",
    "\n",
    "for i in range(1,num):\n",
    "    print('  '*(num-i)+' '.join(data[0:i]))\n",
    "\n",
    "for i in range(num,0,-1):\n",
    "    print('  '*(num-i)+' '.join(data[0:i]))"
   ]
  },
  {
   "cell_type": "code",
   "execution_count": 131,
   "id": "27b0ad38",
   "metadata": {},
   "outputs": [
    {
     "name": "stdout",
     "output_type": "stream",
     "text": [
      "P\n",
      "P Y\n",
      "P Y T\n",
      "P Y T H\n",
      "P Y T H O\n",
      "P Y T H O N\n",
      "P Y T H O\n",
      "P Y T H\n",
      "P Y T\n",
      "P Y\n",
      "P\n",
      "          P\n",
      "        P Y\n",
      "      P Y T\n",
      "    P Y T H\n",
      "  P Y T H O\n",
      "P Y T H O N\n",
      "  P Y T H O\n",
      "    P Y T H\n",
      "      P Y T\n",
      "        P Y\n",
      "          P\n"
     ]
    }
   ],
   "source": [
    "for i in range(1,num):\n",
    "    print(''*(num-i)+' '.join(data[0:i]))\n",
    "\n",
    "for i in range(num,0,-1):\n",
    "    print(''*(num-i)+' '.join(data[0:i]))\n",
    "\n",
    "\n",
    "for i in range(1,num):\n",
    "    print('  '*(num-i)+' '.join(data[0:i]))\n",
    "\n",
    "for i in range(num,0,-1):\n",
    "    print('  '*(num-i)+' '.join(data[0:i]))"
   ]
  },
  {
   "cell_type": "code",
   "execution_count": null,
   "id": "219e9780",
   "metadata": {},
   "outputs": [],
   "source": []
  }
 ],
 "metadata": {
  "kernelspec": {
   "display_name": "Python 3 (ipykernel)",
   "language": "python",
   "name": "python3"
  },
  "language_info": {
   "codemirror_mode": {
    "name": "ipython",
    "version": 3
   },
   "file_extension": ".py",
   "mimetype": "text/x-python",
   "name": "python",
   "nbconvert_exporter": "python",
   "pygments_lexer": "ipython3",
   "version": "3.11.3"
  }
 },
 "nbformat": 4,
 "nbformat_minor": 5
}
