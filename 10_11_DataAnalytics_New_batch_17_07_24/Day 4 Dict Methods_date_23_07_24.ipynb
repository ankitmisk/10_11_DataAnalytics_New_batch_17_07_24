{
 "cells": [
  {
   "cell_type": "code",
   "execution_count": 1,
   "id": "1f11c0b3",
   "metadata": {},
   "outputs": [
    {
     "name": "stdout",
     "output_type": "stream",
     "text": [
      "{'name': 'Karan', 'Age': 34, 'Salary': 345678}\n"
     ]
    }
   ],
   "source": [
    "Data = {'name':'Karan','Age':34,'Salary':345678}\n",
    "\n",
    "print(Data)"
   ]
  },
  {
   "cell_type": "markdown",
   "id": "ece47908",
   "metadata": {},
   "source": [
    "# Dict Methods"
   ]
  },
  {
   "cell_type": "code",
   "execution_count": 2,
   "id": "af73edee",
   "metadata": {},
   "outputs": [
    {
     "name": "stdout",
     "output_type": "stream",
     "text": [
      "['__class__', '__class_getitem__', '__contains__', '__delattr__', '__delitem__', '__dir__', '__doc__', '__eq__', '__format__', '__ge__', '__getattribute__', '__getitem__', '__getstate__', '__gt__', '__hash__', '__init__', '__init_subclass__', '__ior__', '__iter__', '__le__', '__len__', '__lt__', '__ne__', '__new__', '__or__', '__reduce__', '__reduce_ex__', '__repr__', '__reversed__', '__ror__', '__setattr__', '__setitem__', '__sizeof__', '__str__', '__subclasshook__', 'clear', 'copy', 'fromkeys', 'get', 'items', 'keys', 'pop', 'popitem', 'setdefault', 'update', 'values']\n"
     ]
    }
   ],
   "source": [
    "print(dir(dict))"
   ]
  },
  {
   "cell_type": "code",
   "execution_count": 5,
   "id": "88543fb3",
   "metadata": {},
   "outputs": [],
   "source": [
    "all_methods = ['clear', 'copy', 'fromkeys', 'get', 'items', 'keys', 'pop', 'popitem', 'setdefault', 'update', 'values']"
   ]
  },
  {
   "cell_type": "code",
   "execution_count": 6,
   "id": "9f012f18",
   "metadata": {},
   "outputs": [
    {
     "name": "stdout",
     "output_type": "stream",
     "text": [
      "['clear', 'copy', 'fromkeys', 'get', 'items', 'keys', 'pop', 'popitem', 'setdefault', 'update', 'values']\n"
     ]
    }
   ],
   "source": [
    "print(all_methods)"
   ]
  },
  {
   "cell_type": "code",
   "execution_count": 7,
   "id": "66c3696c",
   "metadata": {},
   "outputs": [
    {
     "name": "stdout",
     "output_type": "stream",
     "text": [
      "11\n"
     ]
    }
   ],
   "source": [
    "print(len(all_methods))"
   ]
  },
  {
   "cell_type": "code",
   "execution_count": 8,
   "id": "c8e71b09",
   "metadata": {},
   "outputs": [
    {
     "data": {
      "text/plain": [
       "{'name': 'Karan', 'Age': 34, 'Salary': 345678}"
      ]
     },
     "execution_count": 8,
     "metadata": {},
     "output_type": "execute_result"
    }
   ],
   "source": [
    "Data"
   ]
  },
  {
   "cell_type": "code",
   "execution_count": 9,
   "id": "a27fae87",
   "metadata": {},
   "outputs": [],
   "source": [
    "Data.clear()"
   ]
  },
  {
   "cell_type": "code",
   "execution_count": 10,
   "id": "f17690db",
   "metadata": {},
   "outputs": [
    {
     "name": "stdout",
     "output_type": "stream",
     "text": [
      "{}\n"
     ]
    }
   ],
   "source": [
    "print(Data)"
   ]
  },
  {
   "cell_type": "code",
   "execution_count": 11,
   "id": "bf4445f0",
   "metadata": {},
   "outputs": [
    {
     "name": "stdout",
     "output_type": "stream",
     "text": [
      "{}\n"
     ]
    }
   ],
   "source": [
    "empty_dict = {}\n",
    "\n",
    "print(empty_dict)"
   ]
  },
  {
   "cell_type": "code",
   "execution_count": 12,
   "id": "e3bdfeda",
   "metadata": {},
   "outputs": [
    {
     "name": "stdout",
     "output_type": "stream",
     "text": [
      "0\n"
     ]
    }
   ],
   "source": [
    "print(len(empty_dict))"
   ]
  },
  {
   "cell_type": "code",
   "execution_count": 13,
   "id": "4dc6d642",
   "metadata": {},
   "outputs": [],
   "source": [
    "my_data = {'name': 'Karan', 'Age': 34, 'Salary': 345678}"
   ]
  },
  {
   "cell_type": "code",
   "execution_count": 14,
   "id": "7175d3c8",
   "metadata": {},
   "outputs": [
    {
     "name": "stdout",
     "output_type": "stream",
     "text": [
      "{'name': 'Karan', 'Age': 34, 'Salary': 345678}\n"
     ]
    }
   ],
   "source": [
    "print(my_data)"
   ]
  },
  {
   "cell_type": "code",
   "execution_count": 15,
   "id": "a462b238",
   "metadata": {},
   "outputs": [],
   "source": [
    "# deep copy\n",
    "# shallow copy"
   ]
  },
  {
   "cell_type": "code",
   "execution_count": 16,
   "id": "2b813bf3",
   "metadata": {},
   "outputs": [
    {
     "data": {
      "text/plain": [
       "{'name': 'Karan', 'Age': 34, 'Salary': 345678}"
      ]
     },
     "execution_count": 16,
     "metadata": {},
     "output_type": "execute_result"
    }
   ],
   "source": [
    "# deep copy\n",
    "\n",
    "my_data"
   ]
  },
  {
   "cell_type": "code",
   "execution_count": 17,
   "id": "4c9e982d",
   "metadata": {},
   "outputs": [],
   "source": [
    "your_data = my_data"
   ]
  },
  {
   "cell_type": "code",
   "execution_count": 18,
   "id": "f130fd42",
   "metadata": {},
   "outputs": [
    {
     "name": "stdout",
     "output_type": "stream",
     "text": [
      "{'name': 'Karan', 'Age': 34, 'Salary': 345678}\n"
     ]
    }
   ],
   "source": [
    "print(your_data)"
   ]
  },
  {
   "cell_type": "code",
   "execution_count": 20,
   "id": "98f19d75",
   "metadata": {},
   "outputs": [],
   "source": [
    "your_data['Age'] = 87"
   ]
  },
  {
   "cell_type": "code",
   "execution_count": 21,
   "id": "5d7d8561",
   "metadata": {},
   "outputs": [
    {
     "name": "stdout",
     "output_type": "stream",
     "text": [
      "{'name': 'Karan', 'Age': 87, 'Salary': 345678}\n"
     ]
    }
   ],
   "source": [
    "print(your_data)"
   ]
  },
  {
   "cell_type": "code",
   "execution_count": 22,
   "id": "8abcf4aa",
   "metadata": {},
   "outputs": [
    {
     "name": "stdout",
     "output_type": "stream",
     "text": [
      "{'name': 'Karan', 'Age': 87, 'Salary': 345678}\n"
     ]
    }
   ],
   "source": [
    "print(my_data)"
   ]
  },
  {
   "cell_type": "code",
   "execution_count": null,
   "id": "0b36347b",
   "metadata": {},
   "outputs": [],
   "source": []
  },
  {
   "cell_type": "code",
   "execution_count": null,
   "id": "453da2a9",
   "metadata": {},
   "outputs": [],
   "source": []
  },
  {
   "cell_type": "code",
   "execution_count": 23,
   "id": "e61bb54a",
   "metadata": {},
   "outputs": [],
   "source": [
    "# shallow copy\n",
    "\n",
    "dost1 = {'name': 'Karan', 'Age': 87, 'Salary': 345678}\n",
    "\n",
    "dost2 = dost1.copy()"
   ]
  },
  {
   "cell_type": "code",
   "execution_count": 24,
   "id": "9424e132",
   "metadata": {},
   "outputs": [
    {
     "name": "stdout",
     "output_type": "stream",
     "text": [
      "{'name': 'Karan', 'Age': 87, 'Salary': 345678}\n"
     ]
    }
   ],
   "source": [
    "print(dost1)"
   ]
  },
  {
   "cell_type": "code",
   "execution_count": 25,
   "id": "592912f8",
   "metadata": {},
   "outputs": [
    {
     "name": "stdout",
     "output_type": "stream",
     "text": [
      "{'name': 'Karan', 'Age': 87, 'Salary': 345678}\n"
     ]
    }
   ],
   "source": [
    "print(dost2)"
   ]
  },
  {
   "cell_type": "code",
   "execution_count": 27,
   "id": "c67057ad",
   "metadata": {},
   "outputs": [],
   "source": [
    "dost1['Salary'] = 90"
   ]
  },
  {
   "cell_type": "code",
   "execution_count": 28,
   "id": "7df67992",
   "metadata": {},
   "outputs": [
    {
     "name": "stdout",
     "output_type": "stream",
     "text": [
      "{'name': 'Karan', 'Age': 87, 'Salary': 90}\n"
     ]
    }
   ],
   "source": [
    "print(dost1)"
   ]
  },
  {
   "cell_type": "code",
   "execution_count": null,
   "id": "0a5491e4",
   "metadata": {},
   "outputs": [],
   "source": []
  },
  {
   "cell_type": "code",
   "execution_count": 29,
   "id": "4baa4e50",
   "metadata": {},
   "outputs": [
    {
     "name": "stdout",
     "output_type": "stream",
     "text": [
      "{'name': 'Karan', 'Age': 87, 'Salary': 345678}\n"
     ]
    }
   ],
   "source": [
    "print(dost2)"
   ]
  },
  {
   "cell_type": "code",
   "execution_count": null,
   "id": "045ffbf8",
   "metadata": {},
   "outputs": [],
   "source": []
  },
  {
   "cell_type": "code",
   "execution_count": null,
   "id": "44a24950",
   "metadata": {},
   "outputs": [],
   "source": []
  },
  {
   "cell_type": "code",
   "execution_count": 31,
   "id": "f9bf455e",
   "metadata": {},
   "outputs": [
    {
     "name": "stdout",
     "output_type": "stream",
     "text": [
      "{'age': None, 'color': None, 'gender': None, 'heigth': None, 'salary': None, 'address': None}\n"
     ]
    }
   ],
   "source": [
    "data = ['age','color','gender','heigth','salary','address']\n",
    "\n",
    "\n",
    "my_dict = {}\n",
    "\n",
    "new_dict = my_dict.fromkeys(data)\n",
    "\n",
    "print(new_dict)"
   ]
  },
  {
   "cell_type": "code",
   "execution_count": 32,
   "id": "9f2a41cd",
   "metadata": {},
   "outputs": [
    {
     "name": "stdout",
     "output_type": "stream",
     "text": [
      "['clear', 'copy', 'fromkeys', 'get', 'items', 'keys', 'pop', 'popitem', 'setdefault', 'update', 'values']\n"
     ]
    }
   ],
   "source": [
    "print(all_methods)"
   ]
  },
  {
   "cell_type": "code",
   "execution_count": 33,
   "id": "cff469f7",
   "metadata": {},
   "outputs": [
    {
     "data": {
      "text/plain": [
       "{'name': 'Karan', 'Age': 87, 'Salary': 90}"
      ]
     },
     "execution_count": 33,
     "metadata": {},
     "output_type": "execute_result"
    }
   ],
   "source": [
    "dost1"
   ]
  },
  {
   "cell_type": "code",
   "execution_count": 36,
   "id": "267107b7",
   "metadata": {},
   "outputs": [],
   "source": [
    "dost1['Salary'] = 98765"
   ]
  },
  {
   "cell_type": "code",
   "execution_count": 37,
   "id": "2959e5b3",
   "metadata": {},
   "outputs": [
    {
     "data": {
      "text/plain": [
       "{'name': 'Karan', 'Age': 87, 'Salary': 98765}"
      ]
     },
     "execution_count": 37,
     "metadata": {},
     "output_type": "execute_result"
    }
   ],
   "source": [
    "dost1"
   ]
  },
  {
   "cell_type": "code",
   "execution_count": 38,
   "id": "1042de6e",
   "metadata": {},
   "outputs": [
    {
     "data": {
      "text/plain": [
       "98765"
      ]
     },
     "execution_count": 38,
     "metadata": {},
     "output_type": "execute_result"
    }
   ],
   "source": [
    "dost1.get('Salary')"
   ]
  },
  {
   "cell_type": "code",
   "execution_count": 39,
   "id": "27e68b99",
   "metadata": {},
   "outputs": [
    {
     "ename": "SyntaxError",
     "evalue": "cannot assign to function call here. Maybe you meant '==' instead of '='? (1691741901.py, line 1)",
     "output_type": "error",
     "traceback": [
      "\u001b[1;36m  Cell \u001b[1;32mIn[39], line 1\u001b[1;36m\u001b[0m\n\u001b[1;33m    dost1.get('Salary') = 987678765456765432\u001b[0m\n\u001b[1;37m    ^\u001b[0m\n\u001b[1;31mSyntaxError\u001b[0m\u001b[1;31m:\u001b[0m cannot assign to function call here. Maybe you meant '==' instead of '='?\n"
     ]
    }
   ],
   "source": [
    "dost1.get('Salary') = 987678765456765432"
   ]
  },
  {
   "cell_type": "code",
   "execution_count": 40,
   "id": "3631543c",
   "metadata": {},
   "outputs": [
    {
     "data": {
      "text/plain": [
       "{'name': 'Karan', 'Age': 87, 'Salary': 345678}"
      ]
     },
     "execution_count": 40,
     "metadata": {},
     "output_type": "execute_result"
    }
   ],
   "source": [
    "dost2"
   ]
  },
  {
   "cell_type": "code",
   "execution_count": 43,
   "id": "862bdf16",
   "metadata": {},
   "outputs": [],
   "source": [
    "dost2['Address'] = 'Noida'"
   ]
  },
  {
   "cell_type": "code",
   "execution_count": 44,
   "id": "0f8a2d24",
   "metadata": {},
   "outputs": [
    {
     "data": {
      "text/plain": [
       "dict_items([('name', 'Karan'), ('Age', 87), ('Salary', 345678), ('Address', 'Noida')])"
      ]
     },
     "execution_count": 44,
     "metadata": {},
     "output_type": "execute_result"
    }
   ],
   "source": [
    "dost2.items()"
   ]
  },
  {
   "cell_type": "code",
   "execution_count": 45,
   "id": "1042df2f",
   "metadata": {},
   "outputs": [
    {
     "data": {
      "text/plain": [
       "{'name': 'Karan', 'Age': 87, 'Salary': 345678, 'Address': 'Noida'}"
      ]
     },
     "execution_count": 45,
     "metadata": {},
     "output_type": "execute_result"
    }
   ],
   "source": [
    "dost2"
   ]
  },
  {
   "cell_type": "code",
   "execution_count": 46,
   "id": "f529487a",
   "metadata": {},
   "outputs": [
    {
     "data": {
      "text/plain": [
       "dict_keys(['name', 'Age', 'Salary', 'Address'])"
      ]
     },
     "execution_count": 46,
     "metadata": {},
     "output_type": "execute_result"
    }
   ],
   "source": [
    "dost2.keys()"
   ]
  },
  {
   "cell_type": "code",
   "execution_count": 48,
   "id": "20334335",
   "metadata": {},
   "outputs": [
    {
     "data": {
      "text/plain": [
       "['name', 'Age', 'Salary', 'Address']"
      ]
     },
     "execution_count": 48,
     "metadata": {},
     "output_type": "execute_result"
    }
   ],
   "source": [
    "list(dost2)"
   ]
  },
  {
   "cell_type": "code",
   "execution_count": 49,
   "id": "317de882",
   "metadata": {},
   "outputs": [
    {
     "data": {
      "text/plain": [
       "{'name': 'Karan', 'Age': 87, 'Salary': 345678, 'Address': 'Noida'}"
      ]
     },
     "execution_count": 49,
     "metadata": {},
     "output_type": "execute_result"
    }
   ],
   "source": [
    "dost2"
   ]
  },
  {
   "cell_type": "code",
   "execution_count": 51,
   "id": "22ed154c",
   "metadata": {},
   "outputs": [
    {
     "data": {
      "text/plain": [
       "dict_values(['Karan', 87, 345678, 'Noida'])"
      ]
     },
     "execution_count": 51,
     "metadata": {},
     "output_type": "execute_result"
    }
   ],
   "source": [
    "dost2.values()"
   ]
  },
  {
   "cell_type": "code",
   "execution_count": null,
   "id": "b45a7ae2",
   "metadata": {},
   "outputs": [],
   "source": []
  },
  {
   "cell_type": "code",
   "execution_count": null,
   "id": "54d4bd65",
   "metadata": {},
   "outputs": [],
   "source": []
  },
  {
   "cell_type": "code",
   "execution_count": 52,
   "id": "e5924737",
   "metadata": {},
   "outputs": [],
   "source": [
    "# 'pop', 'popitem', 'setdefault', 'update',"
   ]
  },
  {
   "cell_type": "code",
   "execution_count": 53,
   "id": "547a09af",
   "metadata": {},
   "outputs": [
    {
     "data": {
      "text/plain": [
       "{'name': 'Karan', 'Age': 87, 'Salary': 345678, 'Address': 'Noida'}"
      ]
     },
     "execution_count": 53,
     "metadata": {},
     "output_type": "execute_result"
    }
   ],
   "source": [
    "dost2"
   ]
  },
  {
   "cell_type": "code",
   "execution_count": 55,
   "id": "9df751ba",
   "metadata": {},
   "outputs": [
    {
     "data": {
      "text/plain": [
       "345678"
      ]
     },
     "execution_count": 55,
     "metadata": {},
     "output_type": "execute_result"
    }
   ],
   "source": [
    "dost2.pop('Salary')"
   ]
  },
  {
   "cell_type": "code",
   "execution_count": 56,
   "id": "6be864d2",
   "metadata": {},
   "outputs": [
    {
     "name": "stdout",
     "output_type": "stream",
     "text": [
      "{'name': 'Karan', 'Age': 87, 'Address': 'Noida'}\n"
     ]
    }
   ],
   "source": [
    "print(dost2)"
   ]
  },
  {
   "cell_type": "code",
   "execution_count": 58,
   "id": "014787df",
   "metadata": {},
   "outputs": [
    {
     "data": {
      "text/plain": [
       "'Noida'"
      ]
     },
     "execution_count": 58,
     "metadata": {},
     "output_type": "execute_result"
    }
   ],
   "source": [
    "dost2.pop('Address')"
   ]
  },
  {
   "cell_type": "code",
   "execution_count": 59,
   "id": "3b3e6be8",
   "metadata": {},
   "outputs": [
    {
     "name": "stdout",
     "output_type": "stream",
     "text": [
      "{'name': 'Karan', 'Age': 87}\n"
     ]
    }
   ],
   "source": [
    "print(dost2)"
   ]
  },
  {
   "cell_type": "code",
   "execution_count": 60,
   "id": "ec626d0e",
   "metadata": {},
   "outputs": [
    {
     "data": {
      "text/plain": [
       "{'name': 'Karan', 'Age': 87, 'Salary': 98765}"
      ]
     },
     "execution_count": 60,
     "metadata": {},
     "output_type": "execute_result"
    }
   ],
   "source": [
    "dost1"
   ]
  },
  {
   "cell_type": "code",
   "execution_count": 62,
   "id": "966e5806",
   "metadata": {},
   "outputs": [
    {
     "data": {
      "text/plain": [
       "('Age', 87)"
      ]
     },
     "execution_count": 62,
     "metadata": {},
     "output_type": "execute_result"
    }
   ],
   "source": [
    "# 'popitem'\n",
    "\n",
    "\n",
    "dost1.popitem()"
   ]
  },
  {
   "cell_type": "code",
   "execution_count": 63,
   "id": "a2098eae",
   "metadata": {},
   "outputs": [
    {
     "name": "stdout",
     "output_type": "stream",
     "text": [
      "{'name': 'Karan'}\n"
     ]
    }
   ],
   "source": [
    "print(dost1)"
   ]
  },
  {
   "cell_type": "code",
   "execution_count": 64,
   "id": "3c31981d",
   "metadata": {},
   "outputs": [
    {
     "data": {
      "text/plain": [
       "('name', 'Karan')"
      ]
     },
     "execution_count": 64,
     "metadata": {},
     "output_type": "execute_result"
    }
   ],
   "source": [
    "dost1.popitem()"
   ]
  },
  {
   "cell_type": "code",
   "execution_count": 65,
   "id": "3505b535",
   "metadata": {},
   "outputs": [
    {
     "name": "stdout",
     "output_type": "stream",
     "text": [
      "{}\n"
     ]
    }
   ],
   "source": [
    "print(dost1)"
   ]
  },
  {
   "cell_type": "code",
   "execution_count": null,
   "id": "9cc7286a",
   "metadata": {},
   "outputs": [],
   "source": []
  },
  {
   "cell_type": "code",
   "execution_count": null,
   "id": "01b0be41",
   "metadata": {},
   "outputs": [],
   "source": []
  },
  {
   "cell_type": "code",
   "execution_count": 66,
   "id": "2b1ea578",
   "metadata": {},
   "outputs": [],
   "source": [
    "#  'setdefault', 'update',"
   ]
  },
  {
   "cell_type": "code",
   "execution_count": 72,
   "id": "733a0248",
   "metadata": {},
   "outputs": [
    {
     "name": "stdout",
     "output_type": "stream",
     "text": [
      "{'Emp_id': 12, 'Emp_Name': 'Mohan', 'Emp_Designation': 'Data Scientist', 'Emp_salary': 8765432}\n"
     ]
    }
   ],
   "source": [
    "my_dict = {'Emp_id':12,'Emp_Name':'Mohan','Emp_Designation':'Data Scientist','Emp_salary':8765432}\n",
    "\n",
    "print(my_dict)"
   ]
  },
  {
   "cell_type": "code",
   "execution_count": 73,
   "id": "aa692601",
   "metadata": {},
   "outputs": [
    {
     "data": {
      "text/plain": [
       "5"
      ]
     },
     "execution_count": 73,
     "metadata": {},
     "output_type": "execute_result"
    }
   ],
   "source": [
    "# 'setdefault'\n",
    "\n",
    "my_dict.setdefault('Emp_exp',5)"
   ]
  },
  {
   "cell_type": "code",
   "execution_count": 74,
   "id": "4dbae25e",
   "metadata": {},
   "outputs": [
    {
     "name": "stdout",
     "output_type": "stream",
     "text": [
      "{'Emp_id': 12, 'Emp_Name': 'Mohan', 'Emp_Designation': 'Data Scientist', 'Emp_salary': 8765432, 'Emp_exp': 5}\n"
     ]
    }
   ],
   "source": [
    "print(my_dict)"
   ]
  },
  {
   "cell_type": "code",
   "execution_count": 75,
   "id": "b5b51e42",
   "metadata": {},
   "outputs": [],
   "source": [
    "my_dict['Emp_exp'] = 8"
   ]
  },
  {
   "cell_type": "code",
   "execution_count": 76,
   "id": "82196449",
   "metadata": {},
   "outputs": [
    {
     "name": "stdout",
     "output_type": "stream",
     "text": [
      "{'Emp_id': 12, 'Emp_Name': 'Mohan', 'Emp_Designation': 'Data Scientist', 'Emp_salary': 8765432, 'Emp_exp': 8}\n"
     ]
    }
   ],
   "source": [
    "print(my_dict)"
   ]
  },
  {
   "cell_type": "code",
   "execution_count": 77,
   "id": "ae2aefa7",
   "metadata": {},
   "outputs": [],
   "source": [
    "my_dict['Emp_Name'] = 'Mohan Kumar'"
   ]
  },
  {
   "cell_type": "code",
   "execution_count": 78,
   "id": "a6aaad4e",
   "metadata": {},
   "outputs": [
    {
     "name": "stdout",
     "output_type": "stream",
     "text": [
      "{'Emp_id': 12, 'Emp_Name': 'Mohan Kumar', 'Emp_Designation': 'Data Scientist', 'Emp_salary': 8765432, 'Emp_exp': 8}\n"
     ]
    }
   ],
   "source": [
    "print(my_dict)"
   ]
  },
  {
   "cell_type": "code",
   "execution_count": null,
   "id": "1b61d06f",
   "metadata": {},
   "outputs": [],
   "source": []
  },
  {
   "cell_type": "code",
   "execution_count": 80,
   "id": "ef131dbc",
   "metadata": {},
   "outputs": [
    {
     "data": {
      "text/plain": [
       "200"
      ]
     },
     "execution_count": 80,
     "metadata": {},
     "output_type": "execute_result"
    }
   ],
   "source": [
    "my_dict.setdefault('new_Emp_id',200)"
   ]
  },
  {
   "cell_type": "code",
   "execution_count": 81,
   "id": "838b3230",
   "metadata": {},
   "outputs": [
    {
     "name": "stdout",
     "output_type": "stream",
     "text": [
      "{'Emp_id': 12, 'Emp_Name': 'Mohan Kumar', 'Emp_Designation': 'Data Scientist', 'Emp_salary': 8765432, 'Emp_exp': 8, 'new_Emp_id': 200}\n"
     ]
    }
   ],
   "source": [
    "print(my_dict)"
   ]
  },
  {
   "cell_type": "code",
   "execution_count": 82,
   "id": "434250f4",
   "metadata": {},
   "outputs": [
    {
     "data": {
      "text/plain": [
       "12"
      ]
     },
     "execution_count": 82,
     "metadata": {},
     "output_type": "execute_result"
    }
   ],
   "source": [
    "my_dict.setdefault('Emp_id',500)"
   ]
  },
  {
   "cell_type": "code",
   "execution_count": null,
   "id": "124f8a84",
   "metadata": {},
   "outputs": [],
   "source": []
  },
  {
   "cell_type": "code",
   "execution_count": null,
   "id": "1b0cd327",
   "metadata": {},
   "outputs": [],
   "source": []
  },
  {
   "cell_type": "code",
   "execution_count": 83,
   "id": "ba160769",
   "metadata": {},
   "outputs": [],
   "source": [
    "# update method"
   ]
  },
  {
   "cell_type": "code",
   "execution_count": 86,
   "id": "8d842994",
   "metadata": {},
   "outputs": [
    {
     "data": {
      "text/plain": [
       "{'Emp_id': 12,\n",
       " 'Emp_Name': 'Mohan Kumar',\n",
       " 'Emp_Designation': 'Data Scientist',\n",
       " 'Emp_salary': 8765432,\n",
       " 'Emp_exp': 8,\n",
       " 'new_Emp_id': 200}"
      ]
     },
     "execution_count": 86,
     "metadata": {},
     "output_type": "execute_result"
    }
   ],
   "source": [
    "my_dict"
   ]
  },
  {
   "cell_type": "code",
   "execution_count": 89,
   "id": "f907fc4e",
   "metadata": {},
   "outputs": [
    {
     "data": {
      "text/plain": [
       "{'Emp_id': 12,\n",
       " 'Emp_Name': 'Mohan Kumar',\n",
       " 'Emp_Designation': 'Data Scientist',\n",
       " 'Emp_salary': 8765432,\n",
       " 'Emp_exp': 8,\n",
       " 'new_Emp_id': 200}"
      ]
     },
     "execution_count": 89,
     "metadata": {},
     "output_type": "execute_result"
    }
   ],
   "source": [
    "my_dict"
   ]
  },
  {
   "cell_type": "code",
   "execution_count": 90,
   "id": "fd9114f4",
   "metadata": {},
   "outputs": [],
   "source": [
    "my_dict.update({'Emp_exp':12})"
   ]
  },
  {
   "cell_type": "code",
   "execution_count": 92,
   "id": "640e0f4c",
   "metadata": {},
   "outputs": [],
   "source": [
    "my_dict['Emp_salary'] = 987654"
   ]
  },
  {
   "cell_type": "code",
   "execution_count": 93,
   "id": "5b85f4f0",
   "metadata": {},
   "outputs": [
    {
     "data": {
      "text/plain": [
       "{'Emp_id': 12,\n",
       " 'Emp_Name': 'Mohan Kumar',\n",
       " 'Emp_Designation': 'Data Scientist',\n",
       " 'Emp_salary': 987654,\n",
       " 'Emp_exp': 12,\n",
       " 'new_Emp_id': 200}"
      ]
     },
     "execution_count": 93,
     "metadata": {},
     "output_type": "execute_result"
    }
   ],
   "source": [
    "my_dict"
   ]
  },
  {
   "cell_type": "code",
   "execution_count": 95,
   "id": "47f83e12",
   "metadata": {},
   "outputs": [],
   "source": [
    "my_dict.update({'Emp_id':20,'Emp_salary':987656787,'Emp_exp':20})"
   ]
  },
  {
   "cell_type": "code",
   "execution_count": 96,
   "id": "21d4de9f",
   "metadata": {},
   "outputs": [
    {
     "data": {
      "text/plain": [
       "{'Emp_id': 20,\n",
       " 'Emp_Name': 'Mohan Kumar',\n",
       " 'Emp_Designation': 'Data Scientist',\n",
       " 'Emp_salary': 987656787,\n",
       " 'Emp_exp': 20,\n",
       " 'new_Emp_id': 200}"
      ]
     },
     "execution_count": 96,
     "metadata": {},
     "output_type": "execute_result"
    }
   ],
   "source": [
    "my_dict"
   ]
  },
  {
   "cell_type": "code",
   "execution_count": null,
   "id": "ee5b4b7d",
   "metadata": {},
   "outputs": [],
   "source": []
  },
  {
   "cell_type": "code",
   "execution_count": null,
   "id": "82bd3368",
   "metadata": {},
   "outputs": [],
   "source": []
  },
  {
   "cell_type": "code",
   "execution_count": 97,
   "id": "8ce56845",
   "metadata": {},
   "outputs": [],
   "source": [
    "# unpacking dict"
   ]
  },
  {
   "cell_type": "code",
   "execution_count": 98,
   "id": "011cb1ef",
   "metadata": {},
   "outputs": [],
   "source": [
    "a = {'Name':'Ajay'}\n",
    "b = {'Age':23}\n",
    "c = {'Address':'Noida'}\n",
    "d = {'Roll_No':12}"
   ]
  },
  {
   "cell_type": "code",
   "execution_count": 101,
   "id": "c6b65106",
   "metadata": {},
   "outputs": [],
   "source": [
    "student_details = {}\n",
    "\n",
    "student_details.update(a)\n",
    "student_details.update(b)\n",
    "student_details.update(c)\n",
    "student_details.update(d)"
   ]
  },
  {
   "cell_type": "code",
   "execution_count": 102,
   "id": "2607fbc4",
   "metadata": {},
   "outputs": [
    {
     "data": {
      "text/plain": [
       "{'Name': 'Ajay', 'Age': 23, 'Address': 'Noida', 'Roll_No': 12}"
      ]
     },
     "execution_count": 102,
     "metadata": {},
     "output_type": "execute_result"
    }
   ],
   "source": [
    "student_details"
   ]
  },
  {
   "cell_type": "code",
   "execution_count": null,
   "id": "1e9d6a93",
   "metadata": {},
   "outputs": [],
   "source": []
  },
  {
   "cell_type": "code",
   "execution_count": null,
   "id": "1d656894",
   "metadata": {},
   "outputs": [],
   "source": [
    "# unpacking dict"
   ]
  },
  {
   "cell_type": "code",
   "execution_count": 104,
   "id": "18ff402a",
   "metadata": {},
   "outputs": [
    {
     "name": "stdout",
     "output_type": "stream",
     "text": [
      "{'Name': 'Ajay', 'Roll_No': 12, 'Address': 'Noida', 'Age': 23}\n"
     ]
    }
   ],
   "source": [
    "a = {'Name':'Ajay'}\n",
    "b = {'Age':23}\n",
    "c = {'Address':'Noida'}\n",
    "d = {'Roll_No':12}\n",
    "\n",
    "\n",
    "full_details = {**a,**d,**c,**b}\n",
    "\n",
    "print(full_details)"
   ]
  },
  {
   "cell_type": "code",
   "execution_count": null,
   "id": "21494790",
   "metadata": {},
   "outputs": [],
   "source": []
  },
  {
   "cell_type": "code",
   "execution_count": null,
   "id": "db2924db",
   "metadata": {},
   "outputs": [],
   "source": []
  },
  {
   "cell_type": "code",
   "execution_count": 106,
   "id": "f4d2e899",
   "metadata": {},
   "outputs": [
    {
     "name": "stdout",
     "output_type": "stream",
     "text": [
      "{'Roll_No', 'Address', 'Age', 'Name'}\n"
     ]
    }
   ],
   "source": [
    "a = {'Name':'Ajay'}\n",
    "b = {'Age':23}\n",
    "c = {'Address':'Noida'}\n",
    "d = {'Roll_No':12}\n",
    "\n",
    "\n",
    "full_details = {*a,*d,*c,*b}\n",
    "\n",
    "print(full_details)"
   ]
  },
  {
   "cell_type": "code",
   "execution_count": null,
   "id": "caec378f",
   "metadata": {},
   "outputs": [],
   "source": []
  },
  {
   "cell_type": "code",
   "execution_count": null,
   "id": "6737fd5b",
   "metadata": {},
   "outputs": [],
   "source": []
  },
  {
   "cell_type": "code",
   "execution_count": null,
   "id": "778a2780",
   "metadata": {},
   "outputs": [],
   "source": []
  },
  {
   "cell_type": "code",
   "execution_count": 108,
   "id": "69bdd8e3",
   "metadata": {},
   "outputs": [
    {
     "name": "stdout",
     "output_type": "stream",
     "text": [
      "['Name', 'Roll_No', 'Address', 'Age']\n"
     ]
    }
   ],
   "source": [
    "a = {'Name':'Ajay'}\n",
    "b = {'Age':23}\n",
    "c = {'Address':'Noida'}\n",
    "d = {'Roll_No':12}\n",
    "\n",
    "\n",
    "full_details = [*a,*d,*c,*b]\n",
    "\n",
    "print(full_details)"
   ]
  },
  {
   "cell_type": "code",
   "execution_count": 109,
   "id": "652c32f2",
   "metadata": {},
   "outputs": [],
   "source": [
    "# list()\n",
    "# .keys()\n",
    "# [*a,*b..]"
   ]
  },
  {
   "cell_type": "code",
   "execution_count": null,
   "id": "73fca1aa",
   "metadata": {},
   "outputs": [],
   "source": []
  },
  {
   "cell_type": "code",
   "execution_count": null,
   "id": "c095e8f0",
   "metadata": {},
   "outputs": [],
   "source": []
  },
  {
   "cell_type": "code",
   "execution_count": 110,
   "id": "dd6fddf7",
   "metadata": {},
   "outputs": [],
   "source": [
    "# tuple"
   ]
  },
  {
   "cell_type": "code",
   "execution_count": 111,
   "id": "ec72c2ca",
   "metadata": {},
   "outputs": [
    {
     "name": "stdout",
     "output_type": "stream",
     "text": [
      "(1, 23, 45, 321, 3, 456)\n"
     ]
    }
   ],
   "source": [
    "a = (1,23,45,321,3,456)\n",
    "\n",
    "print(a)"
   ]
  },
  {
   "cell_type": "code",
   "execution_count": 112,
   "id": "8f76e136",
   "metadata": {},
   "outputs": [
    {
     "name": "stdout",
     "output_type": "stream",
     "text": [
      "(12, 33, 5, (12, 33, 5))\n"
     ]
    }
   ],
   "source": [
    "# nested tuple\n",
    "\n",
    "a = (12,33,5,(12,33,5))\n",
    "\n",
    "print(a)"
   ]
  },
  {
   "cell_type": "code",
   "execution_count": 113,
   "id": "a1399013",
   "metadata": {},
   "outputs": [
    {
     "data": {
      "text/plain": [
       "(12, 43, 5, 657)"
      ]
     },
     "execution_count": 113,
     "metadata": {},
     "output_type": "execute_result"
    }
   ],
   "source": [
    "b = (12,43,5,657)\n",
    "\n",
    "b"
   ]
  },
  {
   "cell_type": "code",
   "execution_count": 115,
   "id": "0874ed93",
   "metadata": {},
   "outputs": [
    {
     "data": {
      "text/plain": [
       "5"
      ]
     },
     "execution_count": 115,
     "metadata": {},
     "output_type": "execute_result"
    }
   ],
   "source": [
    "#indexing\n",
    "b[2]"
   ]
  },
  {
   "cell_type": "code",
   "execution_count": 116,
   "id": "d1927c58",
   "metadata": {},
   "outputs": [
    {
     "data": {
      "text/plain": [
       "(23, 45, 321, 3)"
      ]
     },
     "execution_count": 116,
     "metadata": {},
     "output_type": "execute_result"
    }
   ],
   "source": [
    "# slicing \n",
    "f = (1, 23, 45, 321, 3, 456)\n",
    "\n",
    "f[1:5]"
   ]
  },
  {
   "cell_type": "code",
   "execution_count": 117,
   "id": "9f760592",
   "metadata": {},
   "outputs": [],
   "source": [
    "# tuple is immutable"
   ]
  },
  {
   "cell_type": "code",
   "execution_count": 119,
   "id": "77d95627",
   "metadata": {},
   "outputs": [
    {
     "ename": "TypeError",
     "evalue": "'tuple' object does not support item assignment",
     "output_type": "error",
     "traceback": [
      "\u001b[1;31m---------------------------------------------------------------------------\u001b[0m",
      "\u001b[1;31mTypeError\u001b[0m                                 Traceback (most recent call last)",
      "Cell \u001b[1;32mIn[119], line 3\u001b[0m\n\u001b[0;32m      1\u001b[0m f \u001b[38;5;241m=\u001b[39m (\u001b[38;5;241m1\u001b[39m, \u001b[38;5;241m23\u001b[39m, \u001b[38;5;241m45\u001b[39m, \u001b[38;5;241m321\u001b[39m, \u001b[38;5;241m3\u001b[39m, \u001b[38;5;241m456\u001b[39m)\n\u001b[1;32m----> 3\u001b[0m f[\u001b[38;5;241m3\u001b[39m] \u001b[38;5;241m=\u001b[39m \u001b[38;5;241m876543\u001b[39m\n",
      "\u001b[1;31mTypeError\u001b[0m: 'tuple' object does not support item assignment"
     ]
    }
   ],
   "source": [
    "f = (1, 23, 45, 321, 3, 456)\n",
    "\n",
    "f[3] = 876543"
   ]
  },
  {
   "cell_type": "code",
   "execution_count": 120,
   "id": "81b8de7f",
   "metadata": {},
   "outputs": [],
   "source": [
    "# tuple' object does not support item assignment"
   ]
  },
  {
   "cell_type": "code",
   "execution_count": 121,
   "id": "e6dbdb47",
   "metadata": {},
   "outputs": [
    {
     "name": "stdout",
     "output_type": "stream",
     "text": [
      "(23, 12, 4335, 1, 243, 35, 465, 324, 1, 24, 35, 6)\n"
     ]
    }
   ],
   "source": [
    "a = (23,12,4335)\n",
    "b = (1,243,35,465,324)\n",
    "c = (1,24,35,6)\n",
    "\n",
    "\n",
    "d = a+b+c\n",
    "\n",
    "print(d)"
   ]
  },
  {
   "cell_type": "code",
   "execution_count": 122,
   "id": "75335318",
   "metadata": {},
   "outputs": [
    {
     "name": "stdout",
     "output_type": "stream",
     "text": [
      "(23, 12, 4335, 23, 12, 4335, 23, 12, 4335)\n"
     ]
    }
   ],
   "source": [
    "a = (23,12,4335)\n",
    "\n",
    "print(a * 3)"
   ]
  },
  {
   "cell_type": "code",
   "execution_count": 123,
   "id": "0c005ebb",
   "metadata": {},
   "outputs": [],
   "source": [
    "# methods"
   ]
  },
  {
   "cell_type": "code",
   "execution_count": 124,
   "id": "2b5de616",
   "metadata": {},
   "outputs": [
    {
     "data": {
      "text/plain": [
       "4"
      ]
     },
     "execution_count": 124,
     "metadata": {},
     "output_type": "execute_result"
    }
   ],
   "source": [
    "a = (1,1,2,3,34,3,2,2,12,1,12,2,33)\n",
    "\n",
    "a.count(2)"
   ]
  },
  {
   "cell_type": "code",
   "execution_count": 125,
   "id": "3a0b34d0",
   "metadata": {},
   "outputs": [
    {
     "data": {
      "text/plain": [
       "4"
      ]
     },
     "execution_count": 125,
     "metadata": {},
     "output_type": "execute_result"
    }
   ],
   "source": [
    "a.index(34)"
   ]
  },
  {
   "cell_type": "code",
   "execution_count": 126,
   "id": "d0693443",
   "metadata": {},
   "outputs": [
    {
     "data": {
      "text/plain": [
       "12"
      ]
     },
     "execution_count": 126,
     "metadata": {},
     "output_type": "execute_result"
    }
   ],
   "source": [
    "a.index(33)"
   ]
  },
  {
   "cell_type": "code",
   "execution_count": 127,
   "id": "44f0251f",
   "metadata": {},
   "outputs": [
    {
     "name": "stdout",
     "output_type": "stream",
     "text": [
      "Done\n"
     ]
    }
   ],
   "source": [
    "print('Done')"
   ]
  },
  {
   "cell_type": "code",
   "execution_count": null,
   "id": "ca0508cb",
   "metadata": {},
   "outputs": [],
   "source": []
  }
 ],
 "metadata": {
  "kernelspec": {
   "display_name": "Python 3 (ipykernel)",
   "language": "python",
   "name": "python3"
  },
  "language_info": {
   "codemirror_mode": {
    "name": "ipython",
    "version": 3
   },
   "file_extension": ".py",
   "mimetype": "text/x-python",
   "name": "python",
   "nbconvert_exporter": "python",
   "pygments_lexer": "ipython3",
   "version": "3.11.3"
  }
 },
 "nbformat": 4,
 "nbformat_minor": 5
}
