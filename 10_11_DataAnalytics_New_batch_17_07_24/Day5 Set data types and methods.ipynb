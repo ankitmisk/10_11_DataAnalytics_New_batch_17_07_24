{
 "cells": [
  {
   "cell_type": "code",
   "execution_count": 1,
   "id": "734a1356",
   "metadata": {},
   "outputs": [
    {
     "name": "stdout",
     "output_type": "stream",
     "text": [
      "{546, 12, 332}\n"
     ]
    }
   ],
   "source": [
    "a = {12,332,546}\n",
    "print(a)"
   ]
  },
  {
   "cell_type": "code",
   "execution_count": 2,
   "id": "efa81430",
   "metadata": {},
   "outputs": [],
   "source": [
    "# set:- is an unordered collection of unique items"
   ]
  },
  {
   "cell_type": "code",
   "execution_count": 3,
   "id": "ad786fbb",
   "metadata": {},
   "outputs": [
    {
     "name": "stdout",
     "output_type": "stream",
     "text": [
      "{1, 2, 3, 4, 33, 5, 11, 43, 55}\n"
     ]
    }
   ],
   "source": [
    "d = {1,1,1,1,11,2,2,2,2,2,2,3,3,33,3,43,4,4,4,4,4,55,5}\n",
    "\n",
    "print(d)"
   ]
  },
  {
   "cell_type": "code",
   "execution_count": 4,
   "id": "b646f418",
   "metadata": {},
   "outputs": [
    {
     "ename": "TypeError",
     "evalue": "unsupported operand type(s) for +: 'set' and 'set'",
     "output_type": "error",
     "traceback": [
      "\u001b[1;31m---------------------------------------------------------------------------\u001b[0m",
      "\u001b[1;31mTypeError\u001b[0m                                 Traceback (most recent call last)",
      "Cell \u001b[1;32mIn[4], line 7\u001b[0m\n\u001b[0;32m      3\u001b[0m a \u001b[38;5;241m=\u001b[39m {\u001b[38;5;241m1\u001b[39m,\u001b[38;5;241m24\u001b[39m,\u001b[38;5;241m5\u001b[39m}\n\u001b[0;32m      4\u001b[0m b \u001b[38;5;241m=\u001b[39m {\u001b[38;5;241m1\u001b[39m,\u001b[38;5;241m243\u001b[39m,\u001b[38;5;241m3456\u001b[39m}\n\u001b[1;32m----> 7\u001b[0m \u001b[38;5;28mprint\u001b[39m(a \u001b[38;5;241m+\u001b[39m b)\n",
      "\u001b[1;31mTypeError\u001b[0m: unsupported operand type(s) for +: 'set' and 'set'"
     ]
    }
   ],
   "source": [
    "# basic operation\n",
    "\n",
    "a = {1,24,5}\n",
    "b = {1,243,3456}\n",
    "\n",
    "\n",
    "print(a + b)"
   ]
  },
  {
   "cell_type": "code",
   "execution_count": 5,
   "id": "1bb5abb5",
   "metadata": {},
   "outputs": [
    {
     "name": "stdout",
     "output_type": "stream",
     "text": [
      "{24, 5}\n"
     ]
    }
   ],
   "source": [
    "# subtraction\n",
    "\n",
    "a = {1,24,5}\n",
    "b = {1,243,3456}\n",
    "\n",
    "\n",
    "print(a - b)"
   ]
  },
  {
   "cell_type": "code",
   "execution_count": 7,
   "id": "0861b819",
   "metadata": {},
   "outputs": [
    {
     "name": "stdout",
     "output_type": "stream",
     "text": [
      "{}\n",
      "<class 'dict'>\n"
     ]
    }
   ],
   "source": [
    "# empty set\n",
    "\n",
    "s = {}\n",
    "\n",
    "print(s)\n",
    "print(type(s))"
   ]
  },
  {
   "cell_type": "code",
   "execution_count": 8,
   "id": "dff03592",
   "metadata": {},
   "outputs": [
    {
     "name": "stdout",
     "output_type": "stream",
     "text": [
      "set()\n",
      "<class 'set'>\n"
     ]
    }
   ],
   "source": [
    "s = set()\n",
    "\n",
    "print(s)\n",
    "print(type(s))"
   ]
  },
  {
   "cell_type": "code",
   "execution_count": 9,
   "id": "ff4090b0",
   "metadata": {},
   "outputs": [
    {
     "data": {
      "text/plain": [
       "0"
      ]
     },
     "execution_count": 9,
     "metadata": {},
     "output_type": "execute_result"
    }
   ],
   "source": [
    "len(s)"
   ]
  },
  {
   "cell_type": "code",
   "execution_count": 10,
   "id": "ed26b614",
   "metadata": {},
   "outputs": [],
   "source": [
    "# indexing\n",
    "# slicing"
   ]
  },
  {
   "cell_type": "code",
   "execution_count": 11,
   "id": "329f9e09",
   "metadata": {},
   "outputs": [
    {
     "ename": "TypeError",
     "evalue": "'set' object is not subscriptable",
     "output_type": "error",
     "traceback": [
      "\u001b[1;31m---------------------------------------------------------------------------\u001b[0m",
      "\u001b[1;31mTypeError\u001b[0m                                 Traceback (most recent call last)",
      "Cell \u001b[1;32mIn[11], line 3\u001b[0m\n\u001b[0;32m      1\u001b[0m a \u001b[38;5;241m=\u001b[39m {\u001b[38;5;241m1\u001b[39m,\u001b[38;5;241m23\u001b[39m,\u001b[38;5;241m35\u001b[39m,\u001b[38;5;241m654\u001b[39m,\u001b[38;5;241m3231\u001b[39m,\u001b[38;5;241m234\u001b[39m,\u001b[38;5;241m6\u001b[39m}\n\u001b[1;32m----> 3\u001b[0m \u001b[38;5;28mprint\u001b[39m(a[\u001b[38;5;241m2\u001b[39m])\n",
      "\u001b[1;31mTypeError\u001b[0m: 'set' object is not subscriptable"
     ]
    }
   ],
   "source": [
    "a = {1,23,35,654,3231,234,6}\n",
    "\n",
    "print(a[2])"
   ]
  },
  {
   "cell_type": "code",
   "execution_count": 12,
   "id": "e7763d21",
   "metadata": {},
   "outputs": [
    {
     "ename": "TypeError",
     "evalue": "'set' object is not subscriptable",
     "output_type": "error",
     "traceback": [
      "\u001b[1;31m---------------------------------------------------------------------------\u001b[0m",
      "\u001b[1;31mTypeError\u001b[0m                                 Traceback (most recent call last)",
      "Cell \u001b[1;32mIn[12], line 3\u001b[0m\n\u001b[0;32m      1\u001b[0m a \u001b[38;5;241m=\u001b[39m {\u001b[38;5;241m1\u001b[39m,\u001b[38;5;241m23\u001b[39m,\u001b[38;5;241m35\u001b[39m,\u001b[38;5;241m654\u001b[39m,\u001b[38;5;241m3231\u001b[39m,\u001b[38;5;241m234\u001b[39m,\u001b[38;5;241m6\u001b[39m}\n\u001b[1;32m----> 3\u001b[0m \u001b[38;5;28mprint\u001b[39m(a[\u001b[38;5;241m2\u001b[39m:\u001b[38;5;241m5\u001b[39m])\n",
      "\u001b[1;31mTypeError\u001b[0m: 'set' object is not subscriptable"
     ]
    }
   ],
   "source": [
    "a = {1,23,35,654,3231,234,6}\n",
    "\n",
    "print(a[2:5])"
   ]
  },
  {
   "cell_type": "code",
   "execution_count": 13,
   "id": "fb16f2a8",
   "metadata": {},
   "outputs": [],
   "source": [
    "# set does not support item assignment\n",
    "\n",
    "# element/elements of set can not changed but set itself mutable\n",
    "# delete/drop/remove add in set"
   ]
  },
  {
   "cell_type": "code",
   "execution_count": 14,
   "id": "d5166d2a",
   "metadata": {},
   "outputs": [
    {
     "name": "stdout",
     "output_type": "stream",
     "text": [
      "{1, 35, 6, 23, 234, 654, 3231}\n"
     ]
    }
   ],
   "source": [
    "a = {1,23,35,654,3231,234,6}\n",
    "\n",
    "print(a)"
   ]
  },
  {
   "cell_type": "code",
   "execution_count": 15,
   "id": "b2fccba7",
   "metadata": {},
   "outputs": [
    {
     "ename": "TypeError",
     "evalue": "'set' object does not support item assignment",
     "output_type": "error",
     "traceback": [
      "\u001b[1;31m---------------------------------------------------------------------------\u001b[0m",
      "\u001b[1;31mTypeError\u001b[0m                                 Traceback (most recent call last)",
      "Cell \u001b[1;32mIn[15], line 1\u001b[0m\n\u001b[1;32m----> 1\u001b[0m a[\u001b[38;5;241m3\u001b[39m] \u001b[38;5;241m=\u001b[39m \u001b[38;5;241m856787\u001b[39m\n",
      "\u001b[1;31mTypeError\u001b[0m: 'set' object does not support item assignment"
     ]
    }
   ],
   "source": [
    "a[3] = 856787"
   ]
  },
  {
   "cell_type": "code",
   "execution_count": 17,
   "id": "8b2f5d0d",
   "metadata": {},
   "outputs": [],
   "source": [
    "# practical situation"
   ]
  },
  {
   "cell_type": "code",
   "execution_count": 21,
   "id": "949a30f8",
   "metadata": {},
   "outputs": [],
   "source": [
    "data = ['karan','karan','mohan','mohan','karan','ajay','ajay','mohan']\n",
    "\n",
    "unique_data = list(set(data))\n"
   ]
  },
  {
   "cell_type": "code",
   "execution_count": 22,
   "id": "5553a905",
   "metadata": {},
   "outputs": [
    {
     "name": "stdout",
     "output_type": "stream",
     "text": [
      "['karan', 'mohan', 'ajay']\n"
     ]
    }
   ],
   "source": [
    "print(unique_data)"
   ]
  },
  {
   "cell_type": "code",
   "execution_count": 26,
   "id": "e2303c23",
   "metadata": {},
   "outputs": [
    {
     "data": {
      "text/plain": [
       "'qwvbjdhegf'"
      ]
     },
     "execution_count": 26,
     "metadata": {},
     "output_type": "execute_result"
    }
   ],
   "source": [
    "a = 'jwbefjwbejdwqejdvwehjdwegdvb'\n",
    "\n",
    "\n",
    "# b = ''\n",
    "''.join(list(set(a)))"
   ]
  },
  {
   "cell_type": "markdown",
   "id": "5afce9e6",
   "metadata": {},
   "source": [
    "# Set Methods"
   ]
  },
  {
   "cell_type": "code",
   "execution_count": 27,
   "id": "4293d0f1",
   "metadata": {},
   "outputs": [
    {
     "name": "stdout",
     "output_type": "stream",
     "text": [
      "['__and__', '__class__', '__class_getitem__', '__contains__', '__delattr__', '__dir__', '__doc__', '__eq__', '__format__', '__ge__', '__getattribute__', '__getstate__', '__gt__', '__hash__', '__iand__', '__init__', '__init_subclass__', '__ior__', '__isub__', '__iter__', '__ixor__', '__le__', '__len__', '__lt__', '__ne__', '__new__', '__or__', '__rand__', '__reduce__', '__reduce_ex__', '__repr__', '__ror__', '__rsub__', '__rxor__', '__setattr__', '__sizeof__', '__str__', '__sub__', '__subclasshook__', '__xor__', 'add', 'clear', 'copy', 'difference', 'difference_update', 'discard', 'intersection', 'intersection_update', 'isdisjoint', 'issubset', 'issuperset', 'pop', 'remove', 'symmetric_difference', 'symmetric_difference_update', 'union', 'update']\n"
     ]
    }
   ],
   "source": [
    "print(dir(set))"
   ]
  },
  {
   "cell_type": "code",
   "execution_count": null,
   "id": "b8abe883",
   "metadata": {},
   "outputs": [],
   "source": []
  },
  {
   "cell_type": "code",
   "execution_count": null,
   "id": "dbc70cab",
   "metadata": {},
   "outputs": [],
   "source": []
  },
  {
   "cell_type": "code",
   "execution_count": 30,
   "id": "a377d1d6",
   "metadata": {},
   "outputs": [],
   "source": [
    "all_methods = ['add', 'clear', 'copy', 'difference', \n",
    "               'difference_update', 'discard', 'intersection', \n",
    "               'intersection_update', 'isdisjoint', 'issubset',\n",
    "               'issuperset', 'pop', 'remove', 'symmetric_difference',\n",
    "               'symmetric_difference_update', 'union'\n",
    "              ]"
   ]
  },
  {
   "cell_type": "code",
   "execution_count": 31,
   "id": "ac177b9d",
   "metadata": {},
   "outputs": [
    {
     "name": "stdout",
     "output_type": "stream",
     "text": [
      "['add', 'clear', 'copy', 'difference', 'difference_update', 'discard', 'intersection', 'intersection_update', 'isdisjoint', 'issubset', 'issuperset', 'pop', 'remove', 'symmetric_difference', 'symmetric_difference_update', 'union']\n"
     ]
    }
   ],
   "source": [
    "print(all_methods)"
   ]
  },
  {
   "cell_type": "code",
   "execution_count": 32,
   "id": "a8b9bfba",
   "metadata": {},
   "outputs": [
    {
     "name": "stdout",
     "output_type": "stream",
     "text": [
      "{1, 346, 4, 57}\n"
     ]
    }
   ],
   "source": [
    "a = {1,4,346,57}\n",
    "\n",
    "print(a)"
   ]
  },
  {
   "cell_type": "code",
   "execution_count": 33,
   "id": "d0d66335",
   "metadata": {},
   "outputs": [],
   "source": [
    "a.add(45)"
   ]
  },
  {
   "cell_type": "code",
   "execution_count": 34,
   "id": "90d0dddb",
   "metadata": {},
   "outputs": [
    {
     "name": "stdout",
     "output_type": "stream",
     "text": [
      "{1, 4, 45, 57, 346}\n"
     ]
    }
   ],
   "source": [
    "print(a)"
   ]
  },
  {
   "cell_type": "code",
   "execution_count": 35,
   "id": "223ec44c",
   "metadata": {},
   "outputs": [
    {
     "name": "stdout",
     "output_type": "stream",
     "text": [
      "{'ankush', 'karan', 'mohan'}\n"
     ]
    }
   ],
   "source": [
    "data = {'mohan','ankush','karan'}\n",
    "\n",
    "print(data)"
   ]
  },
  {
   "cell_type": "code",
   "execution_count": 36,
   "id": "ac6e5165",
   "metadata": {},
   "outputs": [],
   "source": [
    "data.add('lucky')"
   ]
  },
  {
   "cell_type": "code",
   "execution_count": 37,
   "id": "de63aa06",
   "metadata": {},
   "outputs": [
    {
     "name": "stdout",
     "output_type": "stream",
     "text": [
      "{'ankush', 'karan', 'mohan', 'lucky'}\n"
     ]
    }
   ],
   "source": [
    "print(data)"
   ]
  },
  {
   "cell_type": "code",
   "execution_count": 38,
   "id": "7b90db6c",
   "metadata": {},
   "outputs": [],
   "source": [
    "data.add('karan')"
   ]
  },
  {
   "cell_type": "code",
   "execution_count": 39,
   "id": "3a5b8398",
   "metadata": {},
   "outputs": [
    {
     "name": "stdout",
     "output_type": "stream",
     "text": [
      "{'ankush', 'karan', 'mohan', 'lucky'}\n"
     ]
    }
   ],
   "source": [
    "print(data)"
   ]
  },
  {
   "cell_type": "code",
   "execution_count": 40,
   "id": "fc54cb34",
   "metadata": {},
   "outputs": [
    {
     "name": "stdout",
     "output_type": "stream",
     "text": [
      "{'ankush', 'karan', 'mohan', 'lucky'}\n"
     ]
    }
   ],
   "source": [
    "print(data)"
   ]
  },
  {
   "cell_type": "code",
   "execution_count": 41,
   "id": "a4fe4e33",
   "metadata": {},
   "outputs": [],
   "source": [
    "data.clear()"
   ]
  },
  {
   "cell_type": "code",
   "execution_count": 42,
   "id": "e1cbf2ac",
   "metadata": {},
   "outputs": [
    {
     "name": "stdout",
     "output_type": "stream",
     "text": [
      "set()\n"
     ]
    }
   ],
   "source": [
    "print(data)"
   ]
  },
  {
   "cell_type": "code",
   "execution_count": 43,
   "id": "dcc42094",
   "metadata": {},
   "outputs": [
    {
     "data": {
      "text/plain": [
       "0"
      ]
     },
     "execution_count": 43,
     "metadata": {},
     "output_type": "execute_result"
    }
   ],
   "source": [
    "len(data)"
   ]
  },
  {
   "cell_type": "code",
   "execution_count": 47,
   "id": "68e43700",
   "metadata": {},
   "outputs": [],
   "source": [
    "# 'deep copy'\n",
    "\n",
    "a = {1,32,345,6}\n",
    "\n",
    "b = a"
   ]
  },
  {
   "cell_type": "code",
   "execution_count": 48,
   "id": "f07b6d1b",
   "metadata": {},
   "outputs": [
    {
     "name": "stdout",
     "output_type": "stream",
     "text": [
      "{32, 1, 345, 6}\n"
     ]
    }
   ],
   "source": [
    "print(a)"
   ]
  },
  {
   "cell_type": "code",
   "execution_count": 49,
   "id": "74d7af8e",
   "metadata": {},
   "outputs": [
    {
     "name": "stdout",
     "output_type": "stream",
     "text": [
      "{32, 1, 345, 6}\n"
     ]
    }
   ],
   "source": [
    "print(b)"
   ]
  },
  {
   "cell_type": "code",
   "execution_count": 50,
   "id": "16f231ef",
   "metadata": {},
   "outputs": [],
   "source": [
    "b.add(3455432)"
   ]
  },
  {
   "cell_type": "code",
   "execution_count": 52,
   "id": "55b4b46b",
   "metadata": {},
   "outputs": [
    {
     "name": "stdout",
     "output_type": "stream",
     "text": [
      "{32, 1, 6, 3455432, 345}\n"
     ]
    }
   ],
   "source": [
    "print(b)"
   ]
  },
  {
   "cell_type": "code",
   "execution_count": 54,
   "id": "77ce8490",
   "metadata": {},
   "outputs": [
    {
     "name": "stdout",
     "output_type": "stream",
     "text": [
      "{32, 1, 6, 3455432, 345}\n"
     ]
    }
   ],
   "source": [
    "print(a)"
   ]
  },
  {
   "cell_type": "code",
   "execution_count": 55,
   "id": "23d13c94",
   "metadata": {},
   "outputs": [],
   "source": [
    "# copy method:- shallow copy:- \n",
    "\n",
    "a = {1,2,432,56}\n",
    "\n",
    "b = a.copy()"
   ]
  },
  {
   "cell_type": "code",
   "execution_count": 56,
   "id": "ce2154e4",
   "metadata": {},
   "outputs": [
    {
     "name": "stdout",
     "output_type": "stream",
     "text": [
      "{432, 1, 2, 56}\n"
     ]
    }
   ],
   "source": [
    "print(a)"
   ]
  },
  {
   "cell_type": "code",
   "execution_count": 57,
   "id": "8d52986f",
   "metadata": {},
   "outputs": [
    {
     "name": "stdout",
     "output_type": "stream",
     "text": [
      "{432, 1, 2, 56}\n"
     ]
    }
   ],
   "source": [
    "print(b)"
   ]
  },
  {
   "cell_type": "code",
   "execution_count": 58,
   "id": "05615546",
   "metadata": {},
   "outputs": [],
   "source": [
    "b.add(87654345)"
   ]
  },
  {
   "cell_type": "code",
   "execution_count": 59,
   "id": "b23a9dd7",
   "metadata": {},
   "outputs": [
    {
     "name": "stdout",
     "output_type": "stream",
     "text": [
      "{1, 2, 87654345, 432, 56}\n"
     ]
    }
   ],
   "source": [
    "print(b)"
   ]
  },
  {
   "cell_type": "code",
   "execution_count": 60,
   "id": "b4c0933e",
   "metadata": {},
   "outputs": [
    {
     "name": "stdout",
     "output_type": "stream",
     "text": [
      "{432, 1, 2, 56}\n"
     ]
    }
   ],
   "source": [
    "print(a)"
   ]
  },
  {
   "cell_type": "code",
   "execution_count": null,
   "id": "57b140fc",
   "metadata": {},
   "outputs": [],
   "source": []
  },
  {
   "cell_type": "code",
   "execution_count": 61,
   "id": "267e5b50",
   "metadata": {},
   "outputs": [],
   "source": [
    "# discard, pop, remove"
   ]
  },
  {
   "cell_type": "code",
   "execution_count": 62,
   "id": "c3e88fa9",
   "metadata": {},
   "outputs": [
    {
     "name": "stdout",
     "output_type": "stream",
     "text": [
      "{1, 2, 3, 4, 312, 24, 43}\n"
     ]
    }
   ],
   "source": [
    "a = {1,2,3,24,43,312,4}\n",
    "\n",
    "print(a)"
   ]
  },
  {
   "cell_type": "code",
   "execution_count": 63,
   "id": "47f83570",
   "metadata": {},
   "outputs": [],
   "source": [
    "a.remove(312)"
   ]
  },
  {
   "cell_type": "code",
   "execution_count": 64,
   "id": "be69a8b5",
   "metadata": {},
   "outputs": [
    {
     "name": "stdout",
     "output_type": "stream",
     "text": [
      "{1, 2, 3, 4, 24, 43}\n"
     ]
    }
   ],
   "source": [
    "print(a)"
   ]
  },
  {
   "cell_type": "code",
   "execution_count": 65,
   "id": "a7e2dc0f",
   "metadata": {},
   "outputs": [
    {
     "ename": "KeyError",
     "evalue": "433",
     "output_type": "error",
     "traceback": [
      "\u001b[1;31m---------------------------------------------------------------------------\u001b[0m",
      "\u001b[1;31mKeyError\u001b[0m                                  Traceback (most recent call last)",
      "Cell \u001b[1;32mIn[65], line 1\u001b[0m\n\u001b[1;32m----> 1\u001b[0m a\u001b[38;5;241m.\u001b[39mremove(\u001b[38;5;241m433\u001b[39m)\n",
      "\u001b[1;31mKeyError\u001b[0m: 433"
     ]
    }
   ],
   "source": [
    "a.remove(433)"
   ]
  },
  {
   "cell_type": "code",
   "execution_count": 66,
   "id": "2010e5c0",
   "metadata": {},
   "outputs": [
    {
     "name": "stdout",
     "output_type": "stream",
     "text": [
      "{1, 2, 3, 4, 24, 43}\n"
     ]
    }
   ],
   "source": [
    "print(a)"
   ]
  },
  {
   "cell_type": "code",
   "execution_count": 67,
   "id": "28ebef52",
   "metadata": {},
   "outputs": [
    {
     "name": "stdout",
     "output_type": "stream",
     "text": [
      "{1, 34, 5, 23}\n"
     ]
    }
   ],
   "source": [
    "# discard\n",
    "\n",
    "a = {1,23,214,34,5}\n",
    "\n",
    "a.discard(214)\n",
    "\n",
    "print(a)"
   ]
  },
  {
   "cell_type": "code",
   "execution_count": 68,
   "id": "fc687f3f",
   "metadata": {},
   "outputs": [],
   "source": [
    "a.discard(100)"
   ]
  },
  {
   "cell_type": "code",
   "execution_count": 69,
   "id": "5e9a8298",
   "metadata": {},
   "outputs": [
    {
     "name": "stdout",
     "output_type": "stream",
     "text": [
      "{1, 34, 5, 23}\n"
     ]
    }
   ],
   "source": [
    "print(a)"
   ]
  },
  {
   "cell_type": "code",
   "execution_count": null,
   "id": "7682fa74",
   "metadata": {},
   "outputs": [],
   "source": []
  },
  {
   "cell_type": "code",
   "execution_count": 70,
   "id": "6da650b1",
   "metadata": {},
   "outputs": [],
   "source": [
    "s = {1,123,24,35,453,21,32}"
   ]
  },
  {
   "cell_type": "code",
   "execution_count": 71,
   "id": "11f4ee2f",
   "metadata": {},
   "outputs": [
    {
     "data": {
      "text/plain": [
       "{1, 21, 24, 32, 35, 123, 453}"
      ]
     },
     "execution_count": 71,
     "metadata": {},
     "output_type": "execute_result"
    }
   ],
   "source": [
    "s"
   ]
  },
  {
   "cell_type": "code",
   "execution_count": 79,
   "id": "4b6c8935",
   "metadata": {},
   "outputs": [
    {
     "data": {
      "text/plain": [
       "123"
      ]
     },
     "execution_count": 79,
     "metadata": {},
     "output_type": "execute_result"
    }
   ],
   "source": [
    "s.pop()"
   ]
  },
  {
   "cell_type": "code",
   "execution_count": 80,
   "id": "de56fcc2",
   "metadata": {},
   "outputs": [
    {
     "data": {
      "text/plain": [
       "set()"
      ]
     },
     "execution_count": 80,
     "metadata": {},
     "output_type": "execute_result"
    }
   ],
   "source": [
    "s"
   ]
  },
  {
   "cell_type": "code",
   "execution_count": 84,
   "id": "cae3be90",
   "metadata": {},
   "outputs": [
    {
     "name": "stdout",
     "output_type": "stream",
     "text": [
      "['add', 'clear', 'copy', 'difference', 'difference_update', 'discard', 'intersection', 'intersection_update', 'isdisjoint', 'issubset', 'issuperset', 'pop', 'remove', 'symmetric_difference', 'symmetric_difference_update', 'union']\n"
     ]
    }
   ],
   "source": [
    "print(all_methods)"
   ]
  },
  {
   "cell_type": "code",
   "execution_count": 85,
   "id": "9f22e1fc",
   "metadata": {},
   "outputs": [],
   "source": [
    "all_methods.append('update')"
   ]
  },
  {
   "cell_type": "code",
   "execution_count": 86,
   "id": "b6802353",
   "metadata": {},
   "outputs": [
    {
     "name": "stdout",
     "output_type": "stream",
     "text": [
      "17\n"
     ]
    }
   ],
   "source": [
    "print(len(all_methods))"
   ]
  },
  {
   "cell_type": "code",
   "execution_count": 88,
   "id": "8f902c6b",
   "metadata": {},
   "outputs": [
    {
     "name": "stdout",
     "output_type": "stream",
     "text": [
      "['add', 'clear', 'copy', 'difference', 'difference_update', 'discard', 'intersection', 'intersection_update', 'isdisjoint', 'issubset', 'issuperset', 'pop', 'remove', 'symmetric_difference', 'symmetric_difference_update', 'union', 'update']\n"
     ]
    }
   ],
   "source": [
    "print(all_methods)"
   ]
  },
  {
   "cell_type": "code",
   "execution_count": null,
   "id": "f3376b11",
   "metadata": {},
   "outputs": [],
   "source": [
    "# add\n",
    "# clear\n",
    "# copy\n",
    "# discard\n",
    "# pop\n",
    "# remove"
   ]
  },
  {
   "cell_type": "code",
   "execution_count": 89,
   "id": "3ab663f6",
   "metadata": {},
   "outputs": [
    {
     "data": {
      "text/plain": [
       "{3, 5, 45, 46}"
      ]
     },
     "execution_count": 89,
     "metadata": {},
     "output_type": "execute_result"
    }
   ],
   "source": [
    "a = {1,45,3,4,5,6,46}\n",
    "b = {1,32,4,6,54,326}\n",
    "\n",
    "a - b"
   ]
  },
  {
   "cell_type": "code",
   "execution_count": 90,
   "id": "330700a7",
   "metadata": {},
   "outputs": [
    {
     "data": {
      "text/plain": [
       "{32, 54, 326}"
      ]
     },
     "execution_count": 90,
     "metadata": {},
     "output_type": "execute_result"
    }
   ],
   "source": [
    "b - a"
   ]
  },
  {
   "cell_type": "code",
   "execution_count": 91,
   "id": "d253262d",
   "metadata": {},
   "outputs": [
    {
     "data": {
      "text/plain": [
       "{3, 5, 45, 46}"
      ]
     },
     "execution_count": 91,
     "metadata": {},
     "output_type": "execute_result"
    }
   ],
   "source": [
    "# difference op\n",
    "\n",
    "a = {1,45,3,4,5,6,46}\n",
    "b = {1,32,4,6,54,326}\n",
    "\n",
    "a.difference(b)"
   ]
  },
  {
   "cell_type": "code",
   "execution_count": 92,
   "id": "7e11a761",
   "metadata": {},
   "outputs": [
    {
     "data": {
      "text/plain": [
       "{32, 54, 326}"
      ]
     },
     "execution_count": 92,
     "metadata": {},
     "output_type": "execute_result"
    }
   ],
   "source": [
    "b.difference(a)"
   ]
  },
  {
   "cell_type": "code",
   "execution_count": 93,
   "id": "54f62f90",
   "metadata": {},
   "outputs": [],
   "source": [
    "# difference_update'\n",
    "\n",
    "a = {1,45,3,4,5,6,46}\n",
    "b = {1,32,4,6,54,326}"
   ]
  },
  {
   "cell_type": "code",
   "execution_count": 94,
   "id": "709aaa24",
   "metadata": {},
   "outputs": [
    {
     "name": "stdout",
     "output_type": "stream",
     "text": [
      "{1, 3, 4, 5, 6, 45, 46}\n"
     ]
    }
   ],
   "source": [
    "print(a)"
   ]
  },
  {
   "cell_type": "code",
   "execution_count": 95,
   "id": "7dabf14b",
   "metadata": {},
   "outputs": [
    {
     "name": "stdout",
     "output_type": "stream",
     "text": [
      "{32, 1, 4, 6, 326, 54}\n"
     ]
    }
   ],
   "source": [
    "print(b)"
   ]
  },
  {
   "cell_type": "code",
   "execution_count": 97,
   "id": "1f86dba6",
   "metadata": {},
   "outputs": [],
   "source": [
    "a.difference_update(b)"
   ]
  },
  {
   "cell_type": "code",
   "execution_count": 98,
   "id": "fd914673",
   "metadata": {},
   "outputs": [
    {
     "data": {
      "text/plain": [
       "{3, 5, 45, 46}"
      ]
     },
     "execution_count": 98,
     "metadata": {},
     "output_type": "execute_result"
    }
   ],
   "source": [
    "a"
   ]
  },
  {
   "cell_type": "code",
   "execution_count": null,
   "id": "a67425b3",
   "metadata": {},
   "outputs": [],
   "source": []
  },
  {
   "cell_type": "code",
   "execution_count": null,
   "id": "3082d4d7",
   "metadata": {},
   "outputs": [],
   "source": []
  },
  {
   "cell_type": "code",
   "execution_count": 99,
   "id": "b6594c31",
   "metadata": {},
   "outputs": [],
   "source": [
    "a = {1,3,124,35,321,53}\n",
    "\n",
    "b = {2,13,53,1,453,6}\n",
    "\n"
   ]
  },
  {
   "cell_type": "code",
   "execution_count": 100,
   "id": "3c51a66c",
   "metadata": {},
   "outputs": [
    {
     "data": {
      "text/plain": [
       "{1, 53}"
      ]
     },
     "execution_count": 100,
     "metadata": {},
     "output_type": "execute_result"
    }
   ],
   "source": [
    "# intersection\n",
    "\n",
    "a.intersection(b)"
   ]
  },
  {
   "cell_type": "code",
   "execution_count": 101,
   "id": "0ea8f93c",
   "metadata": {},
   "outputs": [
    {
     "data": {
      "text/plain": [
       "{1, 53}"
      ]
     },
     "execution_count": 101,
     "metadata": {},
     "output_type": "execute_result"
    }
   ],
   "source": [
    "b.intersection(a)"
   ]
  },
  {
   "cell_type": "code",
   "execution_count": 102,
   "id": "776affc9",
   "metadata": {},
   "outputs": [
    {
     "data": {
      "text/plain": [
       "{1, 3, 35, 53, 124, 321}"
      ]
     },
     "execution_count": 102,
     "metadata": {},
     "output_type": "execute_result"
    }
   ],
   "source": [
    "# intersection_update\n",
    "\n",
    "\n",
    "a"
   ]
  },
  {
   "cell_type": "code",
   "execution_count": 103,
   "id": "a1ef96d2",
   "metadata": {},
   "outputs": [],
   "source": [
    "a.intersection_update(b)"
   ]
  },
  {
   "cell_type": "code",
   "execution_count": 104,
   "id": "37d5a6ef",
   "metadata": {},
   "outputs": [
    {
     "data": {
      "text/plain": [
       "{1, 53}"
      ]
     },
     "execution_count": 104,
     "metadata": {},
     "output_type": "execute_result"
    }
   ],
   "source": [
    "a"
   ]
  },
  {
   "cell_type": "code",
   "execution_count": 105,
   "id": "bdac00b5",
   "metadata": {},
   "outputs": [
    {
     "name": "stdout",
     "output_type": "stream",
     "text": [
      "{1, 53}\n"
     ]
    }
   ],
   "source": [
    "a = {1,3,124,35,321,53}\n",
    "\n",
    "b = {2,13,53,1,453,6}\n",
    "\n",
    "print(a & b)"
   ]
  },
  {
   "cell_type": "code",
   "execution_count": 106,
   "id": "13aef763",
   "metadata": {},
   "outputs": [
    {
     "name": "stdout",
     "output_type": "stream",
     "text": [
      "['add', 'clear', 'copy', 'difference', 'difference_update', 'discard', 'intersection', 'intersection_update', 'isdisjoint', 'issubset', 'issuperset', 'pop', 'remove', 'symmetric_difference', 'symmetric_difference_update', 'union', 'update']\n"
     ]
    }
   ],
   "source": [
    "print(all_methods)"
   ]
  },
  {
   "cell_type": "code",
   "execution_count": 107,
   "id": "6912e034",
   "metadata": {},
   "outputs": [],
   "source": [
    "# 'symmetric_difference'"
   ]
  },
  {
   "cell_type": "code",
   "execution_count": 111,
   "id": "9866f530",
   "metadata": {},
   "outputs": [
    {
     "data": {
      "text/plain": [
       "{2, 3, 6, 13, 35, 124, 321, 453}"
      ]
     },
     "execution_count": 111,
     "metadata": {},
     "output_type": "execute_result"
    }
   ],
   "source": [
    "a = {1,3,124,35,321,53}\n",
    "\n",
    "b = {2,13,53,1,453,6}\n",
    "\n",
    "a.symmetric_difference(b)"
   ]
  },
  {
   "cell_type": "code",
   "execution_count": 112,
   "id": "493d2142",
   "metadata": {},
   "outputs": [
    {
     "name": "stdout",
     "output_type": "stream",
     "text": [
      "{321, 2, 3, 453, 6, 13, 35, 124}\n"
     ]
    }
   ],
   "source": [
    "print(a ^ b)"
   ]
  },
  {
   "cell_type": "code",
   "execution_count": null,
   "id": "d121927d",
   "metadata": {},
   "outputs": [],
   "source": []
  },
  {
   "cell_type": "code",
   "execution_count": 113,
   "id": "8d596a4b",
   "metadata": {},
   "outputs": [],
   "source": [
    "# 'symmetric_difference_update'"
   ]
  },
  {
   "cell_type": "code",
   "execution_count": 114,
   "id": "9697d2ac",
   "metadata": {},
   "outputs": [
    {
     "name": "stdout",
     "output_type": "stream",
     "text": [
      "{321, 1, 3, 35, 53, 124}\n"
     ]
    }
   ],
   "source": [
    "a = {1,3,124,35,321,53}\n",
    "\n",
    "b = {2,13,53,1,453,6}\n",
    "\n",
    "print(a)"
   ]
  },
  {
   "cell_type": "code",
   "execution_count": 115,
   "id": "74a64a40",
   "metadata": {},
   "outputs": [],
   "source": [
    "a.symmetric_difference_update(b)"
   ]
  },
  {
   "cell_type": "code",
   "execution_count": 116,
   "id": "ff107122",
   "metadata": {},
   "outputs": [
    {
     "data": {
      "text/plain": [
       "{2, 3, 6, 13, 35, 124, 321, 453}"
      ]
     },
     "execution_count": 116,
     "metadata": {},
     "output_type": "execute_result"
    }
   ],
   "source": [
    "a"
   ]
  },
  {
   "cell_type": "code",
   "execution_count": null,
   "id": "8001370a",
   "metadata": {},
   "outputs": [],
   "source": []
  },
  {
   "cell_type": "code",
   "execution_count": 117,
   "id": "fda9668e",
   "metadata": {},
   "outputs": [],
   "source": [
    "# 'union'"
   ]
  },
  {
   "cell_type": "code",
   "execution_count": 123,
   "id": "ca14ac7c",
   "metadata": {},
   "outputs": [
    {
     "data": {
      "text/plain": [
       "{1, 2, 3, 6, 13, 35, 53, 124, 321, 453}"
      ]
     },
     "execution_count": 123,
     "metadata": {},
     "output_type": "execute_result"
    }
   ],
   "source": [
    "a = {1,3,124,35,321,53}\n",
    "\n",
    "b = {2,13,53,1,453,6}\n",
    "\n",
    "a.union(b)"
   ]
  },
  {
   "cell_type": "code",
   "execution_count": 119,
   "id": "c9c40e3e",
   "metadata": {},
   "outputs": [
    {
     "data": {
      "text/plain": [
       "{1, 2, 3, 6, 13, 35, 53, 124, 321, 453}"
      ]
     },
     "execution_count": 119,
     "metadata": {},
     "output_type": "execute_result"
    }
   ],
   "source": [
    "b.union(a)"
   ]
  },
  {
   "cell_type": "code",
   "execution_count": null,
   "id": "1311480f",
   "metadata": {},
   "outputs": [],
   "source": []
  },
  {
   "cell_type": "code",
   "execution_count": 124,
   "id": "5626c859",
   "metadata": {},
   "outputs": [
    {
     "name": "stdout",
     "output_type": "stream",
     "text": [
      "{321, 1, 3, 35, 2, 453, 6, 13, 53, 124}\n"
     ]
    }
   ],
   "source": [
    "print(a | b)"
   ]
  },
  {
   "cell_type": "code",
   "execution_count": null,
   "id": "6916962a",
   "metadata": {},
   "outputs": [],
   "source": []
  },
  {
   "cell_type": "code",
   "execution_count": 120,
   "id": "22bb1c1a",
   "metadata": {},
   "outputs": [
    {
     "data": {
      "text/plain": [
       "{1, 3, 35, 53, 124, 321}"
      ]
     },
     "execution_count": 120,
     "metadata": {},
     "output_type": "execute_result"
    }
   ],
   "source": [
    "a = {1,3,124,35,321,53}\n",
    "\n",
    "b = {2,13,53,1,453,6}\n",
    "\n",
    "a"
   ]
  },
  {
   "cell_type": "code",
   "execution_count": 121,
   "id": "a31cf5f3",
   "metadata": {},
   "outputs": [],
   "source": [
    "a.update(b)"
   ]
  },
  {
   "cell_type": "code",
   "execution_count": 122,
   "id": "18015c1f",
   "metadata": {},
   "outputs": [
    {
     "data": {
      "text/plain": [
       "{1, 2, 3, 6, 13, 35, 53, 124, 321, 453}"
      ]
     },
     "execution_count": 122,
     "metadata": {},
     "output_type": "execute_result"
    }
   ],
   "source": [
    "a"
   ]
  },
  {
   "cell_type": "code",
   "execution_count": null,
   "id": "327ada62",
   "metadata": {},
   "outputs": [],
   "source": []
  },
  {
   "cell_type": "code",
   "execution_count": null,
   "id": "139ad12d",
   "metadata": {},
   "outputs": [],
   "source": []
  },
  {
   "cell_type": "code",
   "execution_count": 125,
   "id": "0fe5e983",
   "metadata": {},
   "outputs": [],
   "source": [
    "#  'isdisjoint', 'issubset', 'issuperset'"
   ]
  },
  {
   "cell_type": "code",
   "execution_count": 128,
   "id": "865c7451",
   "metadata": {},
   "outputs": [
    {
     "name": "stdout",
     "output_type": "stream",
     "text": [
      "True\n"
     ]
    }
   ],
   "source": [
    "# 'isdisjoint'\n",
    "\n",
    "a = {1,32,445,21,322523,5}\n",
    "\n",
    "b = {23,554,6432,45,78}\n",
    "\n",
    "print(a.isdisjoint(b))"
   ]
  },
  {
   "cell_type": "code",
   "execution_count": 129,
   "id": "2e248b5b",
   "metadata": {},
   "outputs": [],
   "source": [
    "# 'issubset', 'issuperset'"
   ]
  },
  {
   "cell_type": "code",
   "execution_count": 132,
   "id": "5c7716d5",
   "metadata": {},
   "outputs": [
    {
     "data": {
      "text/plain": [
       "True"
      ]
     },
     "execution_count": 132,
     "metadata": {},
     "output_type": "execute_result"
    }
   ],
   "source": [
    "a = {1,32,35,31,25,312,332,5}\n",
    "\n",
    "b = {25,5,35,1}\n",
    "\n",
    "b.issubset(a)"
   ]
  },
  {
   "cell_type": "code",
   "execution_count": null,
   "id": "ca82078a",
   "metadata": {},
   "outputs": [],
   "source": []
  },
  {
   "cell_type": "code",
   "execution_count": null,
   "id": "4b1adca5",
   "metadata": {},
   "outputs": [],
   "source": []
  },
  {
   "cell_type": "code",
   "execution_count": 134,
   "id": "efeeb052",
   "metadata": {},
   "outputs": [
    {
     "data": {
      "text/plain": [
       "True"
      ]
     },
     "execution_count": 134,
     "metadata": {},
     "output_type": "execute_result"
    }
   ],
   "source": [
    "a = {1,32,35,31,25,312,332,5}\n",
    "\n",
    "b = {25,5,35,1}\n",
    "\n",
    "\n",
    "a.issuperset(b)"
   ]
  },
  {
   "cell_type": "code",
   "execution_count": null,
   "id": "770f6b38",
   "metadata": {},
   "outputs": [],
   "source": []
  }
 ],
 "metadata": {
  "kernelspec": {
   "display_name": "Python 3 (ipykernel)",
   "language": "python",
   "name": "python3"
  },
  "language_info": {
   "codemirror_mode": {
    "name": "ipython",
    "version": 3
   },
   "file_extension": ".py",
   "mimetype": "text/x-python",
   "name": "python",
   "nbconvert_exporter": "python",
   "pygments_lexer": "ipython3",
   "version": "3.11.3"
  }
 },
 "nbformat": 4,
 "nbformat_minor": 5
}
