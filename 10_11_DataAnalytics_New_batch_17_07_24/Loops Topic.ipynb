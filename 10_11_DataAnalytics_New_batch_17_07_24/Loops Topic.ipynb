{
 "cells": [
  {
   "cell_type": "code",
   "execution_count": 6,
   "id": "3981bf92",
   "metadata": {},
   "outputs": [
    {
     "name": "stdout",
     "output_type": "stream",
     "text": [
      "1\n",
      "529\n",
      "6022116\n",
      "25\n"
     ]
    }
   ],
   "source": [
    "# Loop:- repeat loop concept\n",
    "\n",
    "\n",
    "data = [1,23,2454,5,235]\n",
    "\n",
    "print(data[0]**2)\n",
    "print(data[1]**2)\n",
    "print(data[2]**2)\n",
    "print(data[3]**2)"
   ]
  },
  {
   "cell_type": "code",
   "execution_count": 7,
   "id": "a8b8d2d0",
   "metadata": {},
   "outputs": [],
   "source": [
    "# for loop\n",
    "# while loop\n",
    "\n",
    "# for each loop\n",
    "# do while"
   ]
  },
  {
   "cell_type": "code",
   "execution_count": 8,
   "id": "d0980841",
   "metadata": {},
   "outputs": [],
   "source": [
    "# for loop:- when we know the number of iterations ex :- 10, 20, 50, etc\n",
    "\n",
    "# while loop:- we we want to run loop conditionally\n"
   ]
  },
  {
   "cell_type": "code",
   "execution_count": 9,
   "id": "9569f0a5",
   "metadata": {},
   "outputs": [],
   "source": [
    "# for loops"
   ]
  },
  {
   "cell_type": "code",
   "execution_count": 13,
   "id": "21b737e9",
   "metadata": {},
   "outputs": [
    {
     "name": "stdout",
     "output_type": "stream",
     "text": [
      "charger\n",
      "books\n",
      "lunch\n",
      "water bottle\n"
     ]
    }
   ],
   "source": [
    "bag = ['charger','books','lunch','water bottle']\n",
    "\n",
    "import time\n",
    "for hand in bag:\n",
    "    print(hand)\n",
    "    time.sleep(1)"
   ]
  },
  {
   "cell_type": "code",
   "execution_count": null,
   "id": "eb1a907b",
   "metadata": {},
   "outputs": [],
   "source": []
  },
  {
   "cell_type": "code",
   "execution_count": null,
   "id": "bbcec10b",
   "metadata": {},
   "outputs": [],
   "source": []
  },
  {
   "cell_type": "code",
   "execution_count": 14,
   "id": "e83baabb",
   "metadata": {},
   "outputs": [
    {
     "name": "stdout",
     "output_type": "stream",
     "text": [
      "charger\n",
      "books\n",
      "lunch\n",
      "water bottle\n"
     ]
    }
   ],
   "source": [
    "bag = ['charger','books','lunch','water bottle']\n",
    "\n",
    "import time\n",
    "for i in bag:\n",
    "    print(i)\n",
    "    time.sleep(1)"
   ]
  },
  {
   "cell_type": "code",
   "execution_count": 15,
   "id": "897a3fd6",
   "metadata": {},
   "outputs": [],
   "source": [
    "# datatype_ek_se_jayada:- list,tuple,set,dict,str,frozenset\n",
    "# not allowed:- int,float,complex,bool,None\n",
    "\n",
    "# for i in datatype_ek_se_jayada:\n",
    "#     print(i)"
   ]
  },
  {
   "cell_type": "code",
   "execution_count": 16,
   "id": "b32ba45d",
   "metadata": {},
   "outputs": [
    {
     "name": "stdout",
     "output_type": "stream",
     "text": [
      "12\n",
      "32\n",
      "4\n",
      "3214\n",
      "5\n",
      "Karan\n",
      "None\n",
      "True\n"
     ]
    }
   ],
   "source": [
    "data = [12,32,4,3214,5,'Karan',None,True]\n",
    "\n",
    "for i in data:\n",
    "    print(i)"
   ]
  },
  {
   "cell_type": "code",
   "execution_count": null,
   "id": "6c02688a",
   "metadata": {},
   "outputs": [],
   "source": []
  },
  {
   "cell_type": "code",
   "execution_count": 17,
   "id": "46da279b",
   "metadata": {},
   "outputs": [
    {
     "name": "stdout",
     "output_type": "stream",
     "text": [
      "12\n",
      "32\n",
      "4\n",
      "3214\n",
      "5\n",
      "Karan\n",
      "None\n",
      "True\n"
     ]
    }
   ],
   "source": [
    "data = (12,32,4,3214,5,'Karan',None,True)\n",
    "\n",
    "for i in data:\n",
    "    print(i)"
   ]
  },
  {
   "cell_type": "code",
   "execution_count": null,
   "id": "563f8ef8",
   "metadata": {},
   "outputs": [],
   "source": []
  },
  {
   "cell_type": "code",
   "execution_count": 18,
   "id": "9c7cb271",
   "metadata": {},
   "outputs": [
    {
     "name": "stdout",
     "output_type": "stream",
     "text": [
      "32\n",
      "True\n",
      "4\n",
      "5\n",
      "12\n",
      "3214\n",
      "None\n",
      "Karan\n"
     ]
    }
   ],
   "source": [
    "data = {12,32,4,3214,5,'Karan',None,True}\n",
    "\n",
    "for i in data:\n",
    "    print(i)"
   ]
  },
  {
   "cell_type": "code",
   "execution_count": null,
   "id": "d2ce7c7a",
   "metadata": {},
   "outputs": [],
   "source": []
  },
  {
   "cell_type": "code",
   "execution_count": 19,
   "id": "5dbd180e",
   "metadata": {},
   "outputs": [
    {
     "name": "stdout",
     "output_type": "stream",
     "text": [
      "32\n",
      "True\n",
      "4\n",
      "5\n",
      "12\n",
      "3214\n",
      "None\n",
      "Karan\n"
     ]
    }
   ],
   "source": [
    "data = frozenset((12,32,4,3214,5,'Karan',None,True))\n",
    "\n",
    "for i in data:\n",
    "    print(i)"
   ]
  },
  {
   "cell_type": "code",
   "execution_count": 22,
   "id": "5668b548",
   "metadata": {},
   "outputs": [
    {
     "name": "stdout",
     "output_type": "stream",
     "text": [
      "s\n",
      "a\n",
      "r\n",
      "w\n",
      "a\n",
      "n\n",
      " \n",
      "s\n",
      "i\n",
      "n\n",
      "g\n",
      "h\n"
     ]
    }
   ],
   "source": [
    "data = 'sarwan singh'\n",
    "\n",
    "for i in data:\n",
    "    print(i)\n",
    "    time.sleep(0.2)"
   ]
  },
  {
   "cell_type": "code",
   "execution_count": 24,
   "id": "50a263cc",
   "metadata": {},
   "outputs": [
    {
     "name": "stdout",
     "output_type": "stream",
     "text": [
      "Name\n",
      "age\n",
      "class\n",
      "address\n",
      "phone\n"
     ]
    }
   ],
   "source": [
    "# dict ke sath for loop\n",
    "\n",
    "# key ko pick karega\n",
    "data = {'Name':'komal','age':23,'class':12,'address':'Noida','phone':9876543}\n",
    "\n",
    "for i in data:\n",
    "    print(i)"
   ]
  },
  {
   "cell_type": "code",
   "execution_count": null,
   "id": "03e3b655",
   "metadata": {},
   "outputs": [],
   "source": []
  },
  {
   "cell_type": "code",
   "execution_count": null,
   "id": "7a003a2c",
   "metadata": {},
   "outputs": [],
   "source": []
  },
  {
   "cell_type": "code",
   "execution_count": 29,
   "id": "98043905",
   "metadata": {},
   "outputs": [
    {
     "name": "stdout",
     "output_type": "stream",
     "text": [
      "komal\n",
      "23\n",
      "12\n",
      "Noida\n",
      "9876543\n"
     ]
    }
   ],
   "source": [
    "# dict ke sath for loop\n",
    "\n",
    "# key ko pick karega\n",
    "data = {'Name':'komal','age':23,'class':12,'address':'Noida','phone':9876543}\n",
    "\n",
    "for i in data:\n",
    "    print(data[i])"
   ]
  },
  {
   "cell_type": "code",
   "execution_count": 31,
   "id": "3cf1eda9",
   "metadata": {},
   "outputs": [
    {
     "name": "stdout",
     "output_type": "stream",
     "text": [
      "Name : komal\n",
      "age : 23\n",
      "class : 12\n",
      "address : Noida\n",
      "phone : 9876543\n"
     ]
    }
   ],
   "source": [
    "# dict ke sath for loop\n",
    "\n",
    "# key ko pick karega\n",
    "data = {'Name':'komal','age':23,'class':12,'address':'Noida','phone':9876543}\n",
    "\n",
    "for i in data:\n",
    "    print(i,':',data[i])"
   ]
  },
  {
   "cell_type": "code",
   "execution_count": null,
   "id": "aef8c47e",
   "metadata": {},
   "outputs": [],
   "source": []
  },
  {
   "cell_type": "code",
   "execution_count": 32,
   "id": "1861d038",
   "metadata": {},
   "outputs": [
    {
     "ename": "TypeError",
     "evalue": "'NoneType' object is not iterable",
     "output_type": "error",
     "traceback": [
      "\u001b[1;31m---------------------------------------------------------------------------\u001b[0m",
      "\u001b[1;31mTypeError\u001b[0m                                 Traceback (most recent call last)",
      "Cell \u001b[1;32mIn[32], line 4\u001b[0m\n\u001b[0;32m      1\u001b[0m \u001b[38;5;66;03m# not allowed:- int,float,complex,bool,None\u001b[39;00m\n\u001b[1;32m----> 4\u001b[0m \u001b[38;5;28;01mfor\u001b[39;00m i \u001b[38;5;129;01min\u001b[39;00m \u001b[38;5;28;01mNone\u001b[39;00m:\n\u001b[0;32m      5\u001b[0m     \u001b[38;5;28mprint\u001b[39m(i)\n",
      "\u001b[1;31mTypeError\u001b[0m: 'NoneType' object is not iterable"
     ]
    }
   ],
   "source": [
    "# not allowed:- int,float,complex,bool,None\n",
    "\n",
    "\n",
    "for i in None:\n",
    "    print(i)"
   ]
  },
  {
   "cell_type": "code",
   "execution_count": 33,
   "id": "86c48232",
   "metadata": {},
   "outputs": [
    {
     "ename": "TypeError",
     "evalue": "'bool' object is not iterable",
     "output_type": "error",
     "traceback": [
      "\u001b[1;31m---------------------------------------------------------------------------\u001b[0m",
      "\u001b[1;31mTypeError\u001b[0m                                 Traceback (most recent call last)",
      "Cell \u001b[1;32mIn[33], line 1\u001b[0m\n\u001b[1;32m----> 1\u001b[0m \u001b[38;5;28;01mfor\u001b[39;00m i \u001b[38;5;129;01min\u001b[39;00m \u001b[38;5;28;01mTrue\u001b[39;00m:\n\u001b[0;32m      2\u001b[0m     \u001b[38;5;28mprint\u001b[39m(i)\n",
      "\u001b[1;31mTypeError\u001b[0m: 'bool' object is not iterable"
     ]
    }
   ],
   "source": [
    "for i in True:\n",
    "    print(i)"
   ]
  },
  {
   "cell_type": "code",
   "execution_count": 34,
   "id": "0def66cf",
   "metadata": {},
   "outputs": [
    {
     "ename": "TypeError",
     "evalue": "'int' object is not iterable",
     "output_type": "error",
     "traceback": [
      "\u001b[1;31m---------------------------------------------------------------------------\u001b[0m",
      "\u001b[1;31mTypeError\u001b[0m                                 Traceback (most recent call last)",
      "Cell \u001b[1;32mIn[34], line 1\u001b[0m\n\u001b[1;32m----> 1\u001b[0m \u001b[38;5;28;01mfor\u001b[39;00m i \u001b[38;5;129;01min\u001b[39;00m \u001b[38;5;241m23456\u001b[39m:\n\u001b[0;32m      2\u001b[0m     \u001b[38;5;28mprint\u001b[39m(i)\n",
      "\u001b[1;31mTypeError\u001b[0m: 'int' object is not iterable"
     ]
    }
   ],
   "source": [
    "for i in 23456:\n",
    "    print(i)"
   ]
  },
  {
   "cell_type": "code",
   "execution_count": 35,
   "id": "a8fd5d74",
   "metadata": {},
   "outputs": [
    {
     "ename": "TypeError",
     "evalue": "'float' object is not iterable",
     "output_type": "error",
     "traceback": [
      "\u001b[1;31m---------------------------------------------------------------------------\u001b[0m",
      "\u001b[1;31mTypeError\u001b[0m                                 Traceback (most recent call last)",
      "Cell \u001b[1;32mIn[35], line 1\u001b[0m\n\u001b[1;32m----> 1\u001b[0m \u001b[38;5;28;01mfor\u001b[39;00m i \u001b[38;5;129;01min\u001b[39;00m \u001b[38;5;241m345.45\u001b[39m:\n\u001b[0;32m      2\u001b[0m     \u001b[38;5;28mprint\u001b[39m(i)\n",
      "\u001b[1;31mTypeError\u001b[0m: 'float' object is not iterable"
     ]
    }
   ],
   "source": [
    "for i in 345.45:\n",
    "    print(i)"
   ]
  },
  {
   "cell_type": "code",
   "execution_count": 36,
   "id": "10e28275",
   "metadata": {},
   "outputs": [
    {
     "ename": "TypeError",
     "evalue": "'complex' object is not iterable",
     "output_type": "error",
     "traceback": [
      "\u001b[1;31m---------------------------------------------------------------------------\u001b[0m",
      "\u001b[1;31mTypeError\u001b[0m                                 Traceback (most recent call last)",
      "Cell \u001b[1;32mIn[36], line 1\u001b[0m\n\u001b[1;32m----> 1\u001b[0m \u001b[38;5;28;01mfor\u001b[39;00m i \u001b[38;5;129;01min\u001b[39;00m \u001b[38;5;241m345\u001b[39m\u001b[38;5;241m-\u001b[39m\u001b[38;5;241m98\u001b[39mj:\n\u001b[0;32m      2\u001b[0m     \u001b[38;5;28mprint\u001b[39m(i)\n",
      "\u001b[1;31mTypeError\u001b[0m: 'complex' object is not iterable"
     ]
    }
   ],
   "source": [
    "for i in 345-98j:\n",
    "    print(i)"
   ]
  },
  {
   "cell_type": "code",
   "execution_count": 39,
   "id": "ba8cc889",
   "metadata": {},
   "outputs": [
    {
     "name": "stdout",
     "output_type": "stream",
     "text": [
      "Hello sarwan How are you?\n",
      "Hello komal How are you?\n",
      "Hello ajay How are you?\n",
      "Hello ravi How are you?\n",
      "Hello karan How are you?\n",
      "Hello abhay How are you?\n",
      "Hello jatin How are you?\n"
     ]
    }
   ],
   "source": [
    "students = ['sarwan','komal','ajay','ravi','karan','abhay','jatin']\n",
    "\n",
    "\n",
    "for i in students:\n",
    "    print('Hello',i,'How are you?')"
   ]
  },
  {
   "cell_type": "code",
   "execution_count": null,
   "id": "55d09ca9",
   "metadata": {},
   "outputs": [],
   "source": []
  },
  {
   "cell_type": "code",
   "execution_count": 41,
   "id": "eafc9a32",
   "metadata": {},
   "outputs": [
    {
     "name": "stdout",
     "output_type": "stream",
     "text": [
      "Hello sarwan, How are you?\n",
      "Hello komal, How are you?\n",
      "Hello ajay, How are you?\n",
      "Hello ravi, How are you?\n",
      "Hello karan, How are you?\n",
      "Hello abhay, How are you?\n",
      "Hello jatin, How are you?\n"
     ]
    }
   ],
   "source": [
    "students = ['sarwan','komal','ajay','ravi','karan','abhay','jatin']\n",
    "\n",
    "\n",
    "for i in students:\n",
    "    print(f'Hello {i}, How are you?')"
   ]
  },
  {
   "cell_type": "code",
   "execution_count": null,
   "id": "de5c45a9",
   "metadata": {},
   "outputs": [],
   "source": []
  },
  {
   "cell_type": "code",
   "execution_count": null,
   "id": "1defdd03",
   "metadata": {},
   "outputs": [],
   "source": []
  },
  {
   "cell_type": "code",
   "execution_count": 42,
   "id": "e9816180",
   "metadata": {},
   "outputs": [
    {
     "name": "stdout",
     "output_type": "stream",
     "text": [
      "HELLO SARWAN, HOW ARE YOU?\n",
      "HELLO KOMAL, HOW ARE YOU?\n",
      "HELLO AJAY, HOW ARE YOU?\n",
      "HELLO RAVI, HOW ARE YOU?\n",
      "HELLO KARAN, HOW ARE YOU?\n",
      "HELLO ABHAY, HOW ARE YOU?\n",
      "HELLO JATIN, HOW ARE YOU?\n"
     ]
    }
   ],
   "source": [
    "students = ['sarwan','komal','ajay','ravi','karan','abhay','jatin']\n",
    "\n",
    "\n",
    "for i in students:\n",
    "    print(f'Hello {i}, How are you?'.upper())"
   ]
  },
  {
   "cell_type": "code",
   "execution_count": null,
   "id": "6b40a3a6",
   "metadata": {},
   "outputs": [],
   "source": []
  },
  {
   "cell_type": "code",
   "execution_count": 46,
   "id": "95039513",
   "metadata": {},
   "outputs": [
    {
     "name": "stdout",
     "output_type": "stream",
     "text": [
      "[12, 334, 4, 2314, 24, 556, 6, 56, 46]\n"
     ]
    }
   ],
   "source": [
    "data = [12,334,4,2314,3543,24,556,57,6,7543,56,235,46]\n",
    "\n",
    "even = []\n",
    "odd = []\n",
    "\n",
    "for i in data:\n",
    "    if i % 2 == 0:\n",
    "        even.append(i)\n",
    "    else:\n",
    "        odd.append(i)\n",
    "        \n",
    "        \n",
    "print(even)"
   ]
  },
  {
   "cell_type": "code",
   "execution_count": 47,
   "id": "8a4ce819",
   "metadata": {},
   "outputs": [
    {
     "name": "stdout",
     "output_type": "stream",
     "text": [
      "[3543, 57, 7543, 235]\n"
     ]
    }
   ],
   "source": [
    "print(odd)"
   ]
  },
  {
   "cell_type": "code",
   "execution_count": null,
   "id": "3fd7ce85",
   "metadata": {},
   "outputs": [],
   "source": []
  },
  {
   "cell_type": "code",
   "execution_count": 48,
   "id": "facbadee",
   "metadata": {},
   "outputs": [
    {
     "name": "stdout",
     "output_type": "stream",
     "text": [
      "2 x 1 = 2\n",
      "2 x 2 = 4\n",
      "2 x 3 = 6\n",
      "2 x 4 = 8\n"
     ]
    }
   ],
   "source": [
    "# 2 x 1 = 2\n",
    "# 2 x 2 = 4\n",
    "\n",
    "print('2 x 1 = 2')\n",
    "print('2 x 2 = 4')\n",
    "print('2 x 3 = 6')\n",
    "print('2 x 4 = 8')"
   ]
  },
  {
   "cell_type": "code",
   "execution_count": 52,
   "id": "6ab89598",
   "metadata": {},
   "outputs": [
    {
     "name": "stdout",
     "output_type": "stream",
     "text": [
      "19 x 1 = 19\n",
      "19 x 2 = 38\n",
      "19 x 3 = 57\n",
      "19 x 4 = 76\n",
      "19 x 5 = 95\n",
      "19 x 6 = 114\n",
      "19 x 7 = 133\n",
      "19 x 8 = 152\n",
      "19 x 9 = 171\n",
      "19 x 10 = 190\n"
     ]
    }
   ],
   "source": [
    "data = [1,2,3,4,5,6,7,8,9,10]\n",
    "number = 19\n",
    "\n",
    "for i in data:\n",
    "    print(f'{number} x {i} = {number*i}')"
   ]
  },
  {
   "cell_type": "code",
   "execution_count": null,
   "id": "8c87fa83",
   "metadata": {},
   "outputs": [],
   "source": []
  },
  {
   "cell_type": "code",
   "execution_count": 53,
   "id": "4639408a",
   "metadata": {},
   "outputs": [
    {
     "data": {
      "text/plain": [
       "[1, 2, 3, 4, 5, 6, 7, 8, 9, 10]"
      ]
     },
     "execution_count": 53,
     "metadata": {},
     "output_type": "execute_result"
    }
   ],
   "source": []
  },
  {
   "cell_type": "code",
   "execution_count": 54,
   "id": "77fbb9c6",
   "metadata": {},
   "outputs": [
    {
     "name": "stdout",
     "output_type": "stream",
     "text": [
      "19 x 1 = 19\n",
      "19 x 2 = 38\n",
      "19 x 3 = 57\n",
      "19 x 4 = 76\n",
      "19 x 5 = 95\n",
      "19 x 6 = 114\n",
      "19 x 7 = 133\n",
      "19 x 8 = 152\n",
      "19 x 9 = 171\n",
      "19 x 10 = 190\n"
     ]
    }
   ],
   "source": [
    "data = list(range(1,11))\n",
    "number = 19\n",
    "\n",
    "for i in data:\n",
    "    print(f'{number} x {i} = {number*i}')"
   ]
  },
  {
   "cell_type": "code",
   "execution_count": 56,
   "id": "21db889b",
   "metadata": {},
   "outputs": [
    {
     "name": "stdout",
     "output_type": "stream",
     "text": [
      "21 x 1 = 21\n",
      "21 x 2 = 42\n",
      "21 x 3 = 63\n",
      "21 x 4 = 84\n",
      "21 x 5 = 105\n",
      "21 x 6 = 126\n",
      "21 x 7 = 147\n",
      "21 x 8 = 168\n",
      "21 x 9 = 189\n",
      "21 x 10 = 210\n"
     ]
    }
   ],
   "source": [
    "number = 21\n",
    "for i in range(1,11):\n",
    "    print(f'{number} x {i} = {number*i}')"
   ]
  },
  {
   "cell_type": "code",
   "execution_count": null,
   "id": "c1c40b8c",
   "metadata": {},
   "outputs": [],
   "source": []
  },
  {
   "cell_type": "markdown",
   "id": "e958f98a",
   "metadata": {},
   "source": [
    "# Summary\n",
    "    1>> Domain Study:- DS, DA, BA, Python, Data, AI, ML\n",
    "    2>> Python:- DA:-Python, Pandas, Numpy, Matplotlib, Seaborn, Mysql, Powerbi, Stats, Probability\n",
    "    3>> Python Intro:- Anaconda, Jupyter Notebook, use?\n",
    "    4>> Python:- Data types, Variables, List, tuple, set, str, dict, None, bool, int,float, complex\n",
    "    5>> Opeartors:- Arithmatic, assignment, membership, identity, logical, comparison, bitwise\n",
    "    6>> Some imp func:- sum,round, max,min,input, print, id, len, abs,exec, execfile,\n",
    "    7>> string data type:- basic op, single, double, triple, str_methods:- find, join, index, strip, split etc\n",
    "    8>> List data type:- empty, basic op, indexing, slicing, mutable, value change, list_methods\n",
    "    9>> tuple data type:- basic, method:- count, index\n",
    "    10>> Dict data type:- basic, key value concept, data types, no indexing slicing, value change with key, dict methods\n",
    "    11>> set data type:- basic, no duplicate, no nested set, no indexing slicing, set methods\n",
    "    12>> if else:- basic, problems, login, budget, rock paper game, number guess game, nested if else, pass, one liner if else, elif\n",
    "    13>> loop concept:- for loop, while, for loop:- iterate, limited data type, table, list even odd,allowed/not alllowed datatype"
   ]
  },
  {
   "cell_type": "code",
   "execution_count": null,
   "id": "032a3349",
   "metadata": {},
   "outputs": [],
   "source": []
  },
  {
   "cell_type": "code",
   "execution_count": 1,
   "id": "44f485ea",
   "metadata": {},
   "outputs": [],
   "source": [
    "# for loop, with pass , break, continue"
   ]
  },
  {
   "cell_type": "code",
   "execution_count": 6,
   "id": "afd88083",
   "metadata": {},
   "outputs": [
    {
     "name": "stdout",
     "output_type": "stream",
     "text": [
      "1 >> 101\n",
      "243 >> 343\n",
      "65 >> 165\n",
      "321 >> 421\n",
      "453 >> 553\n",
      "632 >> 732\n",
      "53 >> 153\n",
      "646 >> 746\n"
     ]
    }
   ],
   "source": [
    "data = [1,243,65,321,453,632,53,646]\n",
    "\n",
    "\n",
    "for i in data:\n",
    "    print(f'{i} >> {i+100}')"
   ]
  },
  {
   "cell_type": "code",
   "execution_count": 7,
   "id": "04fa7d61",
   "metadata": {},
   "outputs": [
    {
     "name": "stdout",
     "output_type": "stream",
     "text": [
      "1 >> 101\n",
      "243 >> 343\n",
      "65 >> 165\n",
      "321 >> 421\n",
      "632 >> 732\n",
      "53 >> 153\n",
      "646 >> 746\n"
     ]
    }
   ],
   "source": [
    "data = [1,243,65,321,453,632,53,646]\n",
    "\n",
    "# fstring:- to format string so that we can use variable with string\n",
    "# Question:- do not add 100 when i becomes 453\n",
    "# concept:- continue:- to skip that iteration\n",
    "for i in data:\n",
    "    \n",
    "    if i == 453:\n",
    "        continue   # skip this\n",
    "    else:\n",
    "        print(f'{i} >> {i+100}')"
   ]
  },
  {
   "cell_type": "code",
   "execution_count": 10,
   "id": "c6d4cc87",
   "metadata": {},
   "outputs": [
    {
     "name": "stdout",
     "output_type": "stream",
     "text": [
      "welcome karan\n",
      "welcome ajay\n",
      "welcome ravi\n"
     ]
    }
   ],
   "source": [
    "# break concept:- \n",
    "# when you know you loop condition satisfied or not than you can break your loop\n",
    "# break means:- loop will break and not run further\n",
    "\n",
    "\n",
    "\n",
    "data = ['karan','ajay','ravi','mohan','jatin','akshay']\n",
    "\n",
    "for i in data:\n",
    "    if i == 'mohan':\n",
    "        break\n",
    "    else:\n",
    "        print(f'welcome {i}')"
   ]
  },
  {
   "cell_type": "code",
   "execution_count": null,
   "id": "5b3d83ea",
   "metadata": {},
   "outputs": [],
   "source": []
  },
  {
   "cell_type": "code",
   "execution_count": 18,
   "id": "588052fc",
   "metadata": {},
   "outputs": [
    {
     "name": "stdout",
     "output_type": "stream",
     "text": [
      "Stop akshay, You are not allowed!!\n",
      "Welcome akshay >> Metro gate open!!\n",
      "Stop Mohan, You are not allowed!!\n",
      "Welcome Mohan >> Metro gate open!!\n",
      "Stop Karan, You are not allowed!!\n",
      "Welcome Karan >> Metro gate open!!\n",
      "Stop ravi, You are not allowed!!\n",
      "Stop Jatin, You are not allowed!!\n",
      "Welcome Jatin >> Metro gate open!!\n",
      "Stop rani, You are not allowed!!\n",
      "Welcome rani >> Metro gate open!!\n"
     ]
    }
   ],
   "source": [
    "data = {\"akshay\":True,'Mohan':True,'Karan':True,'ravi':False,'Jatin':True,'rani':True}\n",
    "import time\n",
    "\n",
    "# with continue\n",
    "\n",
    "for i in data:\n",
    "    if data[i] == False:\n",
    "        print(f'Stop {i}, You are not allowed!!')\n",
    "        continue   # no code will run after continue\n",
    "        print('BHCjhgfxg')   # this will not run\n",
    "        \n",
    "    else:\n",
    "        print(f'Welcome {i} >> Metro gate open!!')\n",
    "        \n",
    "    time.sleep(1)"
   ]
  },
  {
   "cell_type": "code",
   "execution_count": null,
   "id": "ce55eda3",
   "metadata": {},
   "outputs": [],
   "source": []
  },
  {
   "cell_type": "code",
   "execution_count": null,
   "id": "f3d32725",
   "metadata": {},
   "outputs": [],
   "source": []
  },
  {
   "cell_type": "code",
   "execution_count": null,
   "id": "48de5000",
   "metadata": {},
   "outputs": [],
   "source": []
  },
  {
   "cell_type": "code",
   "execution_count": 19,
   "id": "c0b0224b",
   "metadata": {},
   "outputs": [
    {
     "name": "stdout",
     "output_type": "stream",
     "text": [
      "Welcome akshay >> Metro gate open!!\n",
      "Welcome Mohan >> Metro gate open!!\n",
      "Welcome Karan >> Metro gate open!!\n",
      "Stop ravi, You are not allowed!!\n"
     ]
    }
   ],
   "source": [
    "data = {\"akshay\":True,'Mohan':True,'Karan':True,'ravi':False,'Jatin':True,'rani':True}\n",
    "import time\n",
    "\n",
    "# with break   # This will stop the further execution of loop\n",
    "\n",
    "for i in data:\n",
    "    if data[i] == False:\n",
    "        print(f'Stop {i}, You are not allowed!!')\n",
    "        break   # no code will run after break\n",
    "        \n",
    "    else:\n",
    "        print(f'Welcome {i} >> Metro gate open!!')\n",
    "        \n",
    "    time.sleep(1)"
   ]
  },
  {
   "cell_type": "code",
   "execution_count": null,
   "id": "4d103a7c",
   "metadata": {},
   "outputs": [],
   "source": []
  },
  {
   "cell_type": "code",
   "execution_count": 24,
   "id": "f0be7a38",
   "metadata": {},
   "outputs": [
    {
     "name": "stdout",
     "output_type": "stream",
     "text": [
      "Hello modi ji\n",
      "Welcome akshay >> Metro gate open!!\n",
      "Welcome Mohan >> Metro gate open!!\n",
      "Welcome Karan >> Metro gate open!!\n",
      "Welcome ravi >> Metro gate open!!\n",
      "Welcome Jatin >> Metro gate open!!\n",
      "Welcome rani >> Metro gate open!!\n"
     ]
    }
   ],
   "source": [
    "data = {'modi ji':None,\"akshay\":True,'Mohan':True,'Karan':True,'ravi':False,'Jatin':True,'rani':True}\n",
    "import time\n",
    "\n",
    "# with pass:- pass that iteration:- do noting eat 5 star\n",
    "\n",
    "for i in data:\n",
    "    if i == 'modi ji':\n",
    "        pass \n",
    "        print('Hello modi ji')   # after pass code, another code also run\n",
    "        \n",
    "    else:\n",
    "        print(f'Welcome {i} >> Metro gate open!!')\n",
    "        \n",
    "    time.sleep(1)"
   ]
  },
  {
   "cell_type": "code",
   "execution_count": 25,
   "id": "d80ba0db",
   "metadata": {},
   "outputs": [],
   "source": [
    "for i in range(100):\n",
    "    pass"
   ]
  },
  {
   "cell_type": "code",
   "execution_count": 26,
   "id": "53b50cce",
   "metadata": {},
   "outputs": [],
   "source": [
    "for i in range(100):\n",
    "    break"
   ]
  },
  {
   "cell_type": "code",
   "execution_count": 27,
   "id": "d75b90ed",
   "metadata": {},
   "outputs": [],
   "source": [
    "for i in range(100):\n",
    "    continue"
   ]
  },
  {
   "cell_type": "code",
   "execution_count": null,
   "id": "0ce5bb3c",
   "metadata": {},
   "outputs": [],
   "source": []
  },
  {
   "cell_type": "markdown",
   "id": "d1397c71",
   "metadata": {},
   "source": [
    "# New day"
   ]
  },
  {
   "cell_type": "code",
   "execution_count": 1,
   "id": "9485e35f",
   "metadata": {},
   "outputs": [],
   "source": [
    "# nested for loop"
   ]
  },
  {
   "cell_type": "code",
   "execution_count": 4,
   "id": "69b6495b",
   "metadata": {},
   "outputs": [
    {
     "name": "stdout",
     "output_type": "stream",
     "text": [
      "1 A\n",
      "1 B\n",
      "1 C\n",
      "1 D\n",
      "1 E\n",
      "1 F\n",
      "2 A\n",
      "2 B\n",
      "2 C\n",
      "2 D\n",
      "2 E\n",
      "2 F\n"
     ]
    }
   ],
   "source": [
    "for i in range(1,3):  # outer loop:- main loop\n",
    "    for j in 'ABCDEF':  # inner loop:- sub loop\n",
    "        print(i,j)"
   ]
  },
  {
   "cell_type": "code",
   "execution_count": 5,
   "id": "b2088cc7",
   "metadata": {},
   "outputs": [
    {
     "name": "stdout",
     "output_type": "stream",
     "text": [
      "1 1\n",
      "1 2\n",
      "2 1\n",
      "2 2\n"
     ]
    }
   ],
   "source": [
    "for i in range(1,3):  # outer loop:- main loop\n",
    "    for j in range(1,3):  # inner loop:- sub loop\n",
    "        print(i,j)"
   ]
  },
  {
   "cell_type": "code",
   "execution_count": 7,
   "id": "30bcc885",
   "metadata": {},
   "outputs": [
    {
     "name": "stdout",
     "output_type": "stream",
     "text": [
      "1 23\n",
      "1 123\n",
      "1 4\n",
      "1 34\n",
      "1 4456\n",
      "1 42\n",
      "1 45456\n",
      "23 23\n",
      "23 123\n",
      "23 4\n",
      "23 34\n",
      "23 4456\n",
      "23 42\n",
      "23 45456\n",
      "4521 23\n",
      "4521 123\n",
      "4521 4\n",
      "4521 34\n",
      "4521 4456\n",
      "4521 42\n",
      "4521 45456\n",
      "34 23\n",
      "34 123\n",
      "34 4\n",
      "34 34\n",
      "34 4456\n",
      "34 42\n",
      "34 45456\n",
      "345 23\n",
      "345 123\n",
      "345 4\n",
      "345 34\n",
      "345 4456\n",
      "345 42\n",
      "345 45456\n",
      "645732 23\n",
      "645732 123\n",
      "645732 4\n",
      "645732 34\n",
      "645732 4456\n",
      "645732 42\n",
      "645732 45456\n",
      "45 23\n",
      "45 123\n",
      "45 4\n",
      "45 34\n",
      "45 4456\n",
      "45 42\n",
      "45 45456\n"
     ]
    }
   ],
   "source": [
    "data = [1,23,4521,34,345,645732,45]\n",
    "\n",
    "data2 = [23,123,4,34,4456,42,45456]\n",
    "\n",
    "\n",
    "for i in data:\n",
    "    for j in data2:\n",
    "        print(i,j)"
   ]
  },
  {
   "cell_type": "code",
   "execution_count": 10,
   "id": "d3d7cbce",
   "metadata": {},
   "outputs": [
    {
     "name": "stdout",
     "output_type": "stream",
     "text": [
      "[23, 34]\n"
     ]
    }
   ],
   "source": [
    "data = [1,23,4521,34,345,645732,45]\n",
    "\n",
    "data2 = [23,123,4,34,4456,42,45456]\n",
    "\n",
    "common = []\n",
    "\n",
    "for i in data:\n",
    "    for j in data2:\n",
    "        if i == j:\n",
    "            common.append(i)\n",
    "            \n",
    "print(common)"
   ]
  },
  {
   "cell_type": "code",
   "execution_count": 14,
   "id": "121862ff",
   "metadata": {},
   "outputs": [
    {
     "name": "stdout",
     "output_type": "stream",
     "text": [
      "[34, 6, 45]\n"
     ]
    }
   ],
   "source": [
    "data = [1,23,4521,34,345,6,45732,45]\n",
    "\n",
    "data2 = [23,123,4,34,4,45,6,42,45456]\n",
    "\n",
    "datac = [12,345,65,32,13,45,6,34,5435]\n",
    "\n",
    "common = []\n",
    "\n",
    "\n",
    "for i in data:\n",
    "    for j in data2:\n",
    "        for k in datac:\n",
    "            if i == j == k:\n",
    "                common.append(i)\n",
    "                \n",
    "print(common)"
   ]
  },
  {
   "cell_type": "code",
   "execution_count": null,
   "id": "8bd6c122",
   "metadata": {},
   "outputs": [],
   "source": []
  },
  {
   "cell_type": "code",
   "execution_count": 15,
   "id": "6d5f46ff",
   "metadata": {},
   "outputs": [
    {
     "name": "stdout",
     "output_type": "stream",
     "text": [
      "{'Name': ['Aman', 'karan', 'akshay'], 'Address': ['Noida', 'Delhi', 'kanpur'], 'Salary': [78765, 98789, 67890], 'Emp_id': [1, 2, 3]}\n"
     ]
    }
   ],
   "source": [
    "data = {'Name':['Aman','karan','akshay'],\n",
    "       'Address':['Noida','Delhi','kanpur'],\n",
    "       'Salary':[78765,98789,67890],\n",
    "       'Emp_id':[1,2,3]}\n",
    "\n",
    "\n",
    "print(data)"
   ]
  },
  {
   "cell_type": "code",
   "execution_count": 17,
   "id": "3541c73a",
   "metadata": {},
   "outputs": [],
   "source": [
    "import pandas as pd"
   ]
  },
  {
   "cell_type": "code",
   "execution_count": 18,
   "id": "a52574f3",
   "metadata": {},
   "outputs": [
    {
     "data": {
      "text/html": [
       "<div>\n",
       "<style scoped>\n",
       "    .dataframe tbody tr th:only-of-type {\n",
       "        vertical-align: middle;\n",
       "    }\n",
       "\n",
       "    .dataframe tbody tr th {\n",
       "        vertical-align: top;\n",
       "    }\n",
       "\n",
       "    .dataframe thead th {\n",
       "        text-align: right;\n",
       "    }\n",
       "</style>\n",
       "<table border=\"1\" class=\"dataframe\">\n",
       "  <thead>\n",
       "    <tr style=\"text-align: right;\">\n",
       "      <th></th>\n",
       "      <th>Name</th>\n",
       "      <th>Address</th>\n",
       "      <th>Salary</th>\n",
       "      <th>Emp_id</th>\n",
       "    </tr>\n",
       "  </thead>\n",
       "  <tbody>\n",
       "    <tr>\n",
       "      <th>0</th>\n",
       "      <td>Aman</td>\n",
       "      <td>Noida</td>\n",
       "      <td>78765</td>\n",
       "      <td>1</td>\n",
       "    </tr>\n",
       "    <tr>\n",
       "      <th>1</th>\n",
       "      <td>karan</td>\n",
       "      <td>Delhi</td>\n",
       "      <td>98789</td>\n",
       "      <td>2</td>\n",
       "    </tr>\n",
       "    <tr>\n",
       "      <th>2</th>\n",
       "      <td>akshay</td>\n",
       "      <td>kanpur</td>\n",
       "      <td>67890</td>\n",
       "      <td>3</td>\n",
       "    </tr>\n",
       "  </tbody>\n",
       "</table>\n",
       "</div>"
      ],
      "text/plain": [
       "     Name Address  Salary  Emp_id\n",
       "0    Aman   Noida   78765       1\n",
       "1   karan   Delhi   98789       2\n",
       "2  akshay  kanpur   67890       3"
      ]
     },
     "execution_count": 18,
     "metadata": {},
     "output_type": "execute_result"
    }
   ],
   "source": [
    "pd.DataFrame(data)"
   ]
  },
  {
   "cell_type": "code",
   "execution_count": null,
   "id": "a35bf01d",
   "metadata": {},
   "outputs": [],
   "source": []
  },
  {
   "cell_type": "code",
   "execution_count": 32,
   "id": "07ca1fea",
   "metadata": {},
   "outputs": [
    {
     "name": "stdout",
     "output_type": "stream",
     "text": [
      "Enter no of employee you want's to add: 4\n",
      "Enter your Emp_id: 1\n",
      "Enter your Name: Jatin\n",
      "Enter your Salary: 87876\n",
      "Enter your Address: Noida\n",
      "Enter your Dept: It\n",
      "Enter your Phone number: 9898787654\n",
      "1 Record Added successfully!!\n",
      "\n",
      "\n",
      "\n",
      "Enter your Emp_id: 2\n",
      "Enter your Name: Komal Verma\n",
      "Enter your Salary: 87876\n",
      "Enter your Address: Delhi\n",
      "Enter your Dept: IT\n",
      "Enter your Phone number: 9898787684\n",
      "2 Record Added successfully!!\n",
      "\n",
      "\n",
      "\n",
      "Enter your Emp_id: 3\n",
      "Enter your Name: Akshay Khanna\n",
      "Enter your Salary: 87876\n",
      "Enter your Address: Greater Noida\n",
      "Enter your Dept: HR\n",
      "Enter your Phone number: 9898789854\n",
      "3 Record Added successfully!!\n",
      "\n",
      "\n",
      "\n",
      "Enter your Emp_id: 4\n",
      "Enter your Name: Ravi Malhotra\n",
      "Enter your Salary: 87876\n",
      "Enter your Address: Noida\n",
      "Enter your Dept: Sales\n",
      "Enter your Phone number: 9898787654\n",
      "4 Record Added successfully!!\n",
      "\n",
      "\n",
      "\n"
     ]
    },
    {
     "data": {
      "text/html": [
       "<div>\n",
       "<style scoped>\n",
       "    .dataframe tbody tr th:only-of-type {\n",
       "        vertical-align: middle;\n",
       "    }\n",
       "\n",
       "    .dataframe tbody tr th {\n",
       "        vertical-align: top;\n",
       "    }\n",
       "\n",
       "    .dataframe thead th {\n",
       "        text-align: right;\n",
       "    }\n",
       "</style>\n",
       "<table border=\"1\" class=\"dataframe\">\n",
       "  <thead>\n",
       "    <tr style=\"text-align: right;\">\n",
       "      <th></th>\n",
       "      <th>Emp_id</th>\n",
       "      <th>Name</th>\n",
       "      <th>Salary</th>\n",
       "      <th>Address</th>\n",
       "      <th>Dept</th>\n",
       "      <th>Phone number</th>\n",
       "    </tr>\n",
       "  </thead>\n",
       "  <tbody>\n",
       "    <tr>\n",
       "      <th>0</th>\n",
       "      <td>1</td>\n",
       "      <td>Jatin</td>\n",
       "      <td>87876</td>\n",
       "      <td>Noida</td>\n",
       "      <td>It</td>\n",
       "      <td>9898787654</td>\n",
       "    </tr>\n",
       "    <tr>\n",
       "      <th>1</th>\n",
       "      <td>2</td>\n",
       "      <td>Komal Verma</td>\n",
       "      <td>87876</td>\n",
       "      <td>Delhi</td>\n",
       "      <td>IT</td>\n",
       "      <td>9898787684</td>\n",
       "    </tr>\n",
       "    <tr>\n",
       "      <th>2</th>\n",
       "      <td>3</td>\n",
       "      <td>Akshay Khanna</td>\n",
       "      <td>87876</td>\n",
       "      <td>Greater Noida</td>\n",
       "      <td>HR</td>\n",
       "      <td>9898789854</td>\n",
       "    </tr>\n",
       "    <tr>\n",
       "      <th>3</th>\n",
       "      <td>4</td>\n",
       "      <td>Ravi Malhotra</td>\n",
       "      <td>87876</td>\n",
       "      <td>Noida</td>\n",
       "      <td>Sales</td>\n",
       "      <td>9898787654</td>\n",
       "    </tr>\n",
       "  </tbody>\n",
       "</table>\n",
       "</div>"
      ],
      "text/plain": [
       "  Emp_id           Name Salary        Address   Dept Phone number\n",
       "0      1          Jatin  87876          Noida     It   9898787654\n",
       "1      2    Komal Verma  87876          Delhi     IT   9898787684\n",
       "2      3  Akshay Khanna  87876  Greater Noida     HR   9898789854\n",
       "3      4  Ravi Malhotra  87876          Noida  Sales   9898787654"
      ]
     },
     "execution_count": 32,
     "metadata": {},
     "output_type": "execute_result"
    }
   ],
   "source": [
    "all_data = {'Emp_id':[],\n",
    "            'Name':[],\n",
    "           'Salary':[],\n",
    "           'Address':[],\n",
    "           'Dept':[],\n",
    "           'Phone number':[]}\n",
    "\n",
    "\n",
    "kitne_aadmi_the = int(input('Enter no of employee you want\\'s to add: '))\n",
    "\n",
    "\n",
    "for i in range(kitne_aadmi_the):\n",
    "    for j in all_data:\n",
    "        all_data[j].append(input(f'Enter your {j}: '))\n",
    "        \n",
    "    print(f'{i+1} Record Added successfully!!\\n\\n\\n')\n",
    "    \n",
    "    \n",
    "    \n",
    "table = pd.DataFrame(all_data)\n",
    "table"
   ]
  },
  {
   "cell_type": "code",
   "execution_count": 34,
   "id": "69077964",
   "metadata": {},
   "outputs": [
    {
     "name": "stdout",
     "output_type": "stream",
     "text": [
      "done\n"
     ]
    }
   ],
   "source": [
    "table.to_csv('Employee_table.csv')\n",
    "print('done')"
   ]
  },
  {
   "cell_type": "code",
   "execution_count": null,
   "id": "f8da8977",
   "metadata": {},
   "outputs": [],
   "source": []
  },
  {
   "cell_type": "code",
   "execution_count": null,
   "id": "bd83076b",
   "metadata": {},
   "outputs": [],
   "source": []
  },
  {
   "cell_type": "code",
   "execution_count": null,
   "id": "a2e59270",
   "metadata": {},
   "outputs": [],
   "source": []
  },
  {
   "cell_type": "code",
   "execution_count": 41,
   "id": "c2211c16",
   "metadata": {},
   "outputs": [
    {
     "name": "stdout",
     "output_type": "stream",
     "text": [
      "Enter kitni bar game khelna hai??: 4\n",
      "Enter your choice: paper\n",
      "comp choice:  rock\n",
      "User choice:  paper\n",
      "User wins, comp lose!!\n",
      "\n",
      "\n",
      "\n",
      "Enter your choice: rock\n",
      "comp choice:  rock\n",
      "User choice:  rock\n",
      "It's a tie\n",
      "\n",
      "\n",
      "\n",
      "Enter your choice: paper\n",
      "comp choice:  rock\n",
      "User choice:  paper\n",
      "User wins, comp lose!!\n",
      "\n",
      "\n",
      "\n",
      "Enter your choice: rock\n",
      "comp choice:  paper\n",
      "User choice:  rock\n",
      "comp wins, user lose!!\n",
      "\n",
      "\n",
      "\n",
      "Total Rewards Points:  1500\n"
     ]
    }
   ],
   "source": [
    "# nested if else:- infinite\n",
    "\n",
    "import random\n",
    "\n",
    "\n",
    "kitni_bar = int(input('Enter kitni bar game khelna hai??: '))\n",
    "\n",
    "\n",
    "rewards = 0\n",
    "\n",
    "for i in range(kitni_bar):\n",
    "\n",
    "    comp_choice = random.choice(['rock','paper','scissors'])\n",
    "    user_choice = input('Enter your choice: ').lower()\n",
    "\n",
    "\n",
    "    print('comp choice: ',comp_choice)\n",
    "    print('User choice: ',user_choice)\n",
    "\n",
    "\n",
    "    if user_choice == comp_choice:\n",
    "        print(\"It's a tie\")\n",
    "\n",
    "    elif user_choice == 'rock':\n",
    "        if comp_choice == 'paper':\n",
    "            print('comp wins, user lose!!')\n",
    "            rewards-= 500\n",
    "\n",
    "        else:\n",
    "            print('User wins, comp lose!!')\n",
    "            rewards+= 1000\n",
    "\n",
    "    elif user_choice == 'paper':\n",
    "        if comp_choice == 'scissors':\n",
    "            print('comp wins, user lose!!')\n",
    "            rewards-= 500\n",
    "        else:\n",
    "            print('User wins, comp lose!!')\n",
    "            rewards+= 1000\n",
    "\n",
    "    elif user_choice == 'scissors':\n",
    "        if comp_choice == 'rock':\n",
    "            print('comp wins, user lose!!')\n",
    "            rewards-= 500\n",
    "\n",
    "        else:\n",
    "            print('User wins, comp lose!!')\n",
    "            rewards+= 1000\n",
    "\n",
    "\n",
    "    else:\n",
    "        print('Invalid choice!!')\n",
    "        \n",
    "    print('\\n\\n')\n",
    "    \n",
    "\n",
    "if rewards>0:\n",
    "    print('Total Rewards Points: ',rewards)\n",
    "else:\n",
    "    print('Total Rewards Points: ',0)"
   ]
  },
  {
   "cell_type": "code",
   "execution_count": null,
   "id": "1360a251",
   "metadata": {},
   "outputs": [],
   "source": []
  }
 ],
 "metadata": {
  "kernelspec": {
   "display_name": "Python 3 (ipykernel)",
   "language": "python",
   "name": "python3"
  },
  "language_info": {
   "codemirror_mode": {
    "name": "ipython",
    "version": 3
   },
   "file_extension": ".py",
   "mimetype": "text/x-python",
   "name": "python",
   "nbconvert_exporter": "python",
   "pygments_lexer": "ipython3",
   "version": "3.11.3"
  }
 },
 "nbformat": 4,
 "nbformat_minor": 5
}
